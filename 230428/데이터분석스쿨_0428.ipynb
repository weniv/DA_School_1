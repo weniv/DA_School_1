{
  "nbformat": 4,
  "nbformat_minor": 0,
  "metadata": {
    "colab": {
      "provenance": []
    },
    "kernelspec": {
      "name": "python3",
      "display_name": "Python 3"
    },
    "language_info": {
      "name": "python"
    }
  },
  "cells": [
    {
      "cell_type": "markdown",
      "source": [
        "## 함수"
      ],
      "metadata": {
        "id": "pPAcIDpqUr7B"
      }
    },
    {
      "cell_type": "code",
      "execution_count": null,
      "metadata": {
        "id": "d0Z82K2QTzf_"
      },
      "outputs": [],
      "source": [
        "def 부지매입():\n",
        "    pass\n",
        "\n",
        "def 설계도면작성():\n",
        "    pass\n",
        "\n",
        "def 인력모집():\n",
        "    pass\n",
        "\n",
        "def 벽돌쌓기():\n",
        "    pass\n",
        "\n",
        "def 지붕올리기():\n",
        "    pass\n",
        "\n",
        "부지매입()\n",
        "설계도면작성()\n",
        "인력모집()\n",
        "벽돌쌓기()\n",
        "지붕올리기()"
      ]
    },
    {
      "cell_type": "code",
      "source": [
        "# 파선아실\n",
        "def function(x, y):\n",
        "    z = x + y\n",
        "    return z\n",
        "print(f'function(5, 7) = {function(5, 7)}')"
      ],
      "metadata": {
        "colab": {
          "base_uri": "https://localhost:8080/"
        },
        "id": "S_SJLSpsVMD9",
        "outputId": "021e2068-ae28-4091-b926-e95983ed0f88"
      },
      "execution_count": 2,
      "outputs": [
        {
          "output_type": "stream",
          "name": "stdout",
          "text": [
            "function(5, 7) = 12\n"
          ]
        }
      ]
    },
    {
      "cell_type": "code",
      "source": [
        "# 같은 코드 1\n",
        "def function(x, y):\n",
        "    z = x + y\n",
        "print(f'function(5, 7) = {function(5, 7)}')"
      ],
      "metadata": {
        "colab": {
          "base_uri": "https://localhost:8080/"
        },
        "id": "1Qvqwcp0YCVL",
        "outputId": "d40db24c-dfcc-483b-a710-27a405f12220"
      },
      "execution_count": 3,
      "outputs": [
        {
          "output_type": "stream",
          "name": "stdout",
          "text": [
            "function(5, 7) = None\n"
          ]
        }
      ]
    },
    {
      "cell_type": "code",
      "source": [
        "# 같은 코드 1\n",
        "def function(x, y):\n",
        "    z = x + y\n",
        "    return None\n",
        "print(f'function(5, 7) = {function(5, 7)}')"
      ],
      "metadata": {
        "id": "-6FFjU6SYW92"
      },
      "execution_count": null,
      "outputs": []
    },
    {
      "cell_type": "code",
      "source": [
        "# 전혀 다른 코드\n",
        "# print와 return은 다릅니다!\n",
        "def function(x, y):\n",
        "    z = x + y\n",
        "print(f'function(5, 7) = {function(5, 7)}')"
      ],
      "metadata": {
        "colab": {
          "base_uri": "https://localhost:8080/"
        },
        "id": "1cGo9cBZYfI7",
        "outputId": "3f1c20f7-eefa-4171-bd05-f69e3208f65e"
      },
      "execution_count": 4,
      "outputs": [
        {
          "output_type": "stream",
          "name": "stdout",
          "text": [
            "None\n",
            "function(5, 7) = None\n"
          ]
        }
      ]
    },
    {
      "cell_type": "code",
      "source": [
        "def function():\n",
        "    print('hello')\n",
        "    print('hello')\n",
        "    print('hello')\n",
        "    print('hello')\n",
        "\n",
        "print(function())"
      ],
      "metadata": {
        "colab": {
          "base_uri": "https://localhost:8080/"
        },
        "id": "sydVPgxvY2DU",
        "outputId": "b1d0ca5a-0301-40b7-bd1e-095f7d589551"
      },
      "execution_count": 6,
      "outputs": [
        {
          "output_type": "stream",
          "name": "stdout",
          "text": [
            "hello\n",
            "hello\n",
            "hello\n",
            "hello\n",
            "None\n"
          ]
        }
      ]
    },
    {
      "cell_type": "code",
      "source": [
        "def function(x, y): # Input\n",
        "    z = x + y       # Function\n",
        "    print(z)        # Output?\n",
        "print(f'function(5, 7) = {function(5, 7)}')"
      ],
      "metadata": {
        "colab": {
          "base_uri": "https://localhost:8080/"
        },
        "id": "SzPGbhTCZh4-",
        "outputId": "d82f1f1f-ee6e-46eb-fd20-29d7402bbbea"
      },
      "execution_count": 9,
      "outputs": [
        {
          "output_type": "stream",
          "name": "stdout",
          "text": [
            "12\n",
            "function(5,7) = None\n"
          ]
        }
      ]
    },
    {
      "cell_type": "code",
      "source": [
        "def function(x, y): # Input\n",
        "    z = x + y       # Function\n",
        "    print(z)        # Output?\n",
        "    return None\n",
        "print(f'function(5, 7) = {function(5, 7)}')"
      ],
      "metadata": {
        "id": "YJyOnZ_WaQ37"
      },
      "execution_count": null,
      "outputs": []
    },
    {
      "cell_type": "code",
      "source": [
        "def function(x, y):\n",
        "    print('hello')\n",
        "    print('hello')\n",
        "    print('hello')\n",
        "    print('hello')\n",
        "    return x + y\n",
        "\n",
        "x = function(1, 1)\n",
        "print(x + x)"
      ],
      "metadata": {
        "colab": {
          "base_uri": "https://localhost:8080/"
        },
        "id": "gX17BEwtaUF8",
        "outputId": "c3187434-1bfc-4205-8e5c-c5229a5c130a"
      },
      "execution_count": 10,
      "outputs": [
        {
          "output_type": "stream",
          "name": "stdout",
          "text": [
            "hello\n",
            "hello\n",
            "hello\n",
            "hello\n",
            "4\n"
          ]
        }
      ]
    },
    {
      "cell_type": "code",
      "source": [
        "def function1(x):\n",
        "    print('world1')\n",
        "    print('world2')\n",
        "    print('world3')\n",
        "\n",
        "def function2(x, y):\n",
        "    print('hello1')\n",
        "    print('hello2')\n",
        "    return x + y\n",
        "\n",
        "a = function1(1)\n",
        "b = function2(3, 4)\n",
        "print(a, b)"
      ],
      "metadata": {
        "id": "jgCwbmukbOMO"
      },
      "execution_count": null,
      "outputs": []
    },
    {
      "cell_type": "code",
      "source": [
        "def function1(x):\n",
        "    print('world1')\n",
        "    print('world2')\n",
        "    print('world3')\n",
        "    return x + x\n",
        "\n",
        "def function2(x, y):\n",
        "    print('hello1')\n",
        "    print('hello2')\n",
        "    z = function1(10)\n",
        "    return x + y + z\n",
        "\n",
        "a = function1(1)\n",
        "b = function2(3, 4)\n",
        "print(a, b)"
      ],
      "metadata": {
        "colab": {
          "base_uri": "https://localhost:8080/"
        },
        "id": "Bqek7iQCd765",
        "outputId": "8819b37b-a932-4d11-e4d1-49dbfb2a7afb"
      },
      "execution_count": 11,
      "outputs": [
        {
          "output_type": "stream",
          "name": "stdout",
          "text": [
            "world1\n",
            "world2\n",
            "world3\n",
            "hello1\n",
            "hello2\n",
            "world1\n",
            "world2\n",
            "world3\n",
            "2 27\n"
          ]
        }
      ]
    },
    {
      "cell_type": "code",
      "source": [
        "# 함수 안에 있는 변수나 함수는 함수가 끝나면 휘발됩니다. \n",
        "# 메모리에서 사라져요.\n",
        "def f2(x, y):\n",
        "    def f1(x):\n",
        "        print('world1')\n",
        "        return x + x\n",
        "    print('hello1')\n",
        "    z = f1(10)\n",
        "    return x + y + z\n",
        "\n",
        "# a = f1(1) # 함수 안에 있는 함수는 밖에서 호출할 수 있지 않습니다.\n",
        "b = f2(3, 4)\n",
        "print(b)\n",
        "\n",
        "# print(z) # 함수가 끝났기 때문에 x, y, z에 접근할 수 없습니다."
      ],
      "metadata": {
        "colab": {
          "base_uri": "https://localhost:8080/"
        },
        "id": "4CW4035xhR13",
        "outputId": "32caa0c1-81ab-4d89-a07d-673ddaacf375"
      },
      "execution_count": 16,
      "outputs": [
        {
          "output_type": "stream",
          "name": "stdout",
          "text": [
            "hello1\n",
            "world1\n",
            "27\n"
          ]
        }
      ]
    },
    {
      "cell_type": "code",
      "source": [
        "# 1\n",
        "x = 100\n",
        "def plusX(x):\n",
        "    x = x + 100\n",
        "    return x\n",
        "\n",
        "print(plusX(10))"
      ],
      "metadata": {
        "id": "fBWRAi9LiiSL"
      },
      "execution_count": null,
      "outputs": []
    },
    {
      "cell_type": "code",
      "source": [
        "# 2\n",
        "x = 100\n",
        "def plusX(z):\n",
        "    z = z + x\n",
        "    return z\n",
        "\n",
        "print(plusX(10))"
      ],
      "metadata": {
        "colab": {
          "base_uri": "https://localhost:8080/"
        },
        "id": "X5yXxk04jKw1",
        "outputId": "89c06e8f-ea7c-4d54-bfad-82b0ea8fc201"
      },
      "execution_count": 17,
      "outputs": [
        {
          "output_type": "stream",
          "name": "stdout",
          "text": [
            "110\n"
          ]
        }
      ]
    },
    {
      "cell_type": "code",
      "source": [
        "# 3\n",
        "# 문제가 생기는 코드\n",
        "x = 100\n",
        "def plusX(z):\n",
        "    x = z + x\n",
        "    return z\n",
        "\n",
        "print(plusX(10))"
      ],
      "metadata": {
        "id": "4POdYBIemSSN"
      },
      "execution_count": null,
      "outputs": []
    },
    {
      "cell_type": "code",
      "source": [
        "# 4\n",
        "# 문제가 생기지 않는 코드\n",
        "x = 100\n",
        "def plusX(z):\n",
        "    global x # 권하지 않습니다.\n",
        "    x = z + x\n",
        "    return z\n",
        "\n",
        "print(plusX(10))\n",
        "x"
      ],
      "metadata": {
        "colab": {
          "base_uri": "https://localhost:8080/"
        },
        "id": "Xn2KTrRQnFBs",
        "outputId": "4e05cff9-e9bb-4271-89a3-403fcbe9be5c"
      },
      "execution_count": 20,
      "outputs": [
        {
          "output_type": "stream",
          "name": "stdout",
          "text": [
            "10\n"
          ]
        },
        {
          "output_type": "execute_result",
          "data": {
            "text/plain": [
              "110"
            ]
          },
          "metadata": {},
          "execution_count": 20
        }
      ]
    },
    {
      "cell_type": "code",
      "source": [
        "# 5\n",
        "x = 100\n",
        "def plusX(x):\n",
        "    return x + 10\n",
        "\n",
        "x = plusX(x)"
      ],
      "metadata": {
        "id": "W08Wg4Z5nMeQ"
      },
      "execution_count": null,
      "outputs": []
    },
    {
      "cell_type": "code",
      "source": [
        "x = 100\n",
        "def plusX(z):\n",
        "  # v가 x를 가리키게 되었기 때문에 수정할 수 있는 권한이 들어오지 않았을까?\n",
        "  # No\n",
        "  v = x\n",
        "  x = z + x\n",
        "  return z\n",
        "\n",
        "plusX(10)"
      ],
      "metadata": {
        "id": "oL93dgbMo3uS"
      },
      "execution_count": null,
      "outputs": []
    },
    {
      "cell_type": "code",
      "source": [
        "def changePrint():\n",
        "  print = 100\n",
        "  return print\n",
        "\n",
        "changePrint()"
      ],
      "metadata": {
        "colab": {
          "base_uri": "https://localhost:8080/"
        },
        "id": "EiH-zb6YpY16",
        "outputId": "84f53f1e-4111-4efb-d282-481366521ada"
      },
      "execution_count": 24,
      "outputs": [
        {
          "output_type": "execute_result",
          "data": {
            "text/plain": [
              "100"
            ]
          },
          "metadata": {},
          "execution_count": 24
        }
      ]
    },
    {
      "cell_type": "code",
      "source": [
        "print = 100\n",
        "print"
      ],
      "metadata": {
        "colab": {
          "base_uri": "https://localhost:8080/"
        },
        "id": "2jDznjzopm6u",
        "outputId": "e0307c35-cd3b-424d-8b31-0465d5ff0ecf"
      },
      "execution_count": 26,
      "outputs": [
        {
          "output_type": "execute_result",
          "data": {
            "text/plain": [
              "100"
            ]
          },
          "metadata": {},
          "execution_count": 26
        }
      ]
    },
    {
      "cell_type": "code",
      "source": [
        "x = 100\n",
        "def plusX():\n",
        "    global x # 권장하지 않습니다.\n",
        "    x += 100\n",
        "\n",
        "plusX()\n",
        "x"
      ],
      "metadata": {
        "colab": {
          "base_uri": "https://localhost:8080/"
        },
        "id": "dzTxsGXJqMgC",
        "outputId": "96022968-6dfc-44f3-9eb8-9ab0c83224e4"
      },
      "execution_count": 1,
      "outputs": [
        {
          "output_type": "execute_result",
          "data": {
            "text/plain": [
              "200"
            ]
          },
          "metadata": {},
          "execution_count": 1
        }
      ]
    },
    {
      "cell_type": "markdown",
      "source": [
        "## 재귀함수"
      ],
      "metadata": {
        "id": "62L0BV_3q5xm"
      }
    },
    {
      "cell_type": "code",
      "source": [
        "# 대부분의 코드는 for로 대체할 수 있습니다.\n",
        "# 효율도 매우 좋지 않습니다. 다만 메모라이징 기법을 사용하면 좋긴 합니다.\n",
        "# 다이나믹 프로그래밍 등 필수적으로 사용되는 곳이 있기도 합니다."
      ],
      "metadata": {
        "id": "ZP55GPJOq48K"
      },
      "execution_count": null,
      "outputs": []
    },
    {
      "cell_type": "code",
      "source": [
        "#sys.setrecursionlimit -> 제한을 늘릴 수 있음\n",
        "def 숫자출력():\n",
        "    print(1)\n",
        "    return 숫자출력()\n",
        "숫자출력()"
      ],
      "metadata": {
        "id": "1ciS4bwCrPb-"
      },
      "execution_count": null,
      "outputs": []
    },
    {
      "cell_type": "code",
      "source": [
        "def factorial(n):\n",
        "    if n == 1:\n",
        "        return n\n",
        "    return n * factorial(n-1)\n",
        "\n",
        "factorial(5)\n",
        "\n",
        "#                 return 값\n",
        "# factorial(5) == 5 * factorial(4) == 5 * 24\n",
        "# factorial(4) == 4 * factorial(3) == 4 * 6\n",
        "# factorial(3) == 3 * factorial(2) == 3 * 2\n",
        "# factorial(2) == 2 * factorial(1) == 2 * 1\n",
        "# factorial(1) == 1"
      ],
      "metadata": {
        "colab": {
          "base_uri": "https://localhost:8080/"
        },
        "id": "Xi_JLQICr_dl",
        "outputId": "04f822f8-4702-4f01-d122-e17bc8a89ead"
      },
      "execution_count": 2,
      "outputs": [
        {
          "output_type": "execute_result",
          "data": {
            "text/plain": [
              "120"
            ]
          },
          "metadata": {},
          "execution_count": 2
        }
      ]
    },
    {
      "cell_type": "code",
      "source": [
        "result = 1\n",
        "for i in range(1, 6):\n",
        "    result *= i\n",
        "\n",
        "result"
      ],
      "metadata": {
        "colab": {
          "base_uri": "https://localhost:8080/"
        },
        "id": "EsfRARDptnc_",
        "outputId": "c27a23c5-eada-410c-cedd-3c07e4bff9a7"
      },
      "execution_count": 3,
      "outputs": [
        {
          "output_type": "execute_result",
          "data": {
            "text/plain": [
              "120"
            ]
          },
          "metadata": {},
          "execution_count": 3
        }
      ]
    },
    {
      "cell_type": "code",
      "source": [
        "def string_reverse(s):\n",
        "    if len(s) == 1:\n",
        "        return s\n",
        "    return s[0] + string_reverse(s[1:])\n",
        "\n",
        "string_reverse('hello world')"
      ],
      "metadata": {
        "colab": {
          "base_uri": "https://localhost:8080/",
          "height": 35
        },
        "id": "jHQtUZTFvSU8",
        "outputId": "7c335b9b-c291-4e7a-bb50-54a5119b64a3"
      },
      "execution_count": 11,
      "outputs": [
        {
          "output_type": "execute_result",
          "data": {
            "text/plain": [
              "'hello world'"
            ],
            "application/vnd.google.colaboratory.intrinsic+json": {
              "type": "string"
            }
          },
          "metadata": {},
          "execution_count": 11
        }
      ]
    },
    {
      "cell_type": "code",
      "source": [
        "def string_reverse(s):\n",
        "    if len(s) == 1: # 얼리리턴(코드가 매우 길면 가능하면 앞쪽에서 return 해주는 것이 효율적입니다.)\n",
        "        return s\n",
        "    return string_reverse(s[1:]) + s[0]\n",
        "\n",
        "string_reverse('hello world')"
      ],
      "metadata": {
        "colab": {
          "base_uri": "https://localhost:8080/",
          "height": 35
        },
        "id": "fYGwO7Dmvl3n",
        "outputId": "d08cfec3-9dac-4ad2-b033-cfdd1a17da7f"
      },
      "execution_count": 12,
      "outputs": [
        {
          "output_type": "execute_result",
          "data": {
            "text/plain": [
              "'dlrow olleh'"
            ],
            "application/vnd.google.colaboratory.intrinsic+json": {
              "type": "string"
            }
          },
          "metadata": {},
          "execution_count": 12
        }
      ]
    },
    {
      "cell_type": "code",
      "source": [
        "def string_reverse(s):\n",
        "    if len(s) == 1:\n",
        "        return s\n",
        "    return string_reverse(s[1:]) + s[0]\n",
        "\n",
        "string_reverse('hello')\n",
        "\n",
        "# string_reverse('hello') == string_reverse('ello') + 'h' == 'olle' + 'h' == 'olleh'\n",
        "# string_reverse('ello') == string_reverse('llo') + 'e' == 'oll' + 'e' == 'olle'\n",
        "# string_reverse('llo') == string_reverse('lo') + 'l' == 'ol' + 'l' == 'oll'\n",
        "# string_reverse('lo') == string_reverse('o') + 'l' == 'o' + 'l' == 'ol'\n",
        "# string_reverse('o') == 'o'"
      ],
      "metadata": {
        "id": "X1vp5wZtwDcB"
      },
      "execution_count": null,
      "outputs": []
    },
    {
      "cell_type": "code",
      "source": [
        "'hello world'[1:]\n",
        "'ello world'[1:]"
      ],
      "metadata": {
        "colab": {
          "base_uri": "https://localhost:8080/",
          "height": 35
        },
        "id": "mCSIQs3VwMuA",
        "outputId": "751494f3-58be-46e8-aea9-0defefe6eed5"
      },
      "execution_count": 14,
      "outputs": [
        {
          "output_type": "execute_result",
          "data": {
            "text/plain": [
              "'llo world'"
            ],
            "application/vnd.google.colaboratory.intrinsic+json": {
              "type": "string"
            }
          },
          "metadata": {},
          "execution_count": 14
        }
      ]
    },
    {
      "cell_type": "code",
      "source": [
        "s = 'leehojun'\n",
        "result = ''\n",
        "for i in s:\n",
        "    result = i + result\n",
        "\n",
        "result"
      ],
      "metadata": {
        "colab": {
          "base_uri": "https://localhost:8080/",
          "height": 35
        },
        "id": "ySwSYNCet4dy",
        "outputId": "77d223a3-7ab2-4462-fc88-5219571815af"
      },
      "execution_count": 5,
      "outputs": [
        {
          "output_type": "execute_result",
          "data": {
            "text/plain": [
              "'nujoheel'"
            ],
            "application/vnd.google.colaboratory.intrinsic+json": {
              "type": "string"
            }
          },
          "metadata": {},
          "execution_count": 5
        }
      ]
    },
    {
      "cell_type": "code",
      "source": [
        "for i in 'leehojun':\n",
        "    print(i)"
      ],
      "metadata": {
        "id": "wNVxEzvzutdk"
      },
      "execution_count": null,
      "outputs": []
    },
    {
      "cell_type": "code",
      "source": [
        "s = 'leehojun'\n",
        "result = ''\n",
        "for i in s:\n",
        "    print('----------')\n",
        "    print(i)\n",
        "    print(f'연산 전 result : {result}')\n",
        "    result = i + result\n",
        "    print(f'연산 후 result : {result}')\n",
        "\n",
        "result"
      ],
      "metadata": {
        "colab": {
          "base_uri": "https://localhost:8080/",
          "height": 606
        },
        "id": "bmwVc58Pu0FL",
        "outputId": "be5af3d0-8692-46ea-f560-b4fd2bb24c7d"
      },
      "execution_count": 8,
      "outputs": [
        {
          "output_type": "stream",
          "name": "stdout",
          "text": [
            "----------\n",
            "l\n",
            "연산 전 result : \n",
            "연산 후 result : l\n",
            "----------\n",
            "e\n",
            "연산 전 result : l\n",
            "연산 후 result : el\n",
            "----------\n",
            "e\n",
            "연산 전 result : el\n",
            "연산 후 result : eel\n",
            "----------\n",
            "h\n",
            "연산 전 result : eel\n",
            "연산 후 result : heel\n",
            "----------\n",
            "o\n",
            "연산 전 result : heel\n",
            "연산 후 result : oheel\n",
            "----------\n",
            "j\n",
            "연산 전 result : oheel\n",
            "연산 후 result : joheel\n",
            "----------\n",
            "u\n",
            "연산 전 result : joheel\n",
            "연산 후 result : ujoheel\n",
            "----------\n",
            "n\n",
            "연산 전 result : ujoheel\n",
            "연산 후 result : nujoheel\n"
          ]
        },
        {
          "output_type": "execute_result",
          "data": {
            "text/plain": [
              "'nujoheel'"
            ],
            "application/vnd.google.colaboratory.intrinsic+json": {
              "type": "string"
            }
          },
          "metadata": {},
          "execution_count": 8
        }
      ]
    },
    {
      "cell_type": "code",
      "source": [
        "# 재귀가 얼마나 비효율 적인지 보여주는 사례\n",
        "def fib(num):\n",
        "    if num == 0:\n",
        "        return 0\n",
        "    if num == 1 or num == 2:\n",
        "        return 1\n",
        "    else:\n",
        "        return fib(num-1) + fib(num-2)\n",
        "\n",
        "fib(35)"
      ],
      "metadata": {
        "colab": {
          "base_uri": "https://localhost:8080/"
        },
        "id": "Il-24s6yEhul",
        "outputId": "9b3f0060-7b33-49ba-aa99-3a22da005593"
      },
      "execution_count": 18,
      "outputs": [
        {
          "output_type": "execute_result",
          "data": {
            "text/plain": [
              "9227465"
            ]
          },
          "metadata": {},
          "execution_count": 18
        }
      ]
    },
    {
      "cell_type": "code",
      "source": [
        "from functools import lru_cache\n",
        "\n",
        "@lru_cache(maxsize=None)\n",
        "def fib(num):\n",
        "    if num == 0:\n",
        "        return 0\n",
        "    if num == 1 or num == 2:\n",
        "        return 1\n",
        "    else:\n",
        "        return fib(num-1) + fib(num-2)\n",
        "\n",
        "fib(40)"
      ],
      "metadata": {
        "colab": {
          "base_uri": "https://localhost:8080/"
        },
        "id": "2EhsbIXaDpmB",
        "outputId": "833c10ee-69b5-4fcb-c549-f10b494562aa"
      },
      "execution_count": 21,
      "outputs": [
        {
          "output_type": "execute_result",
          "data": {
            "text/plain": [
              "102334155"
            ]
          },
          "metadata": {},
          "execution_count": 21
        }
      ]
    },
    {
      "cell_type": "markdown",
      "source": [
        "## 연습문제"
      ],
      "metadata": {
        "id": "ePtDPwjRFbPv"
      }
    },
    {
      "cell_type": "code",
      "source": [
        "a = 'pithon'\n",
        "\n",
        "def 함수1():\n",
        "    def 함수2():\n",
        "        print('love')\n",
        "        \n",
        "    print('I')\n",
        "    함수2()\n",
        "    return \"python\"\n",
        "\t\n",
        "\n",
        "a = 함수1()\n",
        "print(a)"
      ],
      "metadata": {
        "colab": {
          "base_uri": "https://localhost:8080/"
        },
        "id": "9ybK5L9nIPou",
        "outputId": "5fb6402a-afbc-4beb-9042-b9b1e90089c7"
      },
      "execution_count": 37,
      "outputs": [
        {
          "output_type": "stream",
          "name": "stdout",
          "text": [
            "I\n",
            "love\n",
            "python\n"
          ]
        }
      ]
    },
    {
      "cell_type": "code",
      "source": [
        "# 좋은 코드는 아닙니다.\n",
        "def plus(num1, num2):\n",
        "    return num1 + num2\n",
        "\n",
        "def minus(num1, num2):\n",
        "    return num1 - num2\n",
        "\n",
        "def multiply(num1, num2):\n",
        "    return num1 * num2\n",
        "\n",
        "def divide(num1, num2):\n",
        "    return num1 / num2\n",
        "\n",
        "print(f'plus : {plus(10, 5)}')\n",
        "print(f'minus : {minus(10, 5)}')\n",
        "print(f'multiply : {multiply(10, 5)}')\n",
        "print(f'divide : {divide(10, 5)}')"
      ],
      "metadata": {
        "id": "fGDXEb_pIsAb"
      },
      "execution_count": null,
      "outputs": []
    },
    {
      "cell_type": "code",
      "source": [
        "def plus(num1, num2):\n",
        "    try:\n",
        "        result = int(num1) + int(num2)\n",
        "        return result\n",
        "    except:\n",
        "        return '연산할 수 없습니다.'\n",
        "\n",
        "print(f'plus : {plus(10, 5)}')\n",
        "print(f'plus : {plus(\"10\", \"5\")}')\n",
        "print(f'plus : {plus(\"10\", 5)}')\n",
        "print(f'plus : {plus(10, \"5\")}')\n",
        "print(f'plus : {plus(\"abc\", 5)}')\n",
        "print(f'plus : {plus(10, \"abc\")}')"
      ],
      "metadata": {
        "colab": {
          "base_uri": "https://localhost:8080/"
        },
        "id": "6B_aI8FpI7N5",
        "outputId": "5929ddff-fda5-4a83-a985-bbf969ca5831"
      },
      "execution_count": 40,
      "outputs": [
        {
          "output_type": "stream",
          "name": "stdout",
          "text": [
            "plus : 15\n",
            "plus : 15\n",
            "plus : 15\n",
            "plus : 15\n",
            "plus : 연산할 수 없습니다.\n",
            "plus : 연산할 수 없습니다.\n"
          ]
        }
      ]
    },
    {
      "cell_type": "code",
      "source": [
        "def plus(num1, num2):\n",
        "    try:\n",
        "        result = int(num1) + int(num2)\n",
        "        return result\n",
        "    except:\n",
        "        return float(\"inf\")\n",
        "\n",
        "print(f'plus : {plus(10, 5)}')\n",
        "print(f'plus : {plus(\"10\", \"5\")}')\n",
        "print(f'plus : {plus(\"10\", 5)}')\n",
        "print(f'plus : {plus(10, \"5\")}')\n",
        "print(f'plus : {plus(\"abc\", 5)}')\n",
        "print(f'plus : {plus(10, \"abc\")}')"
      ],
      "metadata": {
        "colab": {
          "base_uri": "https://localhost:8080/"
        },
        "id": "tKBjK81uKHNN",
        "outputId": "255165fa-da8a-4dda-c08c-26227d608735"
      },
      "execution_count": 41,
      "outputs": [
        {
          "output_type": "stream",
          "name": "stdout",
          "text": [
            "plus : 15\n",
            "plus : 15\n",
            "plus : 15\n",
            "plus : 15\n",
            "plus : inf\n",
            "plus : inf\n"
          ]
        }
      ]
    },
    {
      "cell_type": "code",
      "source": [
        "float(\"inf\") > 1000000000000000000000"
      ],
      "metadata": {
        "colab": {
          "base_uri": "https://localhost:8080/"
        },
        "id": "6Uilr1siJ0J7",
        "outputId": "09dcbf00-4516-4876-de91-a8bdfafa1a43"
      },
      "execution_count": 44,
      "outputs": [
        {
          "output_type": "execute_result",
          "data": {
            "text/plain": [
              "True"
            ]
          },
          "metadata": {},
          "execution_count": 44
        }
      ]
    },
    {
      "cell_type": "code",
      "source": [
        "plus = lambda x, y: x + y\n",
        "minus = lambda x, y: x - y\n",
        "multiply = lambda x, y: x * y\n",
        "divide = lambda x, y: x / y\n",
        "\n",
        "print(f'plus : {plus(10, 5)}')\n",
        "print(f'minus : {minus(10, 5)}')\n",
        "print(f'multiply : {multiply(10, 5)}')\n",
        "print(f'divide : {divide(10, 5)}')"
      ],
      "metadata": {
        "colab": {
          "base_uri": "https://localhost:8080/"
        },
        "id": "aqH8ch9kLdHC",
        "outputId": "80436188-8828-4065-cc3f-1aebffd6237a"
      },
      "execution_count": 45,
      "outputs": [
        {
          "output_type": "stream",
          "name": "stdout",
          "text": [
            "plus : 15\n",
            "minus : 5\n",
            "multiply : 50\n",
            "divide : 2.0\n"
          ]
        }
      ]
    },
    {
      "cell_type": "code",
      "source": [
        "def 제곱(n):\n",
        "    if n == 0:\n",
        "        return 1\n",
        "    return 3 * 제곱(n-1)\n",
        "\n",
        "제곱(3)\n",
        "제곱(4)\n",
        "\n",
        "#\n",
        "# 제곱(4)   3 * 제곱(3)     3 * 3 * 3 * 3\n",
        "# 제곱(3)   3 * 제곱(2)     3 * 3 * 3\n",
        "# 제곱(2)   3 * 제곱(1)     3 * 3\n",
        "# 제곱(1)   3 * 제곱(0)     3 * 1\n",
        "# 제곱(0)   1"
      ],
      "metadata": {
        "colab": {
          "base_uri": "https://localhost:8080/"
        },
        "id": "AIGSio89Mdf8",
        "outputId": "034e9ff6-1e15-4772-e89c-6c862abce8ab"
      },
      "execution_count": 49,
      "outputs": [
        {
          "output_type": "execute_result",
          "data": {
            "text/plain": [
              "81"
            ]
          },
          "metadata": {},
          "execution_count": 49
        }
      ]
    },
    {
      "cell_type": "code",
      "source": [
        "def 제곱(x, n):\n",
        "    if n == 0:\n",
        "        return 1\n",
        "    return x * 제곱(x, n-1)\n",
        "\n",
        "제곱(3, 4)\n",
        "\n",
        "# 제곱(3, 4)   3 * 제곱(3, 3)     3 * 3 * 3 * 3\n",
        "# 제곱(3, 3)   3 * 제곱(3, 2)     3 * 3 * 3\n",
        "# 제곱(3, 2)   3 * 제곱(3, 1)     3 * 3\n",
        "# 제곱(3, 1)   3 * 제곱(3, 0)     3 * 1\n",
        "# 제곱(3, 0)   1"
      ],
      "metadata": {
        "colab": {
          "base_uri": "https://localhost:8080/"
        },
        "id": "st_wDyecPTXo",
        "outputId": "935fd775-e602-46db-ed5c-63332d419f93"
      },
      "execution_count": 51,
      "outputs": [
        {
          "output_type": "execute_result",
          "data": {
            "text/plain": [
              "81"
            ]
          },
          "metadata": {},
          "execution_count": 51
        }
      ]
    },
    {
      "cell_type": "code",
      "source": [
        "# factory 함수\n",
        "# 클로저\n",
        "def factory(x):\n",
        "    def 승수(n):\n",
        "        return x ** n\n",
        "    return 승수\n",
        "\n",
        "제곱3 = factory(3)\n",
        "\n",
        "# 실제 제곱3는 아래와 같습니다.\n",
        "# def 승수(n):\n",
        "#     return 3 ** n\n",
        "\n",
        "제곱4 = factory(4)\n",
        "\n",
        "제곱3(2)\n",
        "제곱3(3)\n",
        "제곱4(2)\n",
        "제곱4(3)"
      ],
      "metadata": {
        "colab": {
          "base_uri": "https://localhost:8080/"
        },
        "id": "pEBNSQp7PjCF",
        "outputId": "4fa2d809-594d-40f6-a68a-10c973053f3a"
      },
      "execution_count": 55,
      "outputs": [
        {
          "output_type": "execute_result",
          "data": {
            "text/plain": [
              "64"
            ]
          },
          "metadata": {},
          "execution_count": 55
        }
      ]
    },
    {
      "cell_type": "markdown",
      "source": [
        "## 리스트\n",
        "\n",
        "* 순서가 있는 데이터입니다.\n",
        "* 값의 수정이 가능합니다."
      ],
      "metadata": {
        "id": "GGoSzWQiSlLa"
      }
    },
    {
      "cell_type": "code",
      "source": [
        "l = [10, 20, 30, 40]"
      ],
      "metadata": {
        "id": "stoBxrBNTFEh"
      },
      "execution_count": 57,
      "outputs": []
    },
    {
      "cell_type": "code",
      "source": [
        "l[0]"
      ],
      "metadata": {
        "colab": {
          "base_uri": "https://localhost:8080/"
        },
        "id": "um4bLPamTInQ",
        "outputId": "9a08e981-81d4-4040-bc70-0d431c1965fb"
      },
      "execution_count": 58,
      "outputs": [
        {
          "output_type": "execute_result",
          "data": {
            "text/plain": [
              "10"
            ]
          },
          "metadata": {},
          "execution_count": 58
        }
      ]
    },
    {
      "cell_type": "code",
      "source": [
        "l[0] = 1000\n",
        "l # mutable한 객체 <-> immutable한 객체(문자열)"
      ],
      "metadata": {
        "colab": {
          "base_uri": "https://localhost:8080/"
        },
        "id": "unRrQPIdTNsJ",
        "outputId": "7f56dcd0-7e4c-4d76-dbbf-35bb93f2f881"
      },
      "execution_count": 59,
      "outputs": [
        {
          "output_type": "execute_result",
          "data": {
            "text/plain": [
              "[1000, 20, 30, 40]"
            ]
          },
          "metadata": {},
          "execution_count": 59
        }
      ]
    },
    {
      "cell_type": "code",
      "source": [
        "s = 'hello'\n",
        "s[0] = 'k' # error! immutable한 객체"
      ],
      "metadata": {
        "id": "nyZYtbVaTP_J"
      },
      "execution_count": null,
      "outputs": []
    },
    {
      "cell_type": "code",
      "source": [
        "data = [[1, 2, 3],\n",
        "        [4, 5, 6],\n",
        "        [7, 8, 9]]\n",
        "\n",
        "data"
      ],
      "metadata": {
        "colab": {
          "base_uri": "https://localhost:8080/"
        },
        "id": "07-_WJLDTp4A",
        "outputId": "0241a2f4-1875-4d10-9d18-c0f4f5a24b70"
      },
      "execution_count": 63,
      "outputs": [
        {
          "output_type": "execute_result",
          "data": {
            "text/plain": [
              "[[1, 2, 3], [4, 5, 6], [7, 8, 9]]"
            ]
          },
          "metadata": {},
          "execution_count": 63
        }
      ]
    },
    {
      "cell_type": "code",
      "source": [
        "data[0]"
      ],
      "metadata": {
        "colab": {
          "base_uri": "https://localhost:8080/"
        },
        "id": "9N4sKGWDUNcd",
        "outputId": "54be91c1-53c0-48e2-b84b-7df9170b0b64"
      },
      "execution_count": 64,
      "outputs": [
        {
          "output_type": "execute_result",
          "data": {
            "text/plain": [
              "[1, 2, 3]"
            ]
          },
          "metadata": {},
          "execution_count": 64
        }
      ]
    },
    {
      "cell_type": "code",
      "source": [
        "data[0][0]"
      ],
      "metadata": {
        "colab": {
          "base_uri": "https://localhost:8080/"
        },
        "id": "U6IY4l7eUSeo",
        "outputId": "560a8a2f-c992-4e7d-e974-844b4f07bc18"
      },
      "execution_count": 65,
      "outputs": [
        {
          "output_type": "execute_result",
          "data": {
            "text/plain": [
              "1"
            ]
          },
          "metadata": {},
          "execution_count": 65
        }
      ]
    },
    {
      "cell_type": "code",
      "source": [
        "data = [[1, 2, 3], [4, 5, 6], [7, 8, 9]]\n",
        "data[0][0] = data[0][0] * 2\n",
        "data[0][1] = data[0][1] * 2\n",
        "data[0][2] = data[0][2] * 2\n",
        "data[1][0] = data[1][0] * 2\n",
        "data[1][1] = data[1][1] * 2\n",
        "data[1][2] = data[1][2] * 2\n",
        "data[2][0] = data[2][0] * 2\n",
        "data[2][1] = data[2][1] * 2\n",
        "data[2][2] = data[2][2] * 2\n",
        "data"
      ],
      "metadata": {
        "colab": {
          "base_uri": "https://localhost:8080/"
        },
        "id": "U7mEoLFsUTen",
        "outputId": "a20bcd72-f172-45ef-9a9f-da930529c1b1"
      },
      "execution_count": 72,
      "outputs": [
        {
          "output_type": "execute_result",
          "data": {
            "text/plain": [
              "[[2, 4, 6], [8, 10, 12], [14, 16, 18]]"
            ]
          },
          "metadata": {},
          "execution_count": 72
        }
      ]
    },
    {
      "cell_type": "code",
      "source": [
        "data = [[1, 2, 3], [4, 5, 6], [7, 8, 9]]\n",
        "\n",
        "for i in range(3):\n",
        "    data[i][0] = data[i][0] * 2\n",
        "    data[i][1] = data[i][1] * 2\n",
        "    data[i][2] = data[i][2] * 2\n",
        "data"
      ],
      "metadata": {
        "colab": {
          "base_uri": "https://localhost:8080/"
        },
        "id": "GaJ4VrGhVmOa",
        "outputId": "6d6463c8-76d4-4b75-b531-37f239265ed1"
      },
      "execution_count": 73,
      "outputs": [
        {
          "output_type": "execute_result",
          "data": {
            "text/plain": [
              "[[2, 4, 6], [8, 10, 12], [14, 16, 18]]"
            ]
          },
          "metadata": {},
          "execution_count": 73
        }
      ]
    },
    {
      "cell_type": "code",
      "source": [
        "for i in range(len(data)):\n",
        "    for j in range(len(data[1])):\n",
        "        data[i][j] *= 2\n",
        "\n",
        "data"
      ],
      "metadata": {
        "colab": {
          "base_uri": "https://localhost:8080/"
        },
        "id": "vutwW8Q6T2m1",
        "outputId": "d45c6508-ea1c-40da-c9fd-db7f23cc7c2c"
      },
      "execution_count": 62,
      "outputs": [
        {
          "output_type": "execute_result",
          "data": {
            "text/plain": [
              "[[2, 4, 6], [8, 10, 12], [14, 16, 18]]"
            ]
          },
          "metadata": {},
          "execution_count": 62
        }
      ]
    },
    {
      "cell_type": "code",
      "source": [
        "#data[start:stop:step]\n",
        "data = [10, 20, 30, 40, 50, 60, 70]\n",
        "data[1:]\n",
        "data[1:-1]\n",
        "data[::2]\n",
        "data[:] # 매우 중요!"
      ],
      "metadata": {
        "colab": {
          "base_uri": "https://localhost:8080/"
        },
        "id": "c3rNZaeVV6ZK",
        "outputId": "c2fa95c1-a5df-4c42-c806-9be5aa266fbf"
      },
      "execution_count": 76,
      "outputs": [
        {
          "output_type": "execute_result",
          "data": {
            "text/plain": [
              "[10, 30, 50, 70]"
            ]
          },
          "metadata": {},
          "execution_count": 76
        }
      ]
    },
    {
      "cell_type": "code",
      "source": [
        "data = [10, 20, 30, 40, 50, 60, 70]\n",
        "data2 = data\n",
        "data2[0] = 100\n",
        "data2, data"
      ],
      "metadata": {
        "colab": {
          "base_uri": "https://localhost:8080/"
        },
        "id": "9HpcCDm4XXRf",
        "outputId": "e49e4fc7-d726-4dd2-a695-6bcba6dec7c3"
      },
      "execution_count": 80,
      "outputs": [
        {
          "output_type": "execute_result",
          "data": {
            "text/plain": [
              "([100, 20, 30, 40, 50, 60, 70], [100, 20, 30, 40, 50, 60, 70])"
            ]
          },
          "metadata": {},
          "execution_count": 80
        }
      ]
    },
    {
      "cell_type": "code",
      "source": [
        "data = [10, 20, 30, 40, 50, 60, 70]\n",
        "data2 = data[:] # data[::2]\n",
        "data2[0] = 100\n",
        "data2, data"
      ],
      "metadata": {
        "colab": {
          "base_uri": "https://localhost:8080/"
        },
        "id": "J5TF-bj3XjaY",
        "outputId": "54df214b-6410-437d-baeb-7b595d287993"
      },
      "execution_count": 79,
      "outputs": [
        {
          "output_type": "execute_result",
          "data": {
            "text/plain": [
              "([100, 20, 30, 40, 50, 60, 70], [10, 20, 30, 40, 50, 60, 70])"
            ]
          },
          "metadata": {},
          "execution_count": 79
        }
      ]
    },
    {
      "cell_type": "code",
      "source": [
        "[1, 2, 3] + [1, 2, 3]"
      ],
      "metadata": {
        "colab": {
          "base_uri": "https://localhost:8080/"
        },
        "id": "LJwi2n02X40W",
        "outputId": "129e629e-0138-4a8c-d89b-480f0a8202cf"
      },
      "execution_count": 81,
      "outputs": [
        {
          "output_type": "execute_result",
          "data": {
            "text/plain": [
              "[1, 2, 3, 1, 2, 3]"
            ]
          },
          "metadata": {},
          "execution_count": 81
        }
      ]
    },
    {
      "cell_type": "code",
      "source": [
        "[1, 2, 3] * 2"
      ],
      "metadata": {
        "colab": {
          "base_uri": "https://localhost:8080/"
        },
        "id": "UGt_AchtX7Z9",
        "outputId": "ffeef7b2-568d-448d-9ae5-df8b6f2e2b12"
      },
      "execution_count": 82,
      "outputs": [
        {
          "output_type": "execute_result",
          "data": {
            "text/plain": [
              "[1, 2, 3, 1, 2, 3]"
            ]
          },
          "metadata": {},
          "execution_count": 82
        }
      ]
    },
    {
      "cell_type": "code",
      "source": [
        "x = [[[10]*3]*3]*4\n",
        "x"
      ],
      "metadata": {
        "colab": {
          "base_uri": "https://localhost:8080/"
        },
        "id": "PvvCw7KMYEvu",
        "outputId": "f43f7360-8580-4b47-d9eb-2659191aec0a"
      },
      "execution_count": 87,
      "outputs": [
        {
          "output_type": "execute_result",
          "data": {
            "text/plain": [
              "[[[10, 10, 10], [10, 10, 10], [10, 10, 10]],\n",
              " [[10, 10, 10], [10, 10, 10], [10, 10, 10]],\n",
              " [[10, 10, 10], [10, 10, 10], [10, 10, 10]],\n",
              " [[10, 10, 10], [10, 10, 10], [10, 10, 10]]]"
            ]
          },
          "metadata": {},
          "execution_count": 87
        }
      ]
    },
    {
      "cell_type": "code",
      "source": [
        "x[0][0][0] = 100\n",
        "x"
      ],
      "metadata": {
        "colab": {
          "base_uri": "https://localhost:8080/"
        },
        "id": "OxNJnypQYTHR",
        "outputId": "f24f6162-e98e-4747-c4fa-eca6e833fe9d"
      },
      "execution_count": 88,
      "outputs": [
        {
          "output_type": "execute_result",
          "data": {
            "text/plain": [
              "[[[100, 10, 10], [100, 10, 10], [100, 10, 10]],\n",
              " [[100, 10, 10], [100, 10, 10], [100, 10, 10]],\n",
              " [[100, 10, 10], [100, 10, 10], [100, 10, 10]],\n",
              " [[100, 10, 10], [100, 10, 10], [100, 10, 10]]]"
            ]
          },
          "metadata": {},
          "execution_count": 88
        }
      ]
    },
    {
      "cell_type": "code",
      "source": [
        "id(x[0][0]), id(x[0][1])"
      ],
      "metadata": {
        "colab": {
          "base_uri": "https://localhost:8080/"
        },
        "id": "7nmlaW3oYeog",
        "outputId": "9ec9e300-3fee-4057-b0be-45e20a6324e2"
      },
      "execution_count": 91,
      "outputs": [
        {
          "output_type": "execute_result",
          "data": {
            "text/plain": [
              "(140657978874048, 140657978874048)"
            ]
          },
          "metadata": {},
          "execution_count": 91
        }
      ]
    },
    {
      "cell_type": "code",
      "source": [
        "# 얕은 곱하기는 메모리를 복사하지 않습니다.\n",
        "x = [1, 2, 3] * 2\n",
        "x[0] = 1000\n",
        "x"
      ],
      "metadata": {
        "colab": {
          "base_uri": "https://localhost:8080/"
        },
        "id": "FM0wRbFVYzKs",
        "outputId": "fb9c51be-14e8-411d-f900-7b4ab9bdd4dd"
      },
      "execution_count": 92,
      "outputs": [
        {
          "output_type": "execute_result",
          "data": {
            "text/plain": [
              "[1000, 2, 3, 1, 2, 3]"
            ]
          },
          "metadata": {},
          "execution_count": 92
        }
      ]
    },
    {
      "cell_type": "code",
      "source": [
        "x = [[1, 2, 3] * 2] * 2\n",
        "x[0][0] = 1000\n",
        "x"
      ],
      "metadata": {
        "colab": {
          "base_uri": "https://localhost:8080/"
        },
        "id": "vBAsRQ68Y8Zu",
        "outputId": "04f1fc73-66bc-42aa-f6f0-cfbe22ecaac3"
      },
      "execution_count": 93,
      "outputs": [
        {
          "output_type": "execute_result",
          "data": {
            "text/plain": [
              "[[1000, 2, 3, 1, 2, 3], [1000, 2, 3, 1, 2, 3]]"
            ]
          },
          "metadata": {},
          "execution_count": 93
        }
      ]
    },
    {
      "cell_type": "code",
      "source": [
        "l = [10, 20, 30, 40]\n",
        "type(l), dir(l)"
      ],
      "metadata": {
        "colab": {
          "base_uri": "https://localhost:8080/"
        },
        "id": "B7TnDzDQZJ0z",
        "outputId": "941de60f-b82f-447e-c3eb-d2cb5bf6adaa"
      },
      "execution_count": 95,
      "outputs": [
        {
          "output_type": "execute_result",
          "data": {
            "text/plain": [
              "(list,\n",
              " ['__add__',\n",
              "  '__class__',\n",
              "  '__class_getitem__',\n",
              "  '__contains__',\n",
              "  '__delattr__',\n",
              "  '__delitem__',\n",
              "  '__dir__',\n",
              "  '__doc__',\n",
              "  '__eq__',\n",
              "  '__format__',\n",
              "  '__ge__',\n",
              "  '__getattribute__',\n",
              "  '__getitem__',\n",
              "  '__gt__',\n",
              "  '__hash__',\n",
              "  '__iadd__',\n",
              "  '__imul__',\n",
              "  '__init__',\n",
              "  '__init_subclass__',\n",
              "  '__iter__',\n",
              "  '__le__',\n",
              "  '__len__',\n",
              "  '__lt__',\n",
              "  '__mul__',\n",
              "  '__ne__',\n",
              "  '__new__',\n",
              "  '__reduce__',\n",
              "  '__reduce_ex__',\n",
              "  '__repr__',\n",
              "  '__reversed__',\n",
              "  '__rmul__',\n",
              "  '__setattr__',\n",
              "  '__setitem__',\n",
              "  '__sizeof__',\n",
              "  '__str__',\n",
              "  '__subclasshook__',\n",
              "  'append',\n",
              "  'clear',\n",
              "  'copy',\n",
              "  'count',\n",
              "  'extend',\n",
              "  'index',\n",
              "  'insert',\n",
              "  'pop',\n",
              "  'remove',\n",
              "  'reverse',\n",
              "  'sort'])"
            ]
          },
          "metadata": {},
          "execution_count": 95
        }
      ]
    },
    {
      "cell_type": "code",
      "source": [
        "# 'append','clear','copy','count','extend',\n",
        "# 'index','insert','pop','remove','reverse','sort'"
      ],
      "metadata": {
        "id": "ZFqicxFaZZMS"
      },
      "execution_count": null,
      "outputs": []
    },
    {
      "cell_type": "code",
      "source": [
        "l = [10, 20, 30, 40]\n",
        "l.append(50)\n",
        "l"
      ],
      "metadata": {
        "id": "bj6MvQq1ZhBd"
      },
      "execution_count": 97,
      "outputs": []
    },
    {
      "cell_type": "code",
      "source": [
        "l = [10, 20, 30, 40]\n",
        "l.pop()\n",
        "l"
      ],
      "metadata": {
        "colab": {
          "base_uri": "https://localhost:8080/"
        },
        "id": "zJ4fddr1Z0Ct",
        "outputId": "37e5df39-9e84-460b-81f6-f5e2cebab646"
      },
      "execution_count": 99,
      "outputs": [
        {
          "output_type": "execute_result",
          "data": {
            "text/plain": [
              "[10, 20, 30]"
            ]
          },
          "metadata": {},
          "execution_count": 99
        }
      ]
    },
    {
      "cell_type": "code",
      "source": [
        "l = [10, 20, 30, 40]\n",
        "l.pop(0)\n",
        "l"
      ],
      "metadata": {
        "colab": {
          "base_uri": "https://localhost:8080/"
        },
        "id": "hvASGREiZ4fF",
        "outputId": "e2337cc6-d472-45cd-fcca-868dac769d30"
      },
      "execution_count": 100,
      "outputs": [
        {
          "output_type": "execute_result",
          "data": {
            "text/plain": [
              "[20, 30, 40]"
            ]
          },
          "metadata": {},
          "execution_count": 100
        }
      ]
    },
    {
      "cell_type": "code",
      "source": [
        "l = [10, 20, 30, 40]\n",
        "l.clear()\n",
        "l"
      ],
      "metadata": {
        "colab": {
          "base_uri": "https://localhost:8080/"
        },
        "id": "QvT_qdmMaDOL",
        "outputId": "fb2689c7-d47c-4bfc-99de-1ee36d33b844"
      },
      "execution_count": 101,
      "outputs": [
        {
          "output_type": "execute_result",
          "data": {
            "text/plain": [
              "[]"
            ]
          },
          "metadata": {},
          "execution_count": 101
        }
      ]
    },
    {
      "cell_type": "code",
      "source": [
        "l = [10, 20, 30, 40]\n",
        "data = l.copy()\n",
        "data[0] = 1000\n",
        "l, data"
      ],
      "metadata": {
        "colab": {
          "base_uri": "https://localhost:8080/"
        },
        "id": "jhACFsPWaF55",
        "outputId": "7b394ec2-3296-45ec-ded8-5a01282ac569"
      },
      "execution_count": 102,
      "outputs": [
        {
          "output_type": "execute_result",
          "data": {
            "text/plain": [
              "([10, 20, 30, 40], [1000, 20, 30, 40])"
            ]
          },
          "metadata": {},
          "execution_count": 102
        }
      ]
    },
    {
      "cell_type": "code",
      "source": [
        "l = [10, 20, 30, 40]\n",
        "data = l\n",
        "data[0] = 1000\n",
        "l, data"
      ],
      "metadata": {
        "colab": {
          "base_uri": "https://localhost:8080/"
        },
        "id": "qp4ByhKBaSMz",
        "outputId": "d7ad865f-8bff-4229-886c-e5d6fc9d1549"
      },
      "execution_count": 103,
      "outputs": [
        {
          "output_type": "execute_result",
          "data": {
            "text/plain": [
              "([1000, 20, 30, 40], [1000, 20, 30, 40])"
            ]
          },
          "metadata": {},
          "execution_count": 103
        }
      ]
    },
    {
      "cell_type": "code",
      "source": [
        "l = [10, 20, 30, 40, 10, 10, 10]\n",
        "l.count(10)"
      ],
      "metadata": {
        "colab": {
          "base_uri": "https://localhost:8080/"
        },
        "id": "kTS5GpaEdeyf",
        "outputId": "5429911f-01cb-4029-9089-1d81ee4a056c"
      },
      "execution_count": 104,
      "outputs": [
        {
          "output_type": "execute_result",
          "data": {
            "text/plain": [
              "4"
            ]
          },
          "metadata": {},
          "execution_count": 104
        }
      ]
    },
    {
      "cell_type": "code",
      "source": [
        "l = [10, 20, 30, 40, 10, 10, 10]\n",
        "l.extend([1, 2, 3, 4, 5])\n",
        "l"
      ],
      "metadata": {
        "colab": {
          "base_uri": "https://localhost:8080/"
        },
        "id": "b7EmSkWhdmee",
        "outputId": "3edd0ba0-2a15-49b5-9c1d-85a07921a938"
      },
      "execution_count": 105,
      "outputs": [
        {
          "output_type": "execute_result",
          "data": {
            "text/plain": [
              "[10, 20, 30, 40, 10, 10, 10, 1, 2, 3, 4, 5]"
            ]
          },
          "metadata": {},
          "execution_count": 105
        }
      ]
    },
    {
      "cell_type": "code",
      "source": [
        "l = [10, 20, 30, 40, 10, 10, 10]\n",
        "l.append([1, 2, 3, 4, 5])\n",
        "l"
      ],
      "metadata": {
        "colab": {
          "base_uri": "https://localhost:8080/"
        },
        "id": "doKSdFYIdsK4",
        "outputId": "b450b558-253c-4562-917c-c45a56058f01"
      },
      "execution_count": 106,
      "outputs": [
        {
          "output_type": "execute_result",
          "data": {
            "text/plain": [
              "[10, 20, 30, 40, 10, 10, 10, [1, 2, 3, 4, 5]]"
            ]
          },
          "metadata": {},
          "execution_count": 106
        }
      ]
    },
    {
      "cell_type": "code",
      "source": [
        "l = [10, 20, 30, 40, 10, 10, 10]\n",
        "l.insert(2, 10000)\n",
        "l"
      ],
      "metadata": {
        "colab": {
          "base_uri": "https://localhost:8080/"
        },
        "id": "Z-O8Ood2eChr",
        "outputId": "bb15a5c7-2d2b-4803-aa9a-eb9cf9a900f5"
      },
      "execution_count": 107,
      "outputs": [
        {
          "output_type": "execute_result",
          "data": {
            "text/plain": [
              "[10, 20, 10000, 30, 40, 10, 10, 10]"
            ]
          },
          "metadata": {},
          "execution_count": 107
        }
      ]
    },
    {
      "cell_type": "code",
      "source": [
        "l = [10, 20, 10000, 30, 40, 10, 10, 10]\n",
        "l.index(10000)"
      ],
      "metadata": {
        "colab": {
          "base_uri": "https://localhost:8080/"
        },
        "id": "bb8UJ20geTQO",
        "outputId": "b56c2858-6852-4078-f0dc-8d870840dde9"
      },
      "execution_count": 108,
      "outputs": [
        {
          "output_type": "execute_result",
          "data": {
            "text/plain": [
              "2"
            ]
          },
          "metadata": {},
          "execution_count": 108
        }
      ]
    },
    {
      "cell_type": "code",
      "source": [
        "l = [10, 20, 10000, 30, 40, 10, 10, 10]\n",
        "l.remove(10)\n",
        "l"
      ],
      "metadata": {
        "colab": {
          "base_uri": "https://localhost:8080/"
        },
        "id": "vmfjb4gTef_e",
        "outputId": "97f0a5f7-07a3-4015-b819-185cf7bc013f"
      },
      "execution_count": 109,
      "outputs": [
        {
          "output_type": "execute_result",
          "data": {
            "text/plain": [
              "[20, 10000, 30, 40, 10, 10, 10]"
            ]
          },
          "metadata": {},
          "execution_count": 109
        }
      ]
    },
    {
      "cell_type": "code",
      "source": [
        "l = [10, 20, 10000, 30, 40, 10, 10, 10]\n",
        "for i in range(l.count(10)):\n",
        "    l.remove(10)\n",
        "l"
      ],
      "metadata": {
        "colab": {
          "base_uri": "https://localhost:8080/"
        },
        "id": "nWNQHjxRerU0",
        "outputId": "3c695d2b-09db-42e4-d160-da071eeceae9"
      },
      "execution_count": 110,
      "outputs": [
        {
          "output_type": "execute_result",
          "data": {
            "text/plain": [
              "[20, 10000, 30, 40]"
            ]
          },
          "metadata": {},
          "execution_count": 110
        }
      ]
    },
    {
      "cell_type": "code",
      "source": [
        "# 실무에서 많이 사용하는 코드입니다.\n",
        "# 어떤 값을 찾아내거나, 조건에 맞는 코드를 추출할 때 사용\n",
        "def 함수(x):\n",
        "    return x != 10\n",
        "\n",
        "l = [10, 20, 10000, 30, 40, 10, 10, 10]\n",
        "list(filter(함수, l))"
      ],
      "metadata": {
        "colab": {
          "base_uri": "https://localhost:8080/"
        },
        "id": "Alo4DSUffArK",
        "outputId": "42c737e6-7c89-457b-e7c3-b1b6246a2451"
      },
      "execution_count": 112,
      "outputs": [
        {
          "output_type": "execute_result",
          "data": {
            "text/plain": [
              "[20, 10000, 30, 40]"
            ]
          },
          "metadata": {},
          "execution_count": 112
        }
      ]
    },
    {
      "cell_type": "code",
      "source": [
        "l = [10, 20, 10000, 30, 40, 10, 10, 10]\n",
        "list(filter(lambda x: x != 10, l))"
      ],
      "metadata": {
        "colab": {
          "base_uri": "https://localhost:8080/"
        },
        "id": "Js2ZrSdmfe0Y",
        "outputId": "70369009-fbeb-451d-925c-92401191ea6e"
      },
      "execution_count": 113,
      "outputs": [
        {
          "output_type": "execute_result",
          "data": {
            "text/plain": [
              "[20, 10000, 30, 40]"
            ]
          },
          "metadata": {},
          "execution_count": 113
        }
      ]
    },
    {
      "cell_type": "code",
      "source": [
        "filter(lambda x: x != 10, l)"
      ],
      "metadata": {
        "colab": {
          "base_uri": "https://localhost:8080/"
        },
        "id": "SZLpJjE4f-jq",
        "outputId": "e05ede3e-8fa3-43d0-b0d3-5d9d2879e0bf"
      },
      "execution_count": 114,
      "outputs": [
        {
          "output_type": "execute_result",
          "data": {
            "text/plain": [
              "<filter at 0x7fed33b0a260>"
            ]
          },
          "metadata": {},
          "execution_count": 114
        }
      ]
    },
    {
      "cell_type": "code",
      "source": [
        "range(1, 11)"
      ],
      "metadata": {
        "colab": {
          "base_uri": "https://localhost:8080/"
        },
        "id": "uBsnJSY3gBSh",
        "outputId": "750abf5b-c13c-4fae-ac70-1ab1e35f001a"
      },
      "execution_count": 115,
      "outputs": [
        {
          "output_type": "execute_result",
          "data": {
            "text/plain": [
              "range(1, 11)"
            ]
          },
          "metadata": {},
          "execution_count": 115
        }
      ]
    },
    {
      "cell_type": "code",
      "source": [
        "for i in filter(lambda x: x != 10, l):\n",
        "    print(i)"
      ],
      "metadata": {
        "colab": {
          "base_uri": "https://localhost:8080/"
        },
        "id": "mX2lqd71gKUD",
        "outputId": "d0dd9fcd-a075-4e23-b721-261d2081b2ec"
      },
      "execution_count": 116,
      "outputs": [
        {
          "output_type": "stream",
          "name": "stdout",
          "text": [
            "20\n",
            "10000\n",
            "30\n",
            "40\n"
          ]
        }
      ]
    },
    {
      "cell_type": "code",
      "source": [
        "l = [10, 20, 30, 10, 20, 30, 1, 2, 55, 11]\n",
        "l.reverse() # l을 직접 만집니다. 역 정렬 아닙니다! 역순일 뿐입니다.\n",
        "l"
      ],
      "metadata": {
        "colab": {
          "base_uri": "https://localhost:8080/"
        },
        "id": "vDxRMUjug-Wx",
        "outputId": "63288a51-bc44-4b0b-da5f-b21183ff9ed3"
      },
      "execution_count": 118,
      "outputs": [
        {
          "output_type": "execute_result",
          "data": {
            "text/plain": [
              "[11, 55, 2, 1, 30, 20, 10, 30, 20, 10]"
            ]
          },
          "metadata": {},
          "execution_count": 118
        }
      ]
    },
    {
      "cell_type": "code",
      "source": [
        "l = [10, 20, 30, 10, 20, 30, 1, 2, 55, 11]\n",
        "print(list(reversed(l))) # l을 직접 만지지 않습니다.\n",
        "print(l)"
      ],
      "metadata": {
        "colab": {
          "base_uri": "https://localhost:8080/"
        },
        "id": "ENYuMbexhJ-U",
        "outputId": "e4cb3ce9-e900-46f5-fef6-65b730f5ac4b"
      },
      "execution_count": 122,
      "outputs": [
        {
          "output_type": "stream",
          "name": "stdout",
          "text": [
            "[11, 55, 2, 1, 30, 20, 10, 30, 20, 10]\n",
            "[10, 20, 30, 10, 20, 30, 1, 2, 55, 11]\n"
          ]
        }
      ]
    },
    {
      "cell_type": "code",
      "source": [
        "l = [10, 20, 30, 10, 20, 30, 1, 2, 55, 11]\n",
        "l.sort() # l을 직접 만집니다.\n",
        "l"
      ],
      "metadata": {
        "colab": {
          "base_uri": "https://localhost:8080/"
        },
        "id": "3R8snKP8hrL9",
        "outputId": "31f92cea-ff9e-4612-b349-3073763e51f9"
      },
      "execution_count": 123,
      "outputs": [
        {
          "output_type": "execute_result",
          "data": {
            "text/plain": [
              "[1, 2, 10, 10, 11, 20, 20, 30, 30, 55]"
            ]
          },
          "metadata": {},
          "execution_count": 123
        }
      ]
    },
    {
      "cell_type": "code",
      "source": [
        "l = [10, 20, 30, 10, 20, 30, 1, 2, 55, 11]\n",
        "l.sort()\n",
        "l.reverse() # sort와 함께 사용했으니 역정렬!\n",
        "l"
      ],
      "metadata": {
        "colab": {
          "base_uri": "https://localhost:8080/"
        },
        "id": "HBJg8D6bhv9p",
        "outputId": "d5207c8e-5e50-4f45-c100-b4fe9614e49d"
      },
      "execution_count": 125,
      "outputs": [
        {
          "output_type": "execute_result",
          "data": {
            "text/plain": [
              "[55, 30, 30, 20, 20, 11, 10, 10, 2, 1]"
            ]
          },
          "metadata": {},
          "execution_count": 125
        }
      ]
    },
    {
      "cell_type": "code",
      "source": [
        "l = [10, 20, 30, 10, 20, 30, 1, 2, 55, 11]\n",
        "print(list(sorted(l))) # l을 직접 만지지 않습니다.\n",
        "print(l)"
      ],
      "metadata": {
        "colab": {
          "base_uri": "https://localhost:8080/"
        },
        "id": "d0QsPLuGh8iC",
        "outputId": "6a738440-b92a-42cb-80af-509c46556419"
      },
      "execution_count": 126,
      "outputs": [
        {
          "output_type": "stream",
          "name": "stdout",
          "text": [
            "[1, 2, 10, 10, 11, 20, 20, 30, 30, 55]\n",
            "[10, 20, 30, 10, 20, 30, 1, 2, 55, 11]\n"
          ]
        }
      ]
    },
    {
      "cell_type": "code",
      "source": [
        "l = [10, 20, 30, 10, 20, 30, 1, 2, 55, 11]\n",
        "print(list(sorted(l, reverse=True)))  # 내림차순"
      ],
      "metadata": {
        "colab": {
          "base_uri": "https://localhost:8080/"
        },
        "id": "2W_qzXTgiPAm",
        "outputId": "f7e13f91-7333-46de-f5e9-ea96e872ad27"
      },
      "execution_count": 127,
      "outputs": [
        {
          "output_type": "stream",
          "name": "stdout",
          "text": [
            "[55, 30, 30, 20, 20, 11, 10, 10, 2, 1]\n"
          ]
        }
      ]
    },
    {
      "cell_type": "code",
      "source": [
        "l = [[1, 10, 'leehojun'], \n",
        "     [20, 30, 'hojun'], \n",
        "     [10, 20, 'weniv'], \n",
        "     [1, 2, 'likelion'], \n",
        "     [55, 11, 'sun']]\n",
        "\n",
        "# 1. 글자 수 대로 정렬해주세요.\n",
        "def 함수(x):\n",
        "    return len(x[2])\n",
        "\n",
        "print(list(sorted(l, key=함수)))\n",
        "print(list(sorted(l, key=lambda x:len(x[2]))))\n",
        "\n",
        "# 2. 맨 앞에 위치한 숫자대로 정렬해주세요.\n",
        "def 함수2(x):\n",
        "    return x[0]\n",
        "\n",
        "print(list(sorted(l)))\n",
        "print(list(sorted(l, key=함수2)))\n",
        "print(list(sorted(l, key=lambda x:x[0])))\n",
        "\n",
        "# 3. 중앙에 위치한 값대로 정렬해주세요.\n",
        "def 함수3(x):\n",
        "    return x[1]\n",
        "\n",
        "print(list(sorted(l)))\n",
        "print(list(sorted(l, key=함수3)))\n",
        "print(list(sorted(l, key=lambda x:x[1])))"
      ],
      "metadata": {
        "colab": {
          "base_uri": "https://localhost:8080/"
        },
        "id": "QQyShm23ijhx",
        "outputId": "db76fa0d-08b8-4199-c767-c2e9c4256e46"
      },
      "execution_count": 132,
      "outputs": [
        {
          "output_type": "stream",
          "name": "stdout",
          "text": [
            "[[55, 11, 'sun'], [20, 30, 'hojun'], [10, 20, 'weniv'], [1, 10, 'leehojun'], [1, 2, 'likelion']]\n",
            "[[1, 2, 'likelion'], [1, 10, 'leehojun'], [10, 20, 'weniv'], [20, 30, 'hojun'], [55, 11, 'sun']]\n",
            "[[1, 2, 'likelion'], [1, 10, 'leehojun'], [55, 11, 'sun'], [10, 20, 'weniv'], [20, 30, 'hojun']]\n",
            "[[1, 2, 'likelion'], [1, 10, 'leehojun'], [10, 20, 'weniv'], [20, 30, 'hojun'], [55, 11, 'sun']]\n",
            "[[1, 2, 'likelion'], [1, 10, 'leehojun'], [55, 11, 'sun'], [10, 20, 'weniv'], [20, 30, 'hojun']]\n"
          ]
        }
      ]
    },
    {
      "cell_type": "code",
      "source": [
        "l = [[1, 10, 32], \n",
        "     [20, 30, 11], \n",
        "     [10, 20, 22], \n",
        "     [1, 2, 13], \n",
        "     [55, 11, 44]]\n",
        "\n",
        "\n",
        "# 4. 3개의 전체 합대로 출력해주세요.\n",
        "def 함수4(x):\n",
        "    return sum(x)\n",
        "\n",
        "print(list(sorted(l, key=함수4)))\n",
        "print(list(sorted(l, key=lambda x:sum(x))))\n",
        "print(list(sorted(l, key=sum)))"
      ],
      "metadata": {
        "colab": {
          "base_uri": "https://localhost:8080/"
        },
        "id": "PaYqJARCkYb9",
        "outputId": "5134c2a3-ceee-4a99-96b8-fa1e09f639ec"
      },
      "execution_count": 134,
      "outputs": [
        {
          "output_type": "stream",
          "name": "stdout",
          "text": [
            "[[1, 2, 13], [1, 10, 32], [10, 20, 22], [20, 30, 11], [55, 11, 44]]\n",
            "[[1, 2, 13], [1, 10, 32], [10, 20, 22], [20, 30, 11], [55, 11, 44]]\n",
            "[[1, 2, 13], [1, 10, 32], [10, 20, 22], [20, 30, 11], [55, 11, 44]]\n"
          ]
        }
      ]
    }
  ]
}