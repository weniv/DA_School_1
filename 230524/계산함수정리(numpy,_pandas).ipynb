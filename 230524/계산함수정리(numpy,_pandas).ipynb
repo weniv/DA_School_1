{
  "nbformat": 4,
  "nbformat_minor": 0,
  "metadata": {
    "colab": {
      "provenance": []
    },
    "kernelspec": {
      "name": "python3",
      "display_name": "Python 3"
    },
    "language_info": {
      "name": "python"
    }
  },
  "cells": [
    {
      "cell_type": "markdown",
      "source": [
        "# Numpy 계산 및 통계 함수"
      ],
      "metadata": {
        "id": "dWYt7Qscl5Zf"
      }
    },
    {
      "cell_type": "code",
      "source": [
        "import numpy as np"
      ],
      "metadata": {
        "id": "5Tb3sSBdllof"
      },
      "execution_count": 73,
      "outputs": []
    },
    {
      "cell_type": "markdown",
      "source": [
        "## 기본 연산"
      ],
      "metadata": {
        "id": "Pe2AoXEkmmDr"
      }
    },
    {
      "cell_type": "code",
      "source": [
        "a = np.array([1, 2, 3])\n",
        "b = np.array([4, 5, 6])"
      ],
      "metadata": {
        "id": "bNbrC87LmxYY"
      },
      "execution_count": 74,
      "outputs": []
    },
    {
      "cell_type": "code",
      "source": [
        "# 덧셈\n",
        "add = a + b\n",
        "print(add)"
      ],
      "metadata": {
        "colab": {
          "base_uri": "https://localhost:8080/"
        },
        "id": "2VGj1jIwllmK",
        "outputId": "31b0b9a3-e878-441d-81d6-f219a9cd2a36"
      },
      "execution_count": 75,
      "outputs": [
        {
          "output_type": "stream",
          "name": "stdout",
          "text": [
            "[5 7 9]\n"
          ]
        }
      ]
    },
    {
      "cell_type": "code",
      "source": [
        "# 뺄셈\n",
        "min = a - b\n",
        "print(min)"
      ],
      "metadata": {
        "colab": {
          "base_uri": "https://localhost:8080/"
        },
        "id": "cl2EdpTUlljt",
        "outputId": "cad130dd-996a-4684-ca58-94314b690cdd"
      },
      "execution_count": 76,
      "outputs": [
        {
          "output_type": "stream",
          "name": "stdout",
          "text": [
            "[-3 -3 -3]\n"
          ]
        }
      ]
    },
    {
      "cell_type": "code",
      "source": [
        "# 곱셈\n",
        "mul = a * b\n",
        "print(mul)"
      ],
      "metadata": {
        "colab": {
          "base_uri": "https://localhost:8080/"
        },
        "id": "MDvCPUibllhH",
        "outputId": "e90107bf-d1fc-4728-8ed1-35068e654273"
      },
      "execution_count": 77,
      "outputs": [
        {
          "output_type": "stream",
          "name": "stdout",
          "text": [
            "[ 4 10 18]\n"
          ]
        }
      ]
    },
    {
      "cell_type": "code",
      "source": [
        "# 나눗셈(실수)\n",
        "div = a / b\n",
        "print(div)"
      ],
      "metadata": {
        "colab": {
          "base_uri": "https://localhost:8080/"
        },
        "id": "UFTb0i3YllfC",
        "outputId": "361de3b8-8217-47c9-bec8-17783206655f"
      },
      "execution_count": 78,
      "outputs": [
        {
          "output_type": "stream",
          "name": "stdout",
          "text": [
            "[0.25 0.4  0.5 ]\n"
          ]
        }
      ]
    },
    {
      "cell_type": "code",
      "source": [
        "# 나눗셈(정수)\n",
        "div2 = a // b\n",
        "print(div2)"
      ],
      "metadata": {
        "colab": {
          "base_uri": "https://localhost:8080/"
        },
        "id": "-RqWZTJollPa",
        "outputId": "990a7f2c-81ed-4a52-a535-f5bdcb0765df"
      },
      "execution_count": 79,
      "outputs": [
        {
          "output_type": "stream",
          "name": "stdout",
          "text": [
            "[0 0 0]\n"
          ]
        }
      ]
    },
    {
      "cell_type": "code",
      "source": [
        "# 나머지\n",
        "rem = a % b\n",
        "print(rem)"
      ],
      "metadata": {
        "colab": {
          "base_uri": "https://localhost:8080/"
        },
        "id": "xE6wz8hFllOK",
        "outputId": "e491b314-5fa3-44f1-b32f-611f9aaa049d"
      },
      "execution_count": 80,
      "outputs": [
        {
          "output_type": "stream",
          "name": "stdout",
          "text": [
            "[1 2 3]\n"
          ]
        }
      ]
    },
    {
      "cell_type": "code",
      "source": [
        "# 제곱\n",
        "squ = a ** b\n",
        "print(squ)"
      ],
      "metadata": {
        "colab": {
          "base_uri": "https://localhost:8080/"
        },
        "id": "2078q_vZllMy",
        "outputId": "195c25ec-8931-4b35-ca6b-3d3b3303e013"
      },
      "execution_count": 81,
      "outputs": [
        {
          "output_type": "stream",
          "name": "stdout",
          "text": [
            "[  1  32 729]\n"
          ]
        }
      ]
    },
    {
      "cell_type": "markdown",
      "source": [
        "## 수학 연산"
      ],
      "metadata": {
        "id": "L7AnqihdpnjS"
      }
    },
    {
      "cell_type": "code",
      "source": [
        "# 절대값\n",
        "a_ = np.array([-1, 2, -4])\n",
        "abs_a = np.abs(a_)\n",
        "print(abs_a)"
      ],
      "metadata": {
        "colab": {
          "base_uri": "https://localhost:8080/"
        },
        "id": "xKbNcu1ellKc",
        "outputId": "b73819e5-8303-422a-ba29-9401969cae64"
      },
      "execution_count": 82,
      "outputs": [
        {
          "output_type": "stream",
          "name": "stdout",
          "text": [
            "[1 2 4]\n"
          ]
        }
      ]
    },
    {
      "cell_type": "code",
      "source": [
        "# 지수 함수\n",
        "exp = np.exp(a)\n",
        "print(exp)"
      ],
      "metadata": {
        "colab": {
          "base_uri": "https://localhost:8080/"
        },
        "id": "RLWKGUWfllJH",
        "outputId": "4b18538c-42a5-4580-f1dd-89e10100ef27"
      },
      "execution_count": 83,
      "outputs": [
        {
          "output_type": "stream",
          "name": "stdout",
          "text": [
            "[ 2.71828183  7.3890561  20.08553692]\n"
          ]
        }
      ]
    },
    {
      "cell_type": "code",
      "source": [
        "# 자연 로그 함수\n",
        "loge = np.log(a)\n",
        "print(loge)"
      ],
      "metadata": {
        "colab": {
          "base_uri": "https://localhost:8080/"
        },
        "id": "ar41xCv4ohGL",
        "outputId": "4b6d25ea-b874-482e-de0d-68fc776a49b9"
      },
      "execution_count": 84,
      "outputs": [
        {
          "output_type": "stream",
          "name": "stdout",
          "text": [
            "[0.         0.69314718 1.09861229]\n"
          ]
        }
      ]
    },
    {
      "cell_type": "code",
      "source": [
        "# 밑이 2인 로그 함수\n",
        "log2 = np.log2(a)\n",
        "print(log2)"
      ],
      "metadata": {
        "colab": {
          "base_uri": "https://localhost:8080/"
        },
        "id": "ltwWizSWohD-",
        "outputId": "f3cff223-efb9-4e9f-d3ba-a7008d8c9c65"
      },
      "execution_count": 85,
      "outputs": [
        {
          "output_type": "stream",
          "name": "stdout",
          "text": [
            "[0.        1.        1.5849625]\n"
          ]
        }
      ]
    },
    {
      "cell_type": "code",
      "source": [
        "# 밑이 10인 로그 함수\n",
        "log10 = np.log10(a)\n",
        "print(log10)"
      ],
      "metadata": {
        "colab": {
          "base_uri": "https://localhost:8080/"
        },
        "id": "MV8InuH4ohB9",
        "outputId": "ad7da5f5-9265-4f3d-9d31-212a5ec454a0"
      },
      "execution_count": 86,
      "outputs": [
        {
          "output_type": "stream",
          "name": "stdout",
          "text": [
            "[0.         0.30103    0.47712125]\n"
          ]
        }
      ]
    },
    {
      "cell_type": "code",
      "source": [
        "# 삼각함수: sin\n",
        "b_ = np.array([0, np.pi/2, np.pi])\n",
        "sin_b = np.sin(b_)\n",
        "print(sin_b)"
      ],
      "metadata": {
        "colab": {
          "base_uri": "https://localhost:8080/"
        },
        "id": "LQWI9lccohAI",
        "outputId": "a8b76fd7-65ca-44d4-c464-80af3b5c97c3"
      },
      "execution_count": 87,
      "outputs": [
        {
          "output_type": "stream",
          "name": "stdout",
          "text": [
            "[0.0000000e+00 1.0000000e+00 1.2246468e-16]\n"
          ]
        }
      ]
    },
    {
      "cell_type": "code",
      "source": [
        "# 삼각함수: cos\n",
        "cos_b = np.cos(b_)\n",
        "print(cos_b)"
      ],
      "metadata": {
        "colab": {
          "base_uri": "https://localhost:8080/"
        },
        "id": "eHYQvatcog-C",
        "outputId": "0c346d6c-ea84-4844-b9d2-3b31563c54b8"
      },
      "execution_count": 88,
      "outputs": [
        {
          "output_type": "stream",
          "name": "stdout",
          "text": [
            "[ 1.000000e+00  6.123234e-17 -1.000000e+00]\n"
          ]
        }
      ]
    },
    {
      "cell_type": "code",
      "source": [
        "# 삼각함수: tan\n",
        "tan_b = np.tan(b_)\n",
        "print(tan_b)"
      ],
      "metadata": {
        "colab": {
          "base_uri": "https://localhost:8080/"
        },
        "id": "427rJqmcog8m",
        "outputId": "a2f0c397-d924-4fe4-f18c-82adf516e06f"
      },
      "execution_count": 89,
      "outputs": [
        {
          "output_type": "stream",
          "name": "stdout",
          "text": [
            "[ 0.00000000e+00  1.63312394e+16 -1.22464680e-16]\n"
          ]
        }
      ]
    },
    {
      "cell_type": "code",
      "source": [
        "# 제곱근 함수\n",
        "arr = np.array([1, 4, 9, 16, 25])\n",
        "sqr = np.sqrt(arr)\n",
        "print(sqr)"
      ],
      "metadata": {
        "colab": {
          "base_uri": "https://localhost:8080/"
        },
        "id": "EOWBmPJGog6Z",
        "outputId": "9be70277-b635-42fe-8a0d-6d944a966962"
      },
      "execution_count": 90,
      "outputs": [
        {
          "output_type": "stream",
          "name": "stdout",
          "text": [
            "[1. 2. 3. 4. 5.]\n"
          ]
        }
      ]
    },
    {
      "cell_type": "markdown",
      "source": [
        "## 집계 및 통계 함수"
      ],
      "metadata": {
        "id": "THCRUklaqfTD"
      }
    },
    {
      "cell_type": "code",
      "source": [
        "# 평균\n",
        "mea = np.mean(arr)\n",
        "print(mea)"
      ],
      "metadata": {
        "colab": {
          "base_uri": "https://localhost:8080/"
        },
        "id": "7fscGf_Vog4b",
        "outputId": "0b8528a0-4246-46ae-d629-e794eb38aeb2"
      },
      "execution_count": 91,
      "outputs": [
        {
          "output_type": "stream",
          "name": "stdout",
          "text": [
            "11.0\n"
          ]
        }
      ]
    },
    {
      "cell_type": "code",
      "source": [
        "# 중앙값\n",
        "mid = np.median(arr)\n",
        "print(mid)"
      ],
      "metadata": {
        "colab": {
          "base_uri": "https://localhost:8080/"
        },
        "id": "A1ztsOBWog3H",
        "outputId": "6f0294a9-29d6-4761-da3b-33009952e5cf"
      },
      "execution_count": 92,
      "outputs": [
        {
          "output_type": "stream",
          "name": "stdout",
          "text": [
            "9.0\n"
          ]
        }
      ]
    },
    {
      "cell_type": "code",
      "source": [
        "# 표준편차\n",
        "std = np.std(arr)\n",
        "print(std)"
      ],
      "metadata": {
        "colab": {
          "base_uri": "https://localhost:8080/"
        },
        "id": "8eo-Gg_3og0b",
        "outputId": "88a179c0-876b-4833-c621-71db42e0261a"
      },
      "execution_count": 93,
      "outputs": [
        {
          "output_type": "stream",
          "name": "stdout",
          "text": [
            "8.648699324175862\n"
          ]
        }
      ]
    },
    {
      "cell_type": "code",
      "source": [
        "# 분산\n",
        "var = np.var(arr)\n",
        "print(var)"
      ],
      "metadata": {
        "colab": {
          "base_uri": "https://localhost:8080/"
        },
        "id": "2nV36q3JllDb",
        "outputId": "47ae770d-bb69-4d6c-e752-f6c2a342ace9"
      },
      "execution_count": 94,
      "outputs": [
        {
          "output_type": "stream",
          "name": "stdout",
          "text": [
            "74.8\n"
          ]
        }
      ]
    },
    {
      "cell_type": "code",
      "source": [
        "# 공분산\n",
        "cov = np.cov(arr)\n",
        "print(cov)"
      ],
      "metadata": {
        "colab": {
          "base_uri": "https://localhost:8080/"
        },
        "id": "sFcsq8uS4Djs",
        "outputId": "2487b8a1-f3d5-40d4-aa58-83f819c06f1a"
      },
      "execution_count": 95,
      "outputs": [
        {
          "output_type": "stream",
          "name": "stdout",
          "text": [
            "93.5\n"
          ]
        }
      ]
    },
    {
      "cell_type": "code",
      "source": [
        "# 배열의 합계\n",
        "sum = np.sum(arr)\n",
        "print(sum)"
      ],
      "metadata": {
        "colab": {
          "base_uri": "https://localhost:8080/"
        },
        "id": "v-4ORNxKyHL-",
        "outputId": "5374598b-4f47-4e9e-c9cf-1b809a47c0c7"
      },
      "execution_count": 96,
      "outputs": [
        {
          "output_type": "stream",
          "name": "stdout",
          "text": [
            "55\n"
          ]
        }
      ]
    },
    {
      "cell_type": "code",
      "source": [
        "# 배열의 누적 합계\n",
        "cum = np.cumsum(arr)\n",
        "print(cum)"
      ],
      "metadata": {
        "colab": {
          "base_uri": "https://localhost:8080/"
        },
        "id": "o90lAtAYyHKQ",
        "outputId": "73ee3ddd-4cce-4bad-f996-68b5fc171211"
      },
      "execution_count": 97,
      "outputs": [
        {
          "output_type": "stream",
          "name": "stdout",
          "text": [
            "[ 1  5 14 30 55]\n"
          ]
        }
      ]
    },
    {
      "cell_type": "code",
      "source": [
        "# 배열의 최소값\n",
        "min = np.argmin(arr)\n",
        "print(min) # 결과: 인덱스"
      ],
      "metadata": {
        "colab": {
          "base_uri": "https://localhost:8080/"
        },
        "id": "NE0P0MA6yHId",
        "outputId": "d57c10fe-4d76-43bd-c66a-7038e7d064e0"
      },
      "execution_count": 98,
      "outputs": [
        {
          "output_type": "stream",
          "name": "stdout",
          "text": [
            "0\n"
          ]
        }
      ]
    },
    {
      "cell_type": "code",
      "source": [
        "# 배열의 최대값\n",
        "max = np.argmax(arr)\n",
        "print(max) # 결과: 인덱스"
      ],
      "metadata": {
        "colab": {
          "base_uri": "https://localhost:8080/"
        },
        "id": "ztoP5o8byHF8",
        "outputId": "846b4627-ee6d-4504-db3d-1dd3c6351ba1"
      },
      "execution_count": 99,
      "outputs": [
        {
          "output_type": "stream",
          "name": "stdout",
          "text": [
            "4\n"
          ]
        }
      ]
    },
    {
      "cell_type": "code",
      "source": [
        "# 배열에서 적어도 한 개 이상이 참인지\n",
        "arr_ = np.array([1, 1, 1, 0])\n",
        "any = np.any(arr_)\n",
        "print(any)"
      ],
      "metadata": {
        "colab": {
          "base_uri": "https://localhost:8080/"
        },
        "id": "apGAmnsYyHDn",
        "outputId": "7398b7f1-e2c8-4fff-f0e3-6221c28bebe0"
      },
      "execution_count": 100,
      "outputs": [
        {
          "output_type": "stream",
          "name": "stdout",
          "text": [
            "True\n"
          ]
        }
      ]
    },
    {
      "cell_type": "code",
      "source": [
        "# 배열의 모든 원소가 참인지\n",
        "all = np.all(arr_)\n",
        "print(all)"
      ],
      "metadata": {
        "colab": {
          "base_uri": "https://localhost:8080/"
        },
        "id": "O_NLhE3SyHBf",
        "outputId": "35a772a6-d3e0-4889-a75c-2cebc3160943"
      },
      "execution_count": 101,
      "outputs": [
        {
          "output_type": "stream",
          "name": "stdout",
          "text": [
            "False\n"
          ]
        }
      ]
    },
    {
      "cell_type": "code",
      "source": [
        "# NaN 값을 0으로 간주하고 합\n",
        "arr2 = np.array([1, 2, np.nan, 4])\n",
        "nsum = np.nansum(arr2)\n",
        "print(nsum)"
      ],
      "metadata": {
        "colab": {
          "base_uri": "https://localhost:8080/"
        },
        "id": "esaE_5ctyG_k",
        "outputId": "0c459a96-461a-4135-c8c2-ede222e1b517"
      },
      "execution_count": 102,
      "outputs": [
        {
          "output_type": "stream",
          "name": "stdout",
          "text": [
            "7.0\n"
          ]
        }
      ]
    },
    {
      "cell_type": "code",
      "source": [
        "# 조건에 맞는 값\n",
        "arr3 = np.array([1, 2, 3, 4, 5])\n",
        "\n",
        "# where(조건, 조건에 맞을 때 넣어줄 값, 조건과 다를 때 넣어줄 값)\n",
        "whe = np.where(arr3 < 4, arr3, 0)\n",
        "print(whe)"
      ],
      "metadata": {
        "colab": {
          "base_uri": "https://localhost:8080/"
        },
        "id": "KPusmB2hyG9m",
        "outputId": "5dddf8b4-f730-445e-f7af-edca1696826f"
      },
      "execution_count": 103,
      "outputs": [
        {
          "output_type": "stream",
          "name": "stdout",
          "text": [
            "[1 2 3 0 0]\n"
          ]
        }
      ]
    },
    {
      "cell_type": "code",
      "source": [
        "# Permutation 순열\n",
        "# 순서를 정해서 나열\n",
        "\n",
        "per = np.random.permutation(5) # 5까지 범위의 무작위 순열된 값 리턴\n",
        "                               # 원본 배열을 만들어서 그 값을 넣어주거나 숫자만 입력해서 사용 가능\n",
        "print(per)"
      ],
      "metadata": {
        "colab": {
          "base_uri": "https://localhost:8080/"
        },
        "id": "vQjDqjo_yG7f",
        "outputId": "b97294a3-70c0-4077-82b5-ed5ac1cb1ba6"
      },
      "execution_count": 104,
      "outputs": [
        {
          "output_type": "stream",
          "name": "stdout",
          "text": [
            "[2 0 1 3 4]\n"
          ]
        }
      ]
    },
    {
      "cell_type": "code",
      "source": [
        "# Shuffle 셔플\n",
        "# 배열을 무작위로 섞어줌\n",
        "# permutation은 원본 배열이 필요 없지만 shuffle은 필요\n",
        "# permutation은 원본 배열이 보존되지만 shuffle은 원본 배열이 변함\n",
        "\n",
        "s = np.arange(5)\n",
        "np.random.shuffle(s)\n",
        "print(s)"
      ],
      "metadata": {
        "colab": {
          "base_uri": "https://localhost:8080/"
        },
        "id": "pdIhgGluyG5d",
        "outputId": "ed8cfc23-72cc-46a1-9983-588fd9b098f9"
      },
      "execution_count": 105,
      "outputs": [
        {
          "output_type": "stream",
          "name": "stdout",
          "text": [
            "[4 0 3 2 1]\n"
          ]
        }
      ]
    },
    {
      "cell_type": "code",
      "source": [
        "# Combination 조합 (Numpy 1.17 버전 이후 사용 가능)\n",
        "# 지정된 길이의 조합\n",
        "\n",
        "c = np.math.comb(5, 2) # 5개 요소에서 2개 선택\n",
        "print(c)"
      ],
      "metadata": {
        "colab": {
          "base_uri": "https://localhost:8080/"
        },
        "id": "spgkJ4FByG3m",
        "outputId": "ef7e7cb1-5cbe-4571-f17c-1374541255a7"
      },
      "execution_count": 106,
      "outputs": [
        {
          "output_type": "stream",
          "name": "stdout",
          "text": [
            "10\n"
          ]
        }
      ]
    },
    {
      "cell_type": "markdown",
      "source": [
        "# Pandas 통계 함수"
      ],
      "metadata": {
        "id": "enVVsBI54TLb"
      }
    },
    {
      "cell_type": "code",
      "source": [
        "import pandas as pd"
      ],
      "metadata": {
        "id": "hO9XuL_kyG1y"
      },
      "execution_count": 107,
      "outputs": []
    },
    {
      "cell_type": "code",
      "source": [
        "data = pd.DataFrame({\n",
        "    '도시': ['서울', '부산', '제주', '서울', '제주', '제주', '부산', '부산', '제주'],\n",
        "    '연도': [2015, 2016, 2017, 2018, 2019, 2020, 2021, 2022, 2023],\n",
        "    '전입신고 수': [10040, 22300, 6000, 12400, 4000, 600, 11100, 45000, 31000],\n",
        "    '세금': [1004000, 2230000, 600000, 1240000, 400000, 60000, 1110000, 4500000, 3100000]\n",
        "})"
      ],
      "metadata": {
        "id": "-egOqjWIyGzu"
      },
      "execution_count": 108,
      "outputs": []
    },
    {
      "cell_type": "code",
      "source": [
        "data"
      ],
      "metadata": {
        "colab": {
          "base_uri": "https://localhost:8080/",
          "height": 332
        },
        "id": "m2LYy2n_yGxn",
        "outputId": "6cea5692-6ff2-459a-b4a1-dbe45743d7d0"
      },
      "execution_count": 109,
      "outputs": [
        {
          "output_type": "execute_result",
          "data": {
            "text/plain": [
              "   도시    연도  전입신고 수       세금\n",
              "0  서울  2015   10040  1004000\n",
              "1  부산  2016   22300  2230000\n",
              "2  제주  2017    6000   600000\n",
              "3  서울  2018   12400  1240000\n",
              "4  제주  2019    4000   400000\n",
              "5  제주  2020     600    60000\n",
              "6  부산  2021   11100  1110000\n",
              "7  부산  2022   45000  4500000\n",
              "8  제주  2023   31000  3100000"
            ],
            "text/html": [
              "\n",
              "  <div id=\"df-2daab829-afa6-4c7a-947e-a7f558523fd3\">\n",
              "    <div class=\"colab-df-container\">\n",
              "      <div>\n",
              "<style scoped>\n",
              "    .dataframe tbody tr th:only-of-type {\n",
              "        vertical-align: middle;\n",
              "    }\n",
              "\n",
              "    .dataframe tbody tr th {\n",
              "        vertical-align: top;\n",
              "    }\n",
              "\n",
              "    .dataframe thead th {\n",
              "        text-align: right;\n",
              "    }\n",
              "</style>\n",
              "<table border=\"1\" class=\"dataframe\">\n",
              "  <thead>\n",
              "    <tr style=\"text-align: right;\">\n",
              "      <th></th>\n",
              "      <th>도시</th>\n",
              "      <th>연도</th>\n",
              "      <th>전입신고 수</th>\n",
              "      <th>세금</th>\n",
              "    </tr>\n",
              "  </thead>\n",
              "  <tbody>\n",
              "    <tr>\n",
              "      <th>0</th>\n",
              "      <td>서울</td>\n",
              "      <td>2015</td>\n",
              "      <td>10040</td>\n",
              "      <td>1004000</td>\n",
              "    </tr>\n",
              "    <tr>\n",
              "      <th>1</th>\n",
              "      <td>부산</td>\n",
              "      <td>2016</td>\n",
              "      <td>22300</td>\n",
              "      <td>2230000</td>\n",
              "    </tr>\n",
              "    <tr>\n",
              "      <th>2</th>\n",
              "      <td>제주</td>\n",
              "      <td>2017</td>\n",
              "      <td>6000</td>\n",
              "      <td>600000</td>\n",
              "    </tr>\n",
              "    <tr>\n",
              "      <th>3</th>\n",
              "      <td>서울</td>\n",
              "      <td>2018</td>\n",
              "      <td>12400</td>\n",
              "      <td>1240000</td>\n",
              "    </tr>\n",
              "    <tr>\n",
              "      <th>4</th>\n",
              "      <td>제주</td>\n",
              "      <td>2019</td>\n",
              "      <td>4000</td>\n",
              "      <td>400000</td>\n",
              "    </tr>\n",
              "    <tr>\n",
              "      <th>5</th>\n",
              "      <td>제주</td>\n",
              "      <td>2020</td>\n",
              "      <td>600</td>\n",
              "      <td>60000</td>\n",
              "    </tr>\n",
              "    <tr>\n",
              "      <th>6</th>\n",
              "      <td>부산</td>\n",
              "      <td>2021</td>\n",
              "      <td>11100</td>\n",
              "      <td>1110000</td>\n",
              "    </tr>\n",
              "    <tr>\n",
              "      <th>7</th>\n",
              "      <td>부산</td>\n",
              "      <td>2022</td>\n",
              "      <td>45000</td>\n",
              "      <td>4500000</td>\n",
              "    </tr>\n",
              "    <tr>\n",
              "      <th>8</th>\n",
              "      <td>제주</td>\n",
              "      <td>2023</td>\n",
              "      <td>31000</td>\n",
              "      <td>3100000</td>\n",
              "    </tr>\n",
              "  </tbody>\n",
              "</table>\n",
              "</div>\n",
              "      <button class=\"colab-df-convert\" onclick=\"convertToInteractive('df-2daab829-afa6-4c7a-947e-a7f558523fd3')\"\n",
              "              title=\"Convert this dataframe to an interactive table.\"\n",
              "              style=\"display:none;\">\n",
              "        \n",
              "  <svg xmlns=\"http://www.w3.org/2000/svg\" height=\"24px\"viewBox=\"0 0 24 24\"\n",
              "       width=\"24px\">\n",
              "    <path d=\"M0 0h24v24H0V0z\" fill=\"none\"/>\n",
              "    <path d=\"M18.56 5.44l.94 2.06.94-2.06 2.06-.94-2.06-.94-.94-2.06-.94 2.06-2.06.94zm-11 1L8.5 8.5l.94-2.06 2.06-.94-2.06-.94L8.5 2.5l-.94 2.06-2.06.94zm10 10l.94 2.06.94-2.06 2.06-.94-2.06-.94-.94-2.06-.94 2.06-2.06.94z\"/><path d=\"M17.41 7.96l-1.37-1.37c-.4-.4-.92-.59-1.43-.59-.52 0-1.04.2-1.43.59L10.3 9.45l-7.72 7.72c-.78.78-.78 2.05 0 2.83L4 21.41c.39.39.9.59 1.41.59.51 0 1.02-.2 1.41-.59l7.78-7.78 2.81-2.81c.8-.78.8-2.07 0-2.86zM5.41 20L4 18.59l7.72-7.72 1.47 1.35L5.41 20z\"/>\n",
              "  </svg>\n",
              "      </button>\n",
              "      \n",
              "  <style>\n",
              "    .colab-df-container {\n",
              "      display:flex;\n",
              "      flex-wrap:wrap;\n",
              "      gap: 12px;\n",
              "    }\n",
              "\n",
              "    .colab-df-convert {\n",
              "      background-color: #E8F0FE;\n",
              "      border: none;\n",
              "      border-radius: 50%;\n",
              "      cursor: pointer;\n",
              "      display: none;\n",
              "      fill: #1967D2;\n",
              "      height: 32px;\n",
              "      padding: 0 0 0 0;\n",
              "      width: 32px;\n",
              "    }\n",
              "\n",
              "    .colab-df-convert:hover {\n",
              "      background-color: #E2EBFA;\n",
              "      box-shadow: 0px 1px 2px rgba(60, 64, 67, 0.3), 0px 1px 3px 1px rgba(60, 64, 67, 0.15);\n",
              "      fill: #174EA6;\n",
              "    }\n",
              "\n",
              "    [theme=dark] .colab-df-convert {\n",
              "      background-color: #3B4455;\n",
              "      fill: #D2E3FC;\n",
              "    }\n",
              "\n",
              "    [theme=dark] .colab-df-convert:hover {\n",
              "      background-color: #434B5C;\n",
              "      box-shadow: 0px 1px 3px 1px rgba(0, 0, 0, 0.15);\n",
              "      filter: drop-shadow(0px 1px 2px rgba(0, 0, 0, 0.3));\n",
              "      fill: #FFFFFF;\n",
              "    }\n",
              "  </style>\n",
              "\n",
              "      <script>\n",
              "        const buttonEl =\n",
              "          document.querySelector('#df-2daab829-afa6-4c7a-947e-a7f558523fd3 button.colab-df-convert');\n",
              "        buttonEl.style.display =\n",
              "          google.colab.kernel.accessAllowed ? 'block' : 'none';\n",
              "\n",
              "        async function convertToInteractive(key) {\n",
              "          const element = document.querySelector('#df-2daab829-afa6-4c7a-947e-a7f558523fd3');\n",
              "          const dataTable =\n",
              "            await google.colab.kernel.invokeFunction('convertToInteractive',\n",
              "                                                     [key], {});\n",
              "          if (!dataTable) return;\n",
              "\n",
              "          const docLinkHtml = 'Like what you see? Visit the ' +\n",
              "            '<a target=\"_blank\" href=https://colab.research.google.com/notebooks/data_table.ipynb>data table notebook</a>'\n",
              "            + ' to learn more about interactive tables.';\n",
              "          element.innerHTML = '';\n",
              "          dataTable['output_type'] = 'display_data';\n",
              "          await google.colab.output.renderOutput(dataTable, element);\n",
              "          const docLink = document.createElement('div');\n",
              "          docLink.innerHTML = docLinkHtml;\n",
              "          element.appendChild(docLink);\n",
              "        }\n",
              "      </script>\n",
              "    </div>\n",
              "  </div>\n",
              "  "
            ]
          },
          "metadata": {},
          "execution_count": 109
        }
      ]
    },
    {
      "cell_type": "code",
      "source": [
        "# 최대값\n",
        "data['세금'].max()"
      ],
      "metadata": {
        "colab": {
          "base_uri": "https://localhost:8080/"
        },
        "id": "dbPsmguuyGvR",
        "outputId": "199331e1-fd85-43c0-b5d0-f5f00f225816"
      },
      "execution_count": 110,
      "outputs": [
        {
          "output_type": "execute_result",
          "data": {
            "text/plain": [
              "4500000"
            ]
          },
          "metadata": {},
          "execution_count": 110
        }
      ]
    },
    {
      "cell_type": "code",
      "source": [
        "# 최소값\n",
        "data['세금'].min()"
      ],
      "metadata": {
        "colab": {
          "base_uri": "https://localhost:8080/"
        },
        "id": "YfYrPzG75biv",
        "outputId": "1008134f-388b-4046-841e-105fccb02b2f"
      },
      "execution_count": 111,
      "outputs": [
        {
          "output_type": "execute_result",
          "data": {
            "text/plain": [
              "60000"
            ]
          },
          "metadata": {},
          "execution_count": 111
        }
      ]
    },
    {
      "cell_type": "code",
      "source": [
        "# 평균\n",
        "data['세금'].mean()"
      ],
      "metadata": {
        "colab": {
          "base_uri": "https://localhost:8080/"
        },
        "id": "q1D3DakX5bga",
        "outputId": "055adccb-dafa-4937-d5e8-d415627e5d71"
      },
      "execution_count": 112,
      "outputs": [
        {
          "output_type": "execute_result",
          "data": {
            "text/plain": [
              "1582666.6666666667"
            ]
          },
          "metadata": {},
          "execution_count": 112
        }
      ]
    },
    {
      "cell_type": "code",
      "source": [
        "# 중앙값\n",
        "data['세금'].median()"
      ],
      "metadata": {
        "colab": {
          "base_uri": "https://localhost:8080/"
        },
        "id": "DQZG7Pme5be6",
        "outputId": "b6e127f1-52d8-4a47-ab66-fef0d0d2756d"
      },
      "execution_count": 113,
      "outputs": [
        {
          "output_type": "execute_result",
          "data": {
            "text/plain": [
              "1110000.0"
            ]
          },
          "metadata": {},
          "execution_count": 113
        }
      ]
    },
    {
      "cell_type": "code",
      "source": [
        "# 최빈값\n",
        "data['세금'].mode()"
      ],
      "metadata": {
        "colab": {
          "base_uri": "https://localhost:8080/"
        },
        "id": "vtyNbgNx5bc7",
        "outputId": "f2cb1a3f-41d2-4879-faf9-98b23355ff42"
      },
      "execution_count": 114,
      "outputs": [
        {
          "output_type": "execute_result",
          "data": {
            "text/plain": [
              "0      60000\n",
              "1     400000\n",
              "2     600000\n",
              "3    1004000\n",
              "4    1110000\n",
              "5    1240000\n",
              "6    2230000\n",
              "7    3100000\n",
              "8    4500000\n",
              "Name: 세금, dtype: int64"
            ]
          },
          "metadata": {},
          "execution_count": 114
        }
      ]
    },
    {
      "cell_type": "code",
      "source": [
        "# 합계\n",
        "data['세금'].sum()"
      ],
      "metadata": {
        "colab": {
          "base_uri": "https://localhost:8080/"
        },
        "id": "QoILBbw95bag",
        "outputId": "33aa3f1f-a248-4c84-a527-4dd0a16dbe1f"
      },
      "execution_count": 115,
      "outputs": [
        {
          "output_type": "execute_result",
          "data": {
            "text/plain": [
              "14244000"
            ]
          },
          "metadata": {},
          "execution_count": 115
        }
      ]
    },
    {
      "cell_type": "code",
      "source": [
        "# 데이터 수(결측값 제외)\n",
        "data['세금'].count()"
      ],
      "metadata": {
        "colab": {
          "base_uri": "https://localhost:8080/"
        },
        "id": "Nraw2HFx5bYS",
        "outputId": "73ccd1c2-5fec-4234-fb1a-9afe51839f4c"
      },
      "execution_count": 116,
      "outputs": [
        {
          "output_type": "execute_result",
          "data": {
            "text/plain": [
              "9"
            ]
          },
          "metadata": {},
          "execution_count": 116
        }
      ]
    },
    {
      "cell_type": "code",
      "source": [
        "# 분위수\n",
        "data['세금'].quantile()"
      ],
      "metadata": {
        "colab": {
          "base_uri": "https://localhost:8080/"
        },
        "id": "r3cTuqyF5bV9",
        "outputId": "39cdb9ca-f8f3-4ff1-e8a7-52b4ed783e81"
      },
      "execution_count": 117,
      "outputs": [
        {
          "output_type": "execute_result",
          "data": {
            "text/plain": [
              "1110000.0"
            ]
          },
          "metadata": {},
          "execution_count": 117
        }
      ]
    },
    {
      "cell_type": "code",
      "source": [
        "# 분산\n",
        "data['세금'].var()"
      ],
      "metadata": {
        "colab": {
          "base_uri": "https://localhost:8080/"
        },
        "id": "d9-SkZNB5bT3",
        "outputId": "8c8af6b5-bf50-4af1-aa00-691cb5bed604"
      },
      "execution_count": 118,
      "outputs": [
        {
          "output_type": "execute_result",
          "data": {
            "text/plain": [
              "2073839000000.0"
            ]
          },
          "metadata": {},
          "execution_count": 118
        }
      ]
    },
    {
      "cell_type": "code",
      "source": [
        "# 왜도\n",
        "data['세금'].skew()"
      ],
      "metadata": {
        "colab": {
          "base_uri": "https://localhost:8080/"
        },
        "id": "Z50_nPld5bRx",
        "outputId": "483e4078-726b-4f21-a06c-8b39e96f6653"
      },
      "execution_count": 119,
      "outputs": [
        {
          "output_type": "execute_result",
          "data": {
            "text/plain": [
              "1.1903851942409518"
            ]
          },
          "metadata": {},
          "execution_count": 119
        }
      ]
    },
    {
      "cell_type": "code",
      "source": [
        "# 첨도\n",
        "data['세금'].kurt()"
      ],
      "metadata": {
        "colab": {
          "base_uri": "https://localhost:8080/"
        },
        "id": "5YwWuZae5bPh",
        "outputId": "850ec619-ffa9-4800-bb52-afd0c37bf849"
      },
      "execution_count": 120,
      "outputs": [
        {
          "output_type": "execute_result",
          "data": {
            "text/plain": [
              "0.8065444705713558"
            ]
          },
          "metadata": {},
          "execution_count": 120
        }
      ]
    },
    {
      "cell_type": "code",
      "source": [
        "# 평균표준오차\n",
        "data['세금'].sem()"
      ],
      "metadata": {
        "colab": {
          "base_uri": "https://localhost:8080/"
        },
        "id": "0kVyiEUx5bNS",
        "outputId": "9b676902-0a7d-46e7-f438-540edc76cbdf"
      },
      "execution_count": 121,
      "outputs": [
        {
          "output_type": "execute_result",
          "data": {
            "text/plain": [
              "480027.66124001186"
            ]
          },
          "metadata": {},
          "execution_count": 121
        }
      ]
    },
    {
      "cell_type": "code",
      "source": [
        "# 평균절대편차 (mad 매서드 사용 불가)\n",
        "(data['세금'] - data['세금'].mean()).abs().mean()"
      ],
      "metadata": {
        "colab": {
          "base_uri": "https://localhost:8080/"
        },
        "id": "vcq1Bmyc5bLP",
        "outputId": "2c452044-6f66-4acd-8cee-109dc79277e7"
      },
      "execution_count": 122,
      "outputs": [
        {
          "output_type": "execute_result",
          "data": {
            "text/plain": [
              "1129333.3333333335"
            ]
          },
          "metadata": {},
          "execution_count": 122
        }
      ]
    },
    {
      "cell_type": "code",
      "source": [
        "# 누적합\n",
        "data['세금'].cumsum()"
      ],
      "metadata": {
        "colab": {
          "base_uri": "https://localhost:8080/"
        },
        "id": "0LYJKm7L6FD5",
        "outputId": "689aefe9-c0da-4e04-9112-efe5113ec4a2"
      },
      "execution_count": 123,
      "outputs": [
        {
          "output_type": "execute_result",
          "data": {
            "text/plain": [
              "0     1004000\n",
              "1     3234000\n",
              "2     3834000\n",
              "3     5074000\n",
              "4     5474000\n",
              "5     5534000\n",
              "6     6644000\n",
              "7    11144000\n",
              "8    14244000\n",
              "Name: 세금, dtype: int64"
            ]
          },
          "metadata": {},
          "execution_count": 123
        }
      ]
    },
    {
      "cell_type": "code",
      "source": [
        "# 누적 최대값\n",
        "data['세금'].cummax()"
      ],
      "metadata": {
        "colab": {
          "base_uri": "https://localhost:8080/"
        },
        "id": "tY2_XMEb6FB_",
        "outputId": "b63fdb1f-0438-4a75-ee9c-09b3df738bdf"
      },
      "execution_count": 124,
      "outputs": [
        {
          "output_type": "execute_result",
          "data": {
            "text/plain": [
              "0    1004000\n",
              "1    2230000\n",
              "2    2230000\n",
              "3    2230000\n",
              "4    2230000\n",
              "5    2230000\n",
              "6    2230000\n",
              "7    4500000\n",
              "8    4500000\n",
              "Name: 세금, dtype: int64"
            ]
          },
          "metadata": {},
          "execution_count": 124
        }
      ]
    },
    {
      "cell_type": "code",
      "source": [
        "# 누적 최소값\n",
        "data['세금'].cummin()"
      ],
      "metadata": {
        "colab": {
          "base_uri": "https://localhost:8080/"
        },
        "id": "wOrv03oB6FAG",
        "outputId": "0c08392e-2be2-4f5e-cc44-3e8138a9f3d9"
      },
      "execution_count": 125,
      "outputs": [
        {
          "output_type": "execute_result",
          "data": {
            "text/plain": [
              "0    1004000\n",
              "1    1004000\n",
              "2     600000\n",
              "3     600000\n",
              "4     400000\n",
              "5      60000\n",
              "6      60000\n",
              "7      60000\n",
              "8      60000\n",
              "Name: 세금, dtype: int64"
            ]
          },
          "metadata": {},
          "execution_count": 125
        }
      ]
    }
  ]
}