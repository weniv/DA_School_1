{
  "nbformat": 4,
  "nbformat_minor": 0,
  "metadata": {
    "colab": {
      "provenance": []
    },
    "kernelspec": {
      "name": "python3",
      "display_name": "Python 3"
    },
    "language_info": {
      "name": "python"
    }
  },
  "cells": [
    {
      "cell_type": "code",
      "execution_count": null,
      "metadata": {
        "id": "bIR7AJ1e99Lt"
      },
      "outputs": [],
      "source": [
        "put_int_day = 230427\n",
        "put_float = 3.14\n",
        "put_str_school = \"DaSchool-1\"\n",
        "put_str_subject = \"Python-기초\""
      ]
    },
    {
      "cell_type": "code",
      "source": [
        "print(\"정수 : %i, 실수 : %f, 문자열 : %s, 문자열 : %s\" % (put_int_day, put_float, put_str_school, put_str_subject))\n",
        "\n",
        "print(\"정수 : {}, 실수 : {}, 문자열 : {}, 문자열 : {}\".format(put_int_day, put_float, put_str_school, put_str_subject))\n",
        "\n",
        "print(f\"정수 : {put_int_day}, 실수 : {put_float}, 문자열 : {put_str_school}, 문자열 : {put_str_subject}\")"
      ],
      "metadata": {
        "colab": {
          "base_uri": "https://localhost:8080/"
        },
        "id": "bLzVwdMXBQbN",
        "outputId": "d1556e42-3709-4220-f9da-de5c122231b5"
      },
      "execution_count": null,
      "outputs": [
        {
          "output_type": "stream",
          "name": "stdout",
          "text": [
            "정수 : 230427, 실수 : 3.140000, 문자열 : DaSchool-1, 문자열 : Python-기초\n",
            "정수 : 230427, 실수 : 3.14, 문자열 : DaSchool-1, 문자열 : Python-기초\n",
            "정수 : 230427, 실수 : 3.14, 문자열 : DaSchool-1, 문자열 : Python-기초\n"
          ]
        }
      ]
    },
    {
      "cell_type": "markdown",
      "source": [
        "정렬 연습을 해보겠습니다."
      ],
      "metadata": {
        "id": "qujWg3I6-XIW"
      }
    },
    {
      "cell_type": "code",
      "source": [
        "print(\"정수 : %20i\" % put_int_day) # 20자리를 비운 후 오른쪽 정렬\n",
        "\n",
        "print(\"실수 : %20.2f\" % put_float) # 20자리를 비운 후 소수점 2째 자리까지 오른쪽 정렬\n",
        "\n",
        "print(\"문자열 : %20s\" % put_str_school) # 20자리를 비운 후 오른쪽 정렬\n"
      ],
      "metadata": {
        "colab": {
          "base_uri": "https://localhost:8080/"
        },
        "id": "-OJezPkH-WpE",
        "outputId": "ab3c741b-1cbd-4bde-c072-c9a2c1bed639"
      },
      "execution_count": null,
      "outputs": [
        {
          "output_type": "stream",
          "name": "stdout",
          "text": [
            "정수 :               230427\n",
            "실수 :                 3.14\n",
            "문자열 :           DaSchool-1\n"
          ]
        }
      ]
    },
    {
      "cell_type": "code",
      "source": [
        "print(\"정수 : {1}, 실수 : {0}\".format(put_float, put_int_day)) # 순서 지정 가능\n",
        "\n",
        "print('\\n')\n",
        "print(\"정수 : {:20}\".format(put_int_day)) # 20자리를 비운 후 오른쪽 정렬\n",
        "\n",
        "print(\"정수 : {:<20}\".format(put_int_day)) # 20자리를 비운 후 왼쪽 정렬\n",
        "               \n",
        "print('\\n')\n",
        "print(\"정수 : {:*<20}\".format(put_int_day)) # 왼쪽 정렬 후 나머지 자리를 *로 채움\n",
        "\n",
        "print(\"정수 : {:ㅑ>20}\".format(put_int_day)) # 오른쪽 정렬 후 나머지 자리를 ㅑ로 채움\n",
        "\n",
        "print(\"정수 : {:-^20}\".format(put_int_day)) # 가운데 정렬 후 나머지 자리를 -로 채움\n",
        "\n",
        "\n",
        "print('\\n')\n",
        "print(\"실수 : {:20.2}\".format(put_float)) # 20자리를 비운 후 숫자 2 개 오른쪽 정렬\n",
        "\n",
        "print(\"실수 : {:20.2f}\".format(put_float)) # 20자리를 비운 후 소수점 2째 자리까지 오른쪽 정렬\n",
        "\n",
        "print(\"문자열 : {:20s}\".format(put_str_subject)) # 20자리를 비운 후 왼쪽 정렬\n"
      ],
      "metadata": {
        "colab": {
          "base_uri": "https://localhost:8080/"
        },
        "id": "0xHT6qUi_FJc",
        "outputId": "13a491d2-cc4c-4d15-9273-840ed428c5dd"
      },
      "execution_count": null,
      "outputs": [
        {
          "output_type": "stream",
          "name": "stdout",
          "text": [
            "정수 : 230427, 실수 : 3.14\n",
            "\n",
            "\n",
            "정수 :               230427\n",
            "정수 : 230427              \n",
            "\n",
            "\n",
            "정수 : 230427**************\n",
            "정수 : ㅑㅑㅑㅑㅑㅑㅑㅑㅑㅑㅑㅑㅑㅑ230427\n",
            "정수 : -------230427-------\n",
            "\n",
            "\n",
            "실수 :                  3.1\n",
            "실수 :                 3.14\n",
            "문자열 : Python-기초           \n"
          ]
        }
      ]
    },
    {
      "cell_type": "code",
      "source": [
        "print(f\"정수 : {put_int_day}, 실수 : {put_float}, 문자열 : {put_str_school}, 문자열 : {put_str_subject}\")\n",
        "\n",
        "\n",
        "print(f\"정수 : {put_int_day:20}\") # 20자리를 비운 후 오른쪽 정렬"
      ],
      "metadata": {
        "colab": {
          "base_uri": "https://localhost:8080/"
        },
        "id": "N4ICU4zq_HWm",
        "outputId": "ef9f4d1d-75d6-4b5c-ede3-7e1dfdb14817"
      },
      "execution_count": null,
      "outputs": [
        {
          "output_type": "stream",
          "name": "stdout",
          "text": [
            "정수 : 230427, 실수 : 3.14, 문자열 : DaSchool-1, 문자열 : Python-기초\n",
            "정수 :               230427\n"
          ]
        }
      ]
    },
    {
      "cell_type": "code",
      "source": [],
      "metadata": {
        "id": "-fFuLiz2AMBG"
      },
      "execution_count": null,
      "outputs": []
    }
  ]
}