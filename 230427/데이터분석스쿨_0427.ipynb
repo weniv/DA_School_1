{
  "nbformat": 4,
  "nbformat_minor": 0,
  "metadata": {
    "colab": {
      "provenance": []
    },
    "kernelspec": {
      "name": "python3",
      "display_name": "Python 3"
    },
    "language_info": {
      "name": "python"
    }
  },
  "cells": [
    {
      "cell_type": "markdown",
      "source": [
        "# Python"
      ],
      "metadata": {
        "id": "ZSno16EwUykI"
      }
    },
    {
      "cell_type": "markdown",
      "source": [
        "## 주석"
      ],
      "metadata": {
        "id": "4bvJwsYK59P7"
      }
    },
    {
      "cell_type": "code",
      "source": [
        "# 주석 : 코드를 보류하거나\n",
        "# 해당 코드에 대한 설명을 할 경우\n",
        "\n",
        "# 행 단위 주석입니다.\n",
        "\n",
        "# 열\n",
        "# 단위 \n",
        "# 주석입니다.\n",
        "\n",
        "'''\n",
        "열\n",
        "단위\n",
        "주석입니다.\n",
        "'''\n",
        "\n",
        "1 + 1"
      ],
      "metadata": {
        "colab": {
          "base_uri": "https://localhost:8080/"
        },
        "id": "4tqMwbOZu73B",
        "outputId": "aab997d3-b70e-4845-9754-f18e26b46286"
      },
      "execution_count": null,
      "outputs": [
        {
          "output_type": "execute_result",
          "data": {
            "text/plain": [
              "2"
            ]
          },
          "metadata": {},
          "execution_count": 1
        }
      ]
    },
    {
      "cell_type": "code",
      "source": [
        "def solution(hello):\n",
        "    \"\"\"Connects to the next available port.\n",
        "\n",
        "    Args:\n",
        "      minimum: A port value greater or equal to 1024.\n",
        "\n",
        "    Returns:\n",
        "      The new minimum port.\n",
        "\n",
        "    Raises:\n",
        "      ConnectionError: If no available port is found.\n",
        "    \"\"\"\n",
        "    return hello"
      ],
      "metadata": {
        "id": "DcY8dv34YEI5"
      },
      "execution_count": null,
      "outputs": []
    },
    {
      "cell_type": "code",
      "source": [
        "solution"
      ],
      "metadata": {
        "id": "Gb_-AxzADMkQ"
      },
      "execution_count": null,
      "outputs": []
    },
    {
      "cell_type": "code",
      "source": [
        "# 주석을 읽지 않고도 쉽게 읽을 수 있는 코드"
      ],
      "metadata": {
        "id": "cDfbBZQXY3xg"
      },
      "execution_count": null,
      "outputs": []
    },
    {
      "cell_type": "markdown",
      "source": [
        "## 변수의 type"
      ],
      "metadata": {
        "id": "nRON966h4UyN"
      }
    },
    {
      "cell_type": "code",
      "source": [
        "def hello():\n",
        "    return\n",
        "\n",
        "class A:\n",
        "    pass\n",
        "\n",
        "a = 10     #int, 정수형\n",
        "b = 10.1   #float, 실수\n",
        "c = -1\n",
        "d = True   #bool, 논리형(부울형, 참거짓형)\n",
        "e = 'good'\n",
        "f = '10'   #str, 문자열\n",
        "g = 'kim'\n",
        "h = 'honggildong'\n",
        "i = 'example'\n",
        "j = 10 + 2j #complex, 복소수\n",
        "k = 0b110   #int, 2진법 \n",
        "l = 0o56    #int, 8진법\n",
        "m = 0xAC    #int, 16진법\n",
        "\n",
        "##########\n",
        "n = hello # function\n",
        "o = print # bulit-in function\n",
        "p = lambda x:x**2 # function\n",
        "q = A # class\n",
        "r = A() # instance\n",
        "##########\n",
        "\n",
        "print('type(10) : ', type(a))\n",
        "print('type(10.1) : ', type(b))\n",
        "print('type(-1) : ', type(c))\n",
        "print('type(True) : ', type(d))\n",
        "print('type(\\'good\\') : ', type(e))\n",
        "print('\\'10\\' + \\'10\\' : ', f + f)\n",
        "print('\\'10\\' * 3', f * 3)\n",
        "print('\\'hong\\' + \\'gildong\\'', g + h)\n",
        "print('type(\\'gildong\\') : ', type(h))\n",
        "print('type(\\'gildong100!!\\') : ', type(i))\n",
        "print('type(10 + 2j) : ', type(j))\n",
        "print('type(0b110) : ', type(k))\n",
        "print(k)\n",
        "print('type(0o56) : ', type(i))\n",
        "print(i)\n",
        "print('type(0xAC) : ', type(m))\n",
        "print(m)"
      ],
      "metadata": {
        "id": "4eM4gbOR4g4a"
      },
      "execution_count": null,
      "outputs": []
    },
    {
      "cell_type": "markdown",
      "source": [
        "## 변수"
      ],
      "metadata": {
        "id": "XHFD2ejO5VW8"
      }
    },
    {
      "cell_type": "code",
      "source": [
        "# CS에서 변수란? 포스트잇(메모리 공간을 가리키는)\n",
        "a = 10 # a -> 10\n",
        "a = 20 # a -> 20"
      ],
      "metadata": {
        "id": "lzXwDBW-ZFbz"
      },
      "execution_count": null,
      "outputs": []
    },
    {
      "cell_type": "code",
      "source": [
        "a = 10\n",
        "b = a\n",
        "a = 20\n",
        "b"
      ],
      "metadata": {
        "colab": {
          "base_uri": "https://localhost:8080/"
        },
        "id": "cTgLJYo-aDsZ",
        "outputId": "3e365b4e-b8da-47f1-9a5d-eebd8f3d21fc"
      },
      "execution_count": null,
      "outputs": [
        {
          "output_type": "execute_result",
          "data": {
            "text/plain": [
              "10"
            ]
          },
          "metadata": {},
          "execution_count": 4
        }
      ]
    },
    {
      "cell_type": "code",
      "source": [
        "id(a)"
      ],
      "metadata": {
        "colab": {
          "base_uri": "https://localhost:8080/"
        },
        "id": "dMpqCLE9aRNm",
        "outputId": "08f9309b-50b8-4956-9641-136c59b9be57"
      },
      "execution_count": null,
      "outputs": [
        {
          "output_type": "execute_result",
          "data": {
            "text/plain": [
              "139804790827920"
            ]
          },
          "metadata": {},
          "execution_count": 5
        }
      ]
    },
    {
      "cell_type": "code",
      "source": [
        "id(b)"
      ],
      "metadata": {
        "colab": {
          "base_uri": "https://localhost:8080/"
        },
        "id": "MJ7MiVleas6C",
        "outputId": "0afaa3b6-690b-4eb4-8595-37ebce769a5a"
      },
      "execution_count": null,
      "outputs": [
        {
          "output_type": "execute_result",
          "data": {
            "text/plain": [
              "139804790827600"
            ]
          },
          "metadata": {},
          "execution_count": 6
        }
      ]
    },
    {
      "cell_type": "code",
      "source": [
        "a = 10\n",
        "b = a"
      ],
      "metadata": {
        "id": "E7wb0-L9awO4"
      },
      "execution_count": null,
      "outputs": []
    },
    {
      "cell_type": "code",
      "source": [
        "id(a), id(b)"
      ],
      "metadata": {
        "colab": {
          "base_uri": "https://localhost:8080/"
        },
        "id": "j4DkoVh4a0X0",
        "outputId": "714e66c1-150d-4af9-94f1-30812742444b"
      },
      "execution_count": null,
      "outputs": [
        {
          "output_type": "execute_result",
          "data": {
            "text/plain": [
              "(139804790827600, 139804790827600)"
            ]
          },
          "metadata": {},
          "execution_count": 10
        }
      ]
    },
    {
      "cell_type": "code",
      "source": [
        "a is b"
      ],
      "metadata": {
        "colab": {
          "base_uri": "https://localhost:8080/"
        },
        "id": "_jVsUYhLbAKJ",
        "outputId": "0a4eec78-2286-4007-ad3a-5a9cb2a94899"
      },
      "execution_count": null,
      "outputs": [
        {
          "output_type": "execute_result",
          "data": {
            "text/plain": [
              "True"
            ]
          },
          "metadata": {},
          "execution_count": 11
        }
      ]
    },
    {
      "cell_type": "code",
      "source": [
        "a = 10\n",
        "b = 10"
      ],
      "metadata": {
        "id": "SdKXftD_bAvP"
      },
      "execution_count": null,
      "outputs": []
    },
    {
      "cell_type": "code",
      "source": [
        "id(a), id(b)"
      ],
      "metadata": {
        "colab": {
          "base_uri": "https://localhost:8080/"
        },
        "id": "2c0qmU-1bIZY",
        "outputId": "2a804542-13d6-4b38-87c7-c1c7ae54cdee"
      },
      "execution_count": null,
      "outputs": [
        {
          "output_type": "execute_result",
          "data": {
            "text/plain": [
              "(139804790827600, 139804790827600)"
            ]
          },
          "metadata": {},
          "execution_count": 13
        }
      ]
    },
    {
      "cell_type": "code",
      "source": [
        "a = 257\n",
        "b = 257"
      ],
      "metadata": {
        "id": "XxyKG4vHboNk"
      },
      "execution_count": null,
      "outputs": []
    },
    {
      "cell_type": "code",
      "source": [
        "id(a), id(b)"
      ],
      "metadata": {
        "colab": {
          "base_uri": "https://localhost:8080/"
        },
        "id": "-wwVZ67fbqWp",
        "outputId": "b1c1f34d-9b03-4ed8-8fcd-2ac73baa6ab7"
      },
      "execution_count": null,
      "outputs": [
        {
          "output_type": "execute_result",
          "data": {
            "text/plain": [
              "(139803525892432, 139803525893296)"
            ]
          },
          "metadata": {},
          "execution_count": 15
        }
      ]
    },
    {
      "cell_type": "code",
      "source": [
        "a is b"
      ],
      "metadata": {
        "colab": {
          "base_uri": "https://localhost:8080/"
        },
        "id": "IjCGHcwYbx6v",
        "outputId": "be62739d-c094-4cd5-858d-02ad6124fdb4"
      },
      "execution_count": null,
      "outputs": [
        {
          "output_type": "execute_result",
          "data": {
            "text/plain": [
              "False"
            ]
          },
          "metadata": {},
          "execution_count": 16
        }
      ]
    },
    {
      "cell_type": "code",
      "source": [
        "# Python은 자체적으로 속도를 높이기 위한 \n",
        "# 여러가지 노력들을 해왔습니다.\n",
        "# 그래서 0 ~ 256은 먼저 메모리에 적재를 합니다."
      ],
      "metadata": {
        "id": "eecQH9yEb931"
      },
      "execution_count": null,
      "outputs": []
    },
    {
      "cell_type": "code",
      "source": [
        "a = 256\n",
        "b = 256"
      ],
      "metadata": {
        "id": "3_3MriPPcV7X"
      },
      "execution_count": null,
      "outputs": []
    },
    {
      "cell_type": "code",
      "source": [
        "id(a), id(b)"
      ],
      "metadata": {
        "colab": {
          "base_uri": "https://localhost:8080/"
        },
        "id": "e_iyZkMEcWny",
        "outputId": "95e6a8d1-86ba-4c5e-ec13-6e22af1af6f1"
      },
      "execution_count": null,
      "outputs": [
        {
          "output_type": "execute_result",
          "data": {
            "text/plain": [
              "(139804791024016, 139804791024016)"
            ]
          },
          "metadata": {},
          "execution_count": 18
        }
      ]
    },
    {
      "cell_type": "code",
      "source": [
        "a is b"
      ],
      "metadata": {
        "colab": {
          "base_uri": "https://localhost:8080/"
        },
        "id": "j8tVg4rHcXbG",
        "outputId": "50c1fbcc-8817-4af8-9647-07b022d1a694"
      },
      "execution_count": null,
      "outputs": [
        {
          "output_type": "execute_result",
          "data": {
            "text/plain": [
              "True"
            ]
          },
          "metadata": {},
          "execution_count": 19
        }
      ]
    },
    {
      "cell_type": "markdown",
      "source": [
        "* 변수의 타입\n",
        "* 변수의 타입은 왜 있는 것일까?\n",
        "    * 효율적인 측면\n",
        "    * 관리적인 측면"
      ],
      "metadata": {
        "id": "-uY2FWSidDUI"
      }
    },
    {
      "cell_type": "code",
      "source": [
        "'a' + 'a'"
      ],
      "metadata": {
        "colab": {
          "base_uri": "https://localhost:8080/",
          "height": 35
        },
        "id": "A2IH-wPMdioU",
        "outputId": "587ad674-6baf-4127-ea7f-9c8bef195518"
      },
      "execution_count": null,
      "outputs": [
        {
          "output_type": "execute_result",
          "data": {
            "text/plain": [
              "'aa'"
            ],
            "application/vnd.google.colaboratory.intrinsic+json": {
              "type": "string"
            }
          },
          "metadata": {},
          "execution_count": 23
        }
      ]
    },
    {
      "cell_type": "code",
      "source": [
        "# 왜 이어 붙였는가?"
      ],
      "metadata": {
        "id": "Rwztl70pdi-h"
      },
      "execution_count": null,
      "outputs": []
    },
    {
      "cell_type": "code",
      "source": [
        "# 우리가 통념적으로 생각하는 문자열의 연산을 \n",
        "# Python이라는 언어에 구현해놓은 것입니다.\n",
        "# 메직 메서드(__init_...)를 통해서 이런 '약속'들을 구현하게 됩니다."
      ],
      "metadata": {
        "id": "yI7r1pPddlQf"
      },
      "execution_count": null,
      "outputs": []
    },
    {
      "cell_type": "markdown",
      "source": [
        "## 변수의 속성\n",
        "\n",
        "* 영문과 숫자를 사용할 수 있지만, 숫자로 시작하지는 못합니다.\n",
        "* 특수문자는 사용하지 않아요.(언더바(_)는 사용합니다. 스네이크 표기법, 특수문자나 이미중 사용 가능한 것들이 있기는 합니다. 권하지 않습니다.)\n",
        "* 예약어는 사용하지 않습니다.(if, elif, while, for, etc)\n",
        "* 대소문자는 구분합니다.\n",
        "* 언더바로만 사용하거나 언더바로 시작할 수 있습니다.\n",
        "* 대문자로 시작하는 변수를 사용할 수 있지만, 관습적으로 대문자로 시작하는 변수는 Class로 만들기 때문에 소문자로 시작하는 변수를 만들기를 권합니다. Class는 보통 파스칼 표기법을 따릅니다. 다만 회사 컨벤션마다 다릅니다."
      ],
      "metadata": {
        "id": "Z_YgmR-eetdZ"
      }
    },
    {
      "cell_type": "code",
      "source": [
        "hello_world = 10 # 스네이크 표기법이 컨벤션으로 있는 경우가 많습니다.\n",
        "helloWorld = 10 # 카멜 표기법(JavaScript에서 많이 사용)\n",
        "hello1 = 100\n",
        "# 1hello = 100 # error\n",
        "# π = 3.14 # error가 안나지만 사회생활 힘듭니다.\n",
        "# π * 100\n",
        "\n",
        "_ = 100 # 권장하지 않습니다.\n",
        "\n",
        "# 아래와 같이 반복 안에서 해당 변수를 전혀 사용하지 않는 경우\n",
        "# (관습적으로) 많이 사용됩니다.\n",
        "for _ in range(10):\n",
        "    print('hello')"
      ],
      "metadata": {
        "colab": {
          "base_uri": "https://localhost:8080/"
        },
        "id": "hLby0QYFezX1",
        "outputId": "1e5f52be-3e38-4624-c5ef-308b28b61a37"
      },
      "execution_count": 120,
      "outputs": [
        {
          "output_type": "stream",
          "name": "stdout",
          "text": [
            "hello\n",
            "hello\n",
            "hello\n",
            "hello\n",
            "hello\n",
            "hello\n",
            "hello\n",
            "hello\n",
            "hello\n",
            "hello\n"
          ]
        }
      ]
    },
    {
      "cell_type": "markdown",
      "source": [
        "## 입력과 출력"
      ],
      "metadata": {
        "id": "AA3cAp2Rh98A"
      }
    },
    {
      "cell_type": "code",
      "source": [
        "x = input() # 입력 받는 수는 문자열입니다.\n",
        "print(x + x)"
      ],
      "metadata": {
        "colab": {
          "base_uri": "https://localhost:8080/"
        },
        "id": "cSF-QXdTh_Q8",
        "outputId": "2e316971-e19d-4435-febc-0a1272bcef40"
      },
      "execution_count": 122,
      "outputs": [
        {
          "output_type": "stream",
          "name": "stdout",
          "text": [
            "10\n",
            "1010\n"
          ]
        }
      ]
    },
    {
      "cell_type": "code",
      "source": [
        "type(print)\n",
        "# https://docs.python.org/3/library/functions.html"
      ],
      "metadata": {
        "colab": {
          "base_uri": "https://localhost:8080/"
        },
        "id": "iaGRbm6LiOlK",
        "outputId": "997cfcbf-fed1-4bd8-c671-ec685a2bc712"
      },
      "execution_count": 123,
      "outputs": [
        {
          "output_type": "execute_result",
          "data": {
            "text/plain": [
              "builtin_function_or_method"
            ]
          },
          "metadata": {},
          "execution_count": 123
        }
      ]
    },
    {
      "cell_type": "code",
      "source": [
        "leehojun = print\n",
        "leehojun('hello world')\n",
        "id(print), id(leehojun)"
      ],
      "metadata": {
        "colab": {
          "base_uri": "https://localhost:8080/"
        },
        "id": "X6dqULxEiS5I",
        "outputId": "d3dfe795-3250-4ec9-d119-28df3ac7aac2"
      },
      "execution_count": 126,
      "outputs": [
        {
          "output_type": "stream",
          "name": "stdout",
          "text": [
            "hello world\n"
          ]
        },
        {
          "output_type": "execute_result",
          "data": {
            "text/plain": [
              "(140681353586384, 140681353586384)"
            ]
          },
          "metadata": {},
          "execution_count": 126
        }
      ]
    },
    {
      "cell_type": "code",
      "source": [
        "print('hello world', end='!')\n",
        "print('hello world', end='!')\n",
        "print('hello world', end='!')"
      ],
      "metadata": {
        "colab": {
          "base_uri": "https://localhost:8080/"
        },
        "id": "tnGPoXzUi3Rw",
        "outputId": "b44ff27b-8083-4936-acbe-540b66608936"
      },
      "execution_count": 127,
      "outputs": [
        {
          "output_type": "stream",
          "name": "stdout",
          "text": [
            "hello world!hello world!hello world!"
          ]
        }
      ]
    },
    {
      "cell_type": "code",
      "source": [
        "이름 = '이호준'\n",
        "나이 = 10\n",
        "print('1. 제 이름은 ', 이름, '입니다. 제 나이는 ', 나이, '입니다')\n",
        "print(f'2. 제 이름은 {이름}입니다. 제 나이는 {나이}입니다.')\n",
        "print('3. 제 이름은 {}입니다. 제 나이는 {}입니다.'.format(이름, 나이))\n",
        "print('4. 제 이름은 %s입니다. 제 나이는 %d입니다.'%(이름, 나이))"
      ],
      "metadata": {
        "id": "A4TSuaCX50x7"
      },
      "execution_count": null,
      "outputs": []
    },
    {
      "cell_type": "markdown",
      "source": [
        "[포멧 코드의 종류](https://www.notion.so/9fd33417740f4eba8715f5c4a1ed7c7b)"
      ],
      "metadata": {
        "id": "AZ4TrL9k6FyB"
      }
    },
    {
      "cell_type": "markdown",
      "source": [
        "## int (정수)"
      ],
      "metadata": {
        "id": "enKsWhiHcplR"
      }
    },
    {
      "cell_type": "code",
      "source": [
        "10 # 정수\n",
        "-10 # 정수"
      ],
      "metadata": {
        "colab": {
          "base_uri": "https://localhost:8080/"
        },
        "id": "L9npSeRMcm1w",
        "outputId": "b1117ecd-72f0-4655-ab5b-94ff4d91b2ca"
      },
      "execution_count": null,
      "outputs": [
        {
          "output_type": "execute_result",
          "data": {
            "text/plain": [
              "-10"
            ]
          },
          "metadata": {},
          "execution_count": 20
        }
      ]
    },
    {
      "cell_type": "code",
      "source": [
        "10.0 # 실수"
      ],
      "metadata": {
        "colab": {
          "base_uri": "https://localhost:8080/"
        },
        "id": "UfuC7-kyc06P",
        "outputId": "a4b3dc17-69ea-40f2-8877-06004ff867c5"
      },
      "execution_count": null,
      "outputs": [
        {
          "output_type": "execute_result",
          "data": {
            "text/plain": [
              "10.0"
            ]
          },
          "metadata": {},
          "execution_count": 21
        }
      ]
    },
    {
      "cell_type": "code",
      "source": [
        "a = 10"
      ],
      "metadata": {
        "id": "MW6dwVXoc4ci"
      },
      "execution_count": null,
      "outputs": []
    },
    {
      "cell_type": "code",
      "source": [
        "type(a)"
      ],
      "metadata": {
        "colab": {
          "base_uri": "https://localhost:8080/"
        },
        "id": "j28AXIiMehXs",
        "outputId": "80ddc5b1-b40e-46fc-c9d2-6d68e812ad19"
      },
      "execution_count": null,
      "outputs": [
        {
          "output_type": "execute_result",
          "data": {
            "text/plain": [
              "int"
            ]
          },
          "metadata": {},
          "execution_count": 26
        }
      ]
    },
    {
      "cell_type": "code",
      "source": [
        "dir(a)"
      ],
      "metadata": {
        "colab": {
          "base_uri": "https://localhost:8080/"
        },
        "id": "NDsvEgBjeoD1",
        "outputId": "86064ee1-6584-4163-afa2-0d3dc0cf5c2b"
      },
      "execution_count": null,
      "outputs": [
        {
          "output_type": "execute_result",
          "data": {
            "text/plain": [
              "['__abs__',\n",
              " '__add__',\n",
              " '__and__',\n",
              " '__bool__',\n",
              " '__ceil__',\n",
              " '__class__',\n",
              " '__delattr__',\n",
              " '__dir__',\n",
              " '__divmod__',\n",
              " '__doc__',\n",
              " '__eq__',\n",
              " '__float__',\n",
              " '__floor__',\n",
              " '__floordiv__',\n",
              " '__format__',\n",
              " '__ge__',\n",
              " '__getattribute__',\n",
              " '__getnewargs__',\n",
              " '__gt__',\n",
              " '__hash__',\n",
              " '__index__',\n",
              " '__init__',\n",
              " '__init_subclass__',\n",
              " '__int__',\n",
              " '__invert__',\n",
              " '__le__',\n",
              " '__lshift__',\n",
              " '__lt__',\n",
              " '__mod__',\n",
              " '__mul__',\n",
              " '__ne__',\n",
              " '__neg__',\n",
              " '__new__',\n",
              " '__or__',\n",
              " '__pos__',\n",
              " '__pow__',\n",
              " '__radd__',\n",
              " '__rand__',\n",
              " '__rdivmod__',\n",
              " '__reduce__',\n",
              " '__reduce_ex__',\n",
              " '__repr__',\n",
              " '__rfloordiv__',\n",
              " '__rlshift__',\n",
              " '__rmod__',\n",
              " '__rmul__',\n",
              " '__ror__',\n",
              " '__round__',\n",
              " '__rpow__',\n",
              " '__rrshift__',\n",
              " '__rshift__',\n",
              " '__rsub__',\n",
              " '__rtruediv__',\n",
              " '__rxor__',\n",
              " '__setattr__',\n",
              " '__sizeof__',\n",
              " '__str__',\n",
              " '__sub__',\n",
              " '__subclasshook__',\n",
              " '__truediv__',\n",
              " '__trunc__',\n",
              " '__xor__',\n",
              " 'as_integer_ratio',\n",
              " 'bit_length',\n",
              " 'conjugate',\n",
              " 'denominator',\n",
              " 'from_bytes',\n",
              " 'imag',\n",
              " 'numerator',\n",
              " 'real',\n",
              " 'to_bytes']"
            ]
          },
          "metadata": {},
          "execution_count": 27
        }
      ]
    },
    {
      "cell_type": "code",
      "source": [
        "a = 0b110   #int, 2진법, 0, 1 (숫자를 2개만 쓰는 것입니다.)\n",
        "b = 0o56    #int, 8진법, 0, 1, 2, 3, 4, 5, 6, 7 (숫자를 8개만 쓰는 것입니다.)\n",
        "c = 0xAD    #int, 16진법, 0, 1, 2, 3, 4, 5, 6, 7, 8, 9, a, b, c, d, e, f (숫자를 16개만 쓰는 것입니다.)\n",
        "\n",
        "type(a), type(b), type(c)"
      ],
      "metadata": {
        "colab": {
          "base_uri": "https://localhost:8080/"
        },
        "id": "slfbv22Zfu5u",
        "outputId": "3aef1591-e4d6-4fb4-aab8-00efab4d3861"
      },
      "execution_count": null,
      "outputs": [
        {
          "output_type": "execute_result",
          "data": {
            "text/plain": [
              "(int, int, int)"
            ]
          },
          "metadata": {},
          "execution_count": 28
        }
      ]
    },
    {
      "cell_type": "code",
      "source": [
        "# 287 == (10^2) * 2 + (10^1) * 8 + (10^0) * 7 ## 10진법\n",
        "# 110 == (2^2) * 1 + (2^1) * 1 + (2^0) * 0 => 4 + 2 + 0 => 6 ## 2진법\n",
        "# AC == (16^1) * A + (16^0) * C => 160 + 12 => 172"
      ],
      "metadata": {
        "id": "xtQIB8RThNw8"
      },
      "execution_count": null,
      "outputs": []
    },
    {
      "cell_type": "code",
      "source": [
        "a, b, c"
      ],
      "metadata": {
        "colab": {
          "base_uri": "https://localhost:8080/"
        },
        "id": "4EMeJqcNf6Ad",
        "outputId": "126d2a15-0003-4f94-ace1-1b890e8c1743"
      },
      "execution_count": null,
      "outputs": [
        {
          "output_type": "execute_result",
          "data": {
            "text/plain": [
              "(6, 46, 172)"
            ]
          },
          "metadata": {},
          "execution_count": 29
        }
      ]
    },
    {
      "cell_type": "code",
      "source": [
        "bin(6), oct(46), hex(172)"
      ],
      "metadata": {
        "colab": {
          "base_uri": "https://localhost:8080/"
        },
        "id": "s5bVqU3DiVj3",
        "outputId": "3adde4f5-ee41-4816-eab7-4d2982c33c49"
      },
      "execution_count": null,
      "outputs": [
        {
          "output_type": "execute_result",
          "data": {
            "text/plain": [
              "('0b110', '0o56', '0xac')"
            ]
          },
          "metadata": {},
          "execution_count": 31
        }
      ]
    },
    {
      "cell_type": "code",
      "source": [
        "0.1 + 0.2\n",
        "# 모든 언어 공통(2진법으로 변환했을 때 무한대수가 발생됩니다.)\n",
        "# 부동소수점 오차 발생"
      ],
      "metadata": {
        "colab": {
          "base_uri": "https://localhost:8080/"
        },
        "id": "EW9Sjo9ugNRE",
        "outputId": "93db0954-f5e1-42c5-efe6-be0dfdec2f30"
      },
      "execution_count": null,
      "outputs": [
        {
          "output_type": "execute_result",
          "data": {
            "text/plain": [
              "0.30000000000000004"
            ]
          },
          "metadata": {},
          "execution_count": 30
        }
      ]
    },
    {
      "cell_type": "code",
      "source": [
        "a = 10\n",
        "type(a)"
      ],
      "metadata": {
        "colab": {
          "base_uri": "https://localhost:8080/"
        },
        "id": "cVxPal25lPBj",
        "outputId": "33bf92ba-50c4-4330-fede-827febea30f5"
      },
      "execution_count": null,
      "outputs": [
        {
          "output_type": "execute_result",
          "data": {
            "text/plain": [
              "int"
            ]
          },
          "metadata": {},
          "execution_count": 41
        }
      ]
    },
    {
      "cell_type": "code",
      "source": [
        "'100' + '100'"
      ],
      "metadata": {
        "colab": {
          "base_uri": "https://localhost:8080/",
          "height": 35
        },
        "id": "hAAIXvdflZ7z",
        "outputId": "3aee9ddf-72b1-49cb-9ed4-e8a8678c8caf"
      },
      "execution_count": null,
      "outputs": [
        {
          "output_type": "execute_result",
          "data": {
            "text/plain": [
              "'100100'"
            ],
            "application/vnd.google.colaboratory.intrinsic+json": {
              "type": "string"
            }
          },
          "metadata": {},
          "execution_count": 44
        }
      ]
    },
    {
      "cell_type": "code",
      "source": [
        "int('100') + int('100') # 형 변환"
      ],
      "metadata": {
        "colab": {
          "base_uri": "https://localhost:8080/"
        },
        "id": "dq4_v69blVrI",
        "outputId": "a3f5ea32-63f3-4895-8fac-08d32f6122fd"
      },
      "execution_count": null,
      "outputs": [
        {
          "output_type": "execute_result",
          "data": {
            "text/plain": [
              "200"
            ]
          },
          "metadata": {},
          "execution_count": 43
        }
      ]
    },
    {
      "cell_type": "code",
      "source": [
        "('0b110', '0o56', '0xac')"
      ],
      "metadata": {
        "id": "0Oh8HsJSli5W"
      },
      "execution_count": null,
      "outputs": []
    },
    {
      "cell_type": "code",
      "source": [
        "int('0b110', 2)\n",
        "int('110', 2)"
      ],
      "metadata": {
        "colab": {
          "base_uri": "https://localhost:8080/"
        },
        "id": "se3ID9lulmg9",
        "outputId": "971b81bb-6c05-4b6d-a72d-6654e11622bd"
      },
      "execution_count": null,
      "outputs": [
        {
          "output_type": "execute_result",
          "data": {
            "text/plain": [
              "6"
            ]
          },
          "metadata": {},
          "execution_count": 50
        }
      ]
    },
    {
      "cell_type": "code",
      "source": [
        "int('0o56', 8)\n",
        "int('56', 8)"
      ],
      "metadata": {
        "colab": {
          "base_uri": "https://localhost:8080/"
        },
        "id": "0BtghIfzlsDd",
        "outputId": "a00adab2-4fc0-4bc6-92e0-6c73feb05d27"
      },
      "execution_count": null,
      "outputs": [
        {
          "output_type": "execute_result",
          "data": {
            "text/plain": [
              "46"
            ]
          },
          "metadata": {},
          "execution_count": 51
        }
      ]
    },
    {
      "cell_type": "code",
      "source": [
        "int('0xac', 16)\n",
        "int('ac', 16)"
      ],
      "metadata": {
        "colab": {
          "base_uri": "https://localhost:8080/"
        },
        "id": "bhyopSu0lxbc",
        "outputId": "3571f42e-acf9-4955-948e-f43c3cdf50ab"
      },
      "execution_count": null,
      "outputs": [
        {
          "output_type": "execute_result",
          "data": {
            "text/plain": [
              "172"
            ]
          },
          "metadata": {},
          "execution_count": 52
        }
      ]
    },
    {
      "cell_type": "code",
      "source": [
        "int('10') + int('10')"
      ],
      "metadata": {
        "colab": {
          "base_uri": "https://localhost:8080/"
        },
        "id": "J6GQ3xE7EkWG",
        "outputId": "ca568ba4-09a0-4efc-9d1a-906d94052351"
      },
      "execution_count": 1,
      "outputs": [
        {
          "output_type": "execute_result",
          "data": {
            "text/plain": [
              "20"
            ]
          },
          "metadata": {},
          "execution_count": 1
        }
      ]
    },
    {
      "cell_type": "code",
      "source": [
        "class int(int):\n",
        "    def __add__(self, a):\n",
        "        return self * a\n",
        "\n",
        "int('10') + int('10')"
      ],
      "metadata": {
        "colab": {
          "base_uri": "https://localhost:8080/"
        },
        "id": "bPutt5h5ErE1",
        "outputId": "b5ec1235-b3a9-4a29-baa7-7c8614d5ad00"
      },
      "execution_count": 2,
      "outputs": [
        {
          "output_type": "execute_result",
          "data": {
            "text/plain": [
              "100"
            ]
          },
          "metadata": {},
          "execution_count": 2
        }
      ]
    },
    {
      "cell_type": "code",
      "source": [
        "class int(int):\n",
        "    def __add__(self, a):\n",
        "        return 'leehojun'\n",
        "\n",
        "int('10') + int('10')"
      ],
      "metadata": {
        "colab": {
          "base_uri": "https://localhost:8080/",
          "height": 35
        },
        "id": "lduSLa8wE6j2",
        "outputId": "16eff888-d589-4ad5-ed9b-dd4ca570f4c1"
      },
      "execution_count": 3,
      "outputs": [
        {
          "output_type": "execute_result",
          "data": {
            "text/plain": [
              "'leehojun'"
            ],
            "application/vnd.google.colaboratory.intrinsic+json": {
              "type": "string"
            }
          },
          "metadata": {},
          "execution_count": 3
        }
      ]
    },
    {
      "cell_type": "markdown",
      "source": [
        "## float (실수)"
      ],
      "metadata": {
        "id": "vGr6y7FRFCdR"
      }
    },
    {
      "cell_type": "code",
      "source": [
        "a = 10.1\n",
        "\n",
        "type(a)"
      ],
      "metadata": {
        "colab": {
          "base_uri": "https://localhost:8080/"
        },
        "id": "WgbSmwxdFGDy",
        "outputId": "60aeaff6-819e-42a8-c0df-a4b1400d67aa"
      },
      "execution_count": 1,
      "outputs": [
        {
          "output_type": "execute_result",
          "data": {
            "text/plain": [
              "float"
            ]
          },
          "metadata": {},
          "execution_count": 1
        }
      ]
    },
    {
      "cell_type": "code",
      "source": [
        "dir(a)"
      ],
      "metadata": {
        "colab": {
          "base_uri": "https://localhost:8080/"
        },
        "id": "3NhBx-ShFU2K",
        "outputId": "9339cbfd-ab28-4abb-aa37-82b9d7889407"
      },
      "execution_count": 2,
      "outputs": [
        {
          "output_type": "execute_result",
          "data": {
            "text/plain": [
              "['__abs__',\n",
              " '__add__',\n",
              " '__bool__',\n",
              " '__ceil__',\n",
              " '__class__',\n",
              " '__delattr__',\n",
              " '__dir__',\n",
              " '__divmod__',\n",
              " '__doc__',\n",
              " '__eq__',\n",
              " '__float__',\n",
              " '__floor__',\n",
              " '__floordiv__',\n",
              " '__format__',\n",
              " '__ge__',\n",
              " '__getattribute__',\n",
              " '__getformat__',\n",
              " '__getnewargs__',\n",
              " '__gt__',\n",
              " '__hash__',\n",
              " '__init__',\n",
              " '__init_subclass__',\n",
              " '__int__',\n",
              " '__le__',\n",
              " '__lt__',\n",
              " '__mod__',\n",
              " '__mul__',\n",
              " '__ne__',\n",
              " '__neg__',\n",
              " '__new__',\n",
              " '__pos__',\n",
              " '__pow__',\n",
              " '__radd__',\n",
              " '__rdivmod__',\n",
              " '__reduce__',\n",
              " '__reduce_ex__',\n",
              " '__repr__',\n",
              " '__rfloordiv__',\n",
              " '__rmod__',\n",
              " '__rmul__',\n",
              " '__round__',\n",
              " '__rpow__',\n",
              " '__rsub__',\n",
              " '__rtruediv__',\n",
              " '__setattr__',\n",
              " '__setformat__',\n",
              " '__sizeof__',\n",
              " '__str__',\n",
              " '__sub__',\n",
              " '__subclasshook__',\n",
              " '__truediv__',\n",
              " '__trunc__',\n",
              " 'as_integer_ratio',\n",
              " 'conjugate',\n",
              " 'fromhex',\n",
              " 'hex',\n",
              " 'imag',\n",
              " 'is_integer',\n",
              " 'real']"
            ]
          },
          "metadata": {},
          "execution_count": 2
        }
      ]
    },
    {
      "cell_type": "code",
      "source": [
        "a = 10\n",
        "b = 10.1\n",
        "\n",
        "type(a + b) # 다른 언어는 error....."
      ],
      "metadata": {
        "colab": {
          "base_uri": "https://localhost:8080/"
        },
        "id": "Q4x8txgeFXOY",
        "outputId": "52d31bed-8cb5-47b8-9908-a975798a631c"
      },
      "execution_count": 4,
      "outputs": [
        {
          "output_type": "execute_result",
          "data": {
            "text/plain": [
              "float"
            ]
          },
          "metadata": {},
          "execution_count": 4
        }
      ]
    },
    {
      "cell_type": "markdown",
      "source": [
        "## str (문자열)\n",
        "\n",
        "* 왜 문자'형'이 아니라 문자'열'일까요?"
      ],
      "metadata": {
        "id": "X-7zNXaOF7tT"
      }
    },
    {
      "cell_type": "code",
      "source": [
        "a = 'Hello World'\n",
        "\n",
        "type(a)"
      ],
      "metadata": {
        "colab": {
          "base_uri": "https://localhost:8080/"
        },
        "id": "6jZePzFoFt3t",
        "outputId": "4b1d24ab-c703-4a9f-91b6-eaf65480def6"
      },
      "execution_count": 5,
      "outputs": [
        {
          "output_type": "execute_result",
          "data": {
            "text/plain": [
              "str"
            ]
          },
          "metadata": {},
          "execution_count": 5
        }
      ]
    },
    {
      "cell_type": "code",
      "source": [
        "b = 'paullab CEO leehojun'\n",
        "\n",
        "b[0] # 대괄호 안에 들어값을 index라고 하고, 이렇게 index로 값을 호출하는 방법을 indexing이라고 합니다.\n",
        "b[1]"
      ],
      "metadata": {
        "colab": {
          "base_uri": "https://localhost:8080/",
          "height": 35
        },
        "id": "Pm9p7RlHKPOL",
        "outputId": "0f1e3c0f-84ce-425d-9c15-051f6e4cec50"
      },
      "execution_count": 26,
      "outputs": [
        {
          "output_type": "execute_result",
          "data": {
            "text/plain": [
              "'a'"
            ],
            "application/vnd.google.colaboratory.intrinsic+json": {
              "type": "string"
            }
          },
          "metadata": {},
          "execution_count": 26
        }
      ]
    },
    {
      "cell_type": "code",
      "source": [
        "dir(a)"
      ],
      "metadata": {
        "id": "5cyihLL_GYmu"
      },
      "execution_count": null,
      "outputs": []
    },
    {
      "cell_type": "code",
      "source": [
        "'capitalize','casefold','center','count','encode','endswith','expandtabs',\n",
        "'find','format','format_map','index','isalnum','isalpha','isascii','isdecimal',\n",
        "'isdigit','isidentifier','islower','isnumeric','isprintable','isspace','istitle',\n",
        "'isupper','join','ljust','lower','lstrip','maketrans','partition','removeprefix',\n",
        "'removesuffix','replace','rfind','rindex','rjust','rpartition','rsplit','rstrip',\n",
        "'split','splitlines','startswith','strip','swapcase','title','translate','upper','zfill'"
      ],
      "metadata": {
        "id": "mLei_n2VGZ-m"
      },
      "execution_count": null,
      "outputs": []
    },
    {
      "cell_type": "markdown",
      "source": [
        "* 모든 Line은 79자 (Characters)로 제한하시기를 권고합니다."
      ],
      "metadata": {
        "id": "HpkwfGygGx-y"
      }
    },
    {
      "cell_type": "code",
      "source": [
        "# aaaaaaaaaaaaaaaaaaaaaaaaaaaaaaaaaaaaaaaaaaaaaaaaaaaaaaaaaaaaaaaaaaaaaaaaaaaaaaaa => 80자0\n",
        "# 아아아아아아아아아아아아아아아아아아아아아아아아아아아아아아아아아아아아아아아아아아 => 42자면 한글 넘어갑니다.\n",
        "# line에 딱 맞춰 들어간 것을 볼 수 있습니다. \n",
        "# 강제사항은 아닙니다.\n",
        "# 띄어쓰기 4번도 강제사항은 아닙니다.\n",
        "# pep8, pep 20에 기술되어 있습니다. => pep(Python Enhancement Proposal)란 무엇인가요? 8이란 무엇인가요?\n",
        "# pep8 : Style Guide for Python Code\n",
        "# pep20 : The Zen of Python"
      ],
      "metadata": {
        "id": "ZtNr_VqPG0PF"
      },
      "execution_count": null,
      "outputs": []
    },
    {
      "cell_type": "code",
      "source": [
        "for i in range(10):\n",
        "        print(i)\n",
        "        print(i + i)"
      ],
      "metadata": {
        "id": "4ZVp4JWoHIpb"
      },
      "execution_count": null,
      "outputs": []
    },
    {
      "cell_type": "code",
      "source": [
        "a"
      ],
      "metadata": {
        "colab": {
          "base_uri": "https://localhost:8080/",
          "height": 35
        },
        "id": "1K4B70rmIif4",
        "outputId": "9b517e65-79ac-43a9-ab0e-5e06a72df0b7"
      },
      "execution_count": 12,
      "outputs": [
        {
          "output_type": "execute_result",
          "data": {
            "text/plain": [
              "'Hello World'"
            ],
            "application/vnd.google.colaboratory.intrinsic+json": {
              "type": "string"
            }
          },
          "metadata": {},
          "execution_count": 12
        }
      ]
    },
    {
      "cell_type": "code",
      "source": [
        "a.lower()"
      ],
      "metadata": {
        "colab": {
          "base_uri": "https://localhost:8080/",
          "height": 35
        },
        "id": "1PdiQ2oyIq02",
        "outputId": "cec6fcd9-a001-4f8b-adae-57b1de3b88ac"
      },
      "execution_count": 13,
      "outputs": [
        {
          "output_type": "execute_result",
          "data": {
            "text/plain": [
              "'hello world'"
            ],
            "application/vnd.google.colaboratory.intrinsic+json": {
              "type": "string"
            }
          },
          "metadata": {},
          "execution_count": 13
        }
      ]
    },
    {
      "cell_type": "code",
      "source": [
        "a.upper()"
      ],
      "metadata": {
        "colab": {
          "base_uri": "https://localhost:8080/",
          "height": 35
        },
        "id": "l-5K9IheItGN",
        "outputId": "d70b6d6f-c957-4092-b863-c042c4db8463"
      },
      "execution_count": 14,
      "outputs": [
        {
          "output_type": "execute_result",
          "data": {
            "text/plain": [
              "'HELLO WORLD'"
            ],
            "application/vnd.google.colaboratory.intrinsic+json": {
              "type": "string"
            }
          },
          "metadata": {},
          "execution_count": 14
        }
      ]
    },
    {
      "cell_type": "code",
      "source": [
        "a.islower() # 전부다 소문자로 이뤄져 있는가?"
      ],
      "metadata": {
        "colab": {
          "base_uri": "https://localhost:8080/"
        },
        "id": "TMkW0FoVIup3",
        "outputId": "fbfca53a-2195-4d3c-b3ac-9e688bfc9b52"
      },
      "execution_count": 15,
      "outputs": [
        {
          "output_type": "execute_result",
          "data": {
            "text/plain": [
              "False"
            ]
          },
          "metadata": {},
          "execution_count": 15
        }
      ]
    },
    {
      "cell_type": "code",
      "source": [
        "'hello'.islower() # 전부다 소문자로 이뤄져 있는가?"
      ],
      "metadata": {
        "colab": {
          "base_uri": "https://localhost:8080/"
        },
        "id": "yokUSvwHI2Qc",
        "outputId": "73da27f1-69de-48f9-8b49-1f5b10c034fb"
      },
      "execution_count": 16,
      "outputs": [
        {
          "output_type": "execute_result",
          "data": {
            "text/plain": [
              "True"
            ]
          },
          "metadata": {},
          "execution_count": 16
        }
      ]
    },
    {
      "cell_type": "code",
      "source": [
        "'hello'.isupper()"
      ],
      "metadata": {
        "colab": {
          "base_uri": "https://localhost:8080/"
        },
        "id": "6BFf1K1kI_DU",
        "outputId": "d49303dd-abf7-411a-cdfa-429dc30f64a4"
      },
      "execution_count": 19,
      "outputs": [
        {
          "output_type": "execute_result",
          "data": {
            "text/plain": [
              "False"
            ]
          },
          "metadata": {},
          "execution_count": 19
        }
      ]
    },
    {
      "cell_type": "code",
      "source": [
        "'HELLO'.isupper()"
      ],
      "metadata": {
        "colab": {
          "base_uri": "https://localhost:8080/"
        },
        "id": "mM38o028JBjs",
        "outputId": "c6d1e558-1660-4eec-a1e9-da701f962cb0"
      },
      "execution_count": 20,
      "outputs": [
        {
          "output_type": "execute_result",
          "data": {
            "text/plain": [
              "True"
            ]
          },
          "metadata": {},
          "execution_count": 20
        }
      ]
    },
    {
      "cell_type": "code",
      "source": [
        "'123'.isdigit() # 숫자인가?"
      ],
      "metadata": {
        "colab": {
          "base_uri": "https://localhost:8080/"
        },
        "id": "xkJFnIZNJL5Y",
        "outputId": "ce8eae64-2ee9-47da-a64f-2cc80cfb5f67"
      },
      "execution_count": 21,
      "outputs": [
        {
          "output_type": "execute_result",
          "data": {
            "text/plain": [
              "True"
            ]
          },
          "metadata": {},
          "execution_count": 21
        }
      ]
    },
    {
      "cell_type": "code",
      "source": [
        "'123'.isalpha()"
      ],
      "metadata": {
        "colab": {
          "base_uri": "https://localhost:8080/"
        },
        "id": "FSQk_q-pJZKv",
        "outputId": "15d5a9ab-2bc3-4f7d-df2c-ddde3c143ef9"
      },
      "execution_count": 22,
      "outputs": [
        {
          "output_type": "execute_result",
          "data": {
            "text/plain": [
              "False"
            ]
          },
          "metadata": {},
          "execution_count": 22
        }
      ]
    },
    {
      "cell_type": "code",
      "source": [
        "# 배우지 않은 문법을 이해하려 노력하지는 마세요.\n",
        "# i.isdigit() 이것만 집중해서 보시면 됩니다.\n",
        "# 아래 문자열 중 숫자만 다 더해라\n",
        "s = 0\n",
        "for i in '123abc7584739203lsdlfei123ndsdf':\n",
        "    if i.isdigit():\n",
        "        s = s + int(i)\n",
        "s"
      ],
      "metadata": {
        "colab": {
          "base_uri": "https://localhost:8080/"
        },
        "id": "SXGnvVEUJd31",
        "outputId": "5f4b0007-7024-4c7c-8b89-b5311a14614e"
      },
      "execution_count": 24,
      "outputs": [
        {
          "output_type": "execute_result",
          "data": {
            "text/plain": [
              "60"
            ]
          },
          "metadata": {},
          "execution_count": 24
        }
      ]
    },
    {
      "cell_type": "code",
      "source": [
        "' '.isalpha()"
      ],
      "metadata": {
        "colab": {
          "base_uri": "https://localhost:8080/"
        },
        "id": "8iM_uQhKJ6pU",
        "outputId": "bfc8d34a-0ebf-4ce6-f6e4-1bda5f692e0e"
      },
      "execution_count": 27,
      "outputs": [
        {
          "output_type": "execute_result",
          "data": {
            "text/plain": [
              "False"
            ]
          },
          "metadata": {},
          "execution_count": 27
        }
      ]
    },
    {
      "cell_type": "code",
      "source": [
        "'hello world'.isalpha()"
      ],
      "metadata": {
        "colab": {
          "base_uri": "https://localhost:8080/"
        },
        "id": "8edB5lFyKsoB",
        "outputId": "6ccfe5c6-7038-49ee-aec2-d816b4f4be67"
      },
      "execution_count": 28,
      "outputs": [
        {
          "output_type": "execute_result",
          "data": {
            "text/plain": [
              "False"
            ]
          },
          "metadata": {},
          "execution_count": 28
        }
      ]
    },
    {
      "cell_type": "code",
      "source": [
        "'hello world'.count('l')"
      ],
      "metadata": {
        "colab": {
          "base_uri": "https://localhost:8080/"
        },
        "id": "0aI92imOL5QU",
        "outputId": "31c5f6fc-a33b-43e5-a753-204247930c15"
      },
      "execution_count": 29,
      "outputs": [
        {
          "output_type": "execute_result",
          "data": {
            "text/plain": [
              "3"
            ]
          },
          "metadata": {},
          "execution_count": 29
        }
      ]
    },
    {
      "cell_type": "code",
      "source": [
        "# 1부터 10000까지 8의 갯수를 모두 세어라.\n",
        "'[1, 2, 3, 4, 5]'.count(',')\n",
        "str(list(range(101))).count('8')"
      ],
      "metadata": {
        "colab": {
          "base_uri": "https://localhost:8080/"
        },
        "id": "RdSPpOTwMBun",
        "outputId": "942bf732-0f08-4d10-8483-91cfdbffa7c4"
      },
      "execution_count": 34,
      "outputs": [
        {
          "output_type": "execute_result",
          "data": {
            "text/plain": [
              "20"
            ]
          },
          "metadata": {},
          "execution_count": 34
        }
      ]
    },
    {
      "cell_type": "code",
      "source": [
        "'leehojun'.center(10)\n",
        "'leehojun'.center(20)\n",
        "'leehojun'.center(20, '!')\n",
        "'leehojun'.center(20, '-')"
      ],
      "metadata": {
        "colab": {
          "base_uri": "https://localhost:8080/",
          "height": 35
        },
        "id": "fDwOA3vKPaZ7",
        "outputId": "92fa8de2-7148-474d-aa14-d7649ed385a7"
      },
      "execution_count": 39,
      "outputs": [
        {
          "output_type": "execute_result",
          "data": {
            "text/plain": [
              "'------leehojun------'"
            ],
            "application/vnd.google.colaboratory.intrinsic+json": {
              "type": "string"
            }
          },
          "metadata": {},
          "execution_count": 39
        }
      ]
    },
    {
      "cell_type": "code",
      "source": [
        "'paullab CEO leehojun'.rjust(30) #오른쪽 정렬\n",
        "# 'paullab CEO leehojun'.ljust(30) #왼쪽 정렬\n",
        "# 'paullab CEO leehojun'.center(30)#가운데 정렬"
      ],
      "metadata": {
        "colab": {
          "base_uri": "https://localhost:8080/",
          "height": 35
        },
        "id": "G4sxNo9l8gPo",
        "outputId": "25c1f871-985e-4661-b24d-a3a153ff94de"
      },
      "execution_count": 143,
      "outputs": [
        {
          "output_type": "execute_result",
          "data": {
            "text/plain": [
              "'          paullab CEO leehojun'"
            ],
            "application/vnd.google.colaboratory.intrinsic+json": {
              "type": "string"
            }
          },
          "metadata": {},
          "execution_count": 143
        }
      ]
    },
    {
      "cell_type": "code",
      "source": [
        "'leehojun'.index('h')\n",
        "# 'leehojun'.index('z') # 못찾으면 error"
      ],
      "metadata": {
        "id": "rW3Uq_reP-Zz"
      },
      "execution_count": null,
      "outputs": []
    },
    {
      "cell_type": "code",
      "source": [
        "'leehojun'.find('h')\n",
        "'leehojun'.find('z') # 못찾으면 -1"
      ],
      "metadata": {
        "colab": {
          "base_uri": "https://localhost:8080/"
        },
        "id": "yG2Rwf6tQBuH",
        "outputId": "13096447-05e1-4acd-a264-acc297f5579f"
      },
      "execution_count": 43,
      "outputs": [
        {
          "output_type": "execute_result",
          "data": {
            "text/plain": [
              "-1"
            ]
          },
          "metadata": {},
          "execution_count": 43
        }
      ]
    },
    {
      "cell_type": "code",
      "source": [
        "# 그러면 어떤 코드가 더 좋은가요?\n",
        "# 정답은 없습니다. 여러분 코드에 의도에 맞게 코딩하실 필요가 있습니다."
      ],
      "metadata": {
        "id": "_lYbIwGqQVKo"
      },
      "execution_count": null,
      "outputs": []
    },
    {
      "cell_type": "code",
      "source": [
        "'hello'.count('') # 제가 해본 코드는 아닙니다."
      ],
      "metadata": {
        "colab": {
          "base_uri": "https://localhost:8080/"
        },
        "id": "VNiT0RQUQpf7",
        "outputId": "eec7e311-e3e9-4eba-82c2-78bbf9616dd9"
      },
      "execution_count": 44,
      "outputs": [
        {
          "output_type": "execute_result",
          "data": {
            "text/plain": [
              "6"
            ]
          },
          "metadata": {},
          "execution_count": 44
        }
      ]
    },
    {
      "cell_type": "code",
      "source": [
        "'hello'"
      ],
      "metadata": {
        "colab": {
          "base_uri": "https://localhost:8080/"
        },
        "id": "RCUY-d1hQ3CI",
        "outputId": "6e83011d-5fce-46a4-a0c1-e0d62e9fd501"
      },
      "execution_count": 47,
      "outputs": [
        {
          "output_type": "execute_result",
          "data": {
            "text/plain": [
              "['hello']"
            ]
          },
          "metadata": {},
          "execution_count": 47
        }
      ]
    },
    {
      "cell_type": "code",
      "source": [
        "a = ''\n",
        "\n",
        "'hello'.count(a)"
      ],
      "metadata": {
        "colab": {
          "base_uri": "https://localhost:8080/"
        },
        "id": "rTucl2YtRd7-",
        "outputId": "f878a7dd-7727-4ab2-976c-e748ac2e92ad"
      },
      "execution_count": 48,
      "outputs": [
        {
          "output_type": "execute_result",
          "data": {
            "text/plain": [
              "6"
            ]
          },
          "metadata": {},
          "execution_count": 48
        }
      ]
    },
    {
      "cell_type": "code",
      "source": [
        "# https://stackoverflow.com/questions/40192449/why-are-str-count-and-lenstr-giving-different-output\n",
        "a = ''\n",
        "print(len(a))\n",
        "print(a.count(''))\n",
        "# ' t e s t ' => 빈 문자가 5번 카운팅"
      ],
      "metadata": {
        "colab": {
          "base_uri": "https://localhost:8080/"
        },
        "id": "xiEd4LABciH-",
        "outputId": "d9fe9876-72db-453e-a4fa-dfd598030f5a"
      },
      "execution_count": 105,
      "outputs": [
        {
          "output_type": "stream",
          "name": "stdout",
          "text": [
            "0\n",
            "1\n"
          ]
        }
      ]
    },
    {
      "cell_type": "code",
      "source": [
        "a = 'a'\n",
        "print(len(a))\n",
        "print(a.count(''))\n",
        "# ' t e s t ' => 빈 문자가 5번 카운팅"
      ],
      "metadata": {
        "colab": {
          "base_uri": "https://localhost:8080/"
        },
        "id": "Ahleg4lxc8Xh",
        "outputId": "4efff672-f0f1-4db7-fc85-2ccd4ab9e54c"
      },
      "execution_count": 106,
      "outputs": [
        {
          "output_type": "stream",
          "name": "stdout",
          "text": [
            "1\n",
            "2\n"
          ]
        }
      ]
    },
    {
      "cell_type": "code",
      "source": [
        "'' + ''"
      ],
      "metadata": {
        "colab": {
          "base_uri": "https://localhost:8080/",
          "height": 35
        },
        "id": "E57GSRGQ7AwO",
        "outputId": "659e4fa9-fe50-4714-8d74-bbe069f77bb1"
      },
      "execution_count": 140,
      "outputs": [
        {
          "output_type": "execute_result",
          "data": {
            "text/plain": [
              "''"
            ],
            "application/vnd.google.colaboratory.intrinsic+json": {
              "type": "string"
            }
          },
          "metadata": {},
          "execution_count": 140
        }
      ]
    },
    {
      "cell_type": "code",
      "source": [
        "a = ''\n",
        "print(a.count(''))"
      ],
      "metadata": {
        "id": "SGhfhl3H7Kgt"
      },
      "execution_count": null,
      "outputs": []
    },
    {
      "cell_type": "code",
      "source": [
        "# 중요하진 않습니다.\n",
        "'paullab CEO leehojun.'.endswith('.') # 마침표로 끝났느냐?"
      ],
      "metadata": {
        "colab": {
          "base_uri": "https://localhost:8080/"
        },
        "id": "G5BUykdgRl4Q",
        "outputId": "3e0c6c14-3236-47f7-fa1f-2ed13243025a"
      },
      "execution_count": 49,
      "outputs": [
        {
          "output_type": "execute_result",
          "data": {
            "text/plain": [
              "True"
            ]
          },
          "metadata": {},
          "execution_count": 49
        }
      ]
    },
    {
      "cell_type": "code",
      "source": [
        "'paullab CEO leehojun.'.endswith('!') # 느낌표로 끝났느냐?"
      ],
      "metadata": {
        "colab": {
          "base_uri": "https://localhost:8080/"
        },
        "id": "eroVN0CFRryC",
        "outputId": "884eb676-da65-4146-ae68-77e72c98e60e"
      },
      "execution_count": 50,
      "outputs": [
        {
          "output_type": "execute_result",
          "data": {
            "text/plain": [
              "False"
            ]
          },
          "metadata": {},
          "execution_count": 50
        }
      ]
    },
    {
      "cell_type": "code",
      "source": [
        "'paullab CEO leehojun.'[-1] == '.'\n",
        "'paullab CEO leehojun.'[-1] == '!'"
      ],
      "metadata": {
        "colab": {
          "base_uri": "https://localhost:8080/"
        },
        "id": "LuQ2FNZ0SIM8",
        "outputId": "859e8f41-6a52-4d5f-e354-a42529b54578"
      },
      "execution_count": 52,
      "outputs": [
        {
          "output_type": "execute_result",
          "data": {
            "text/plain": [
              "False"
            ]
          },
          "metadata": {},
          "execution_count": 52
        }
      ]
    },
    {
      "cell_type": "code",
      "source": [
        "''.join(['hello', 'world', 'hojun'])\n",
        "'!'.join(['hello', 'world', 'hojun'])\n",
        "'-'.join(['010', '5044', '2903'])\n",
        "# '-'.join([10, 5044, 2903]) # join하려면 string 형이어야 합니다."
      ],
      "metadata": {
        "colab": {
          "base_uri": "https://localhost:8080/",
          "height": 35
        },
        "id": "3Z8X1W-SSQg-",
        "outputId": "70f4853f-3e18-48b8-da3e-9063e958fd96"
      },
      "execution_count": 58,
      "outputs": [
        {
          "output_type": "execute_result",
          "data": {
            "text/plain": [
              "'010-5044-2903'"
            ],
            "application/vnd.google.colaboratory.intrinsic+json": {
              "type": "string"
            }
          },
          "metadata": {},
          "execution_count": 58
        }
      ]
    },
    {
      "cell_type": "code",
      "source": [
        "# %용법이 최초에 있었습니다. 안써요. 기억하시지 않으셔도 됩니다.\n",
        "name = 'hojun'\n",
        "age = 11\n",
        "print('name %s'%name)\n",
        "print('name %s age %d'%(name, age))"
      ],
      "metadata": {
        "id": "YaE9CG1aUb0s"
      },
      "execution_count": null,
      "outputs": []
    },
    {
      "cell_type": "code",
      "source": [
        "# format 용법이 생겼습니다.\n",
        "# format 용법만 별도 정리 해드리겠습니다. (1시간 정도)\n",
        "name = 'hojun'\n",
        "age = 11\n",
        "txt = 'name {} age {}'\n",
        "print('name {} age {}'.format(name, age))\n",
        "print('name {0} age {1}'.format(name, age))\n",
        "print('name {1} age {1}'.format(name, age))\n",
        "print(txt.format(name, age))"
      ],
      "metadata": {
        "colab": {
          "base_uri": "https://localhost:8080/"
        },
        "id": "sR_qnaOQSu1T",
        "outputId": "fe0bb8aa-1572-4764-ab70-74686f1f971a"
      },
      "execution_count": 78,
      "outputs": [
        {
          "output_type": "stream",
          "name": "stdout",
          "text": [
            "name hojun age 11\n",
            "name hojun age 11\n",
            "name 11 age 11\n",
            "name hojun age 11\n"
          ]
        }
      ]
    },
    {
      "cell_type": "code",
      "source": [
        "# f-string 용법이 생겼습니다.(3.6 version에서 새로 나옴)\n",
        "name = 'hojun'\n",
        "age = 11\n",
        "print(f'name: {name} age: {age}')"
      ],
      "metadata": {
        "colab": {
          "base_uri": "https://localhost:8080/"
        },
        "id": "NPal0E61Ud0Y",
        "outputId": "fa212fec-2435-45d1-e563-ec32ac9dcc45"
      },
      "execution_count": 79,
      "outputs": [
        {
          "output_type": "stream",
          "name": "stdout",
          "text": [
            "name: hojun age: 11\n"
          ]
        }
      ]
    },
    {
      "cell_type": "code",
      "source": [
        "'hello world'.find('l')\n",
        "'hello world'.rfind('l')\n",
        "'hello world'.rindex('l')"
      ],
      "metadata": {
        "colab": {
          "base_uri": "https://localhost:8080/"
        },
        "id": "9ImNoYYeVzAP",
        "outputId": "5817f88c-050f-4b70-e532-eb4c8c2383ac"
      },
      "execution_count": 82,
      "outputs": [
        {
          "output_type": "execute_result",
          "data": {
            "text/plain": [
              "9"
            ]
          },
          "metadata": {},
          "execution_count": 82
        }
      ]
    },
    {
      "cell_type": "code",
      "source": [
        "'        hello world         '.strip() #rstrip, lstrip"
      ],
      "metadata": {
        "colab": {
          "base_uri": "https://localhost:8080/",
          "height": 35
        },
        "id": "cdCu1OBNWV9r",
        "outputId": "fc769cc8-2131-4bee-f6b6-b2f87a25f12b"
      },
      "execution_count": 83,
      "outputs": [
        {
          "output_type": "execute_result",
          "data": {
            "text/plain": [
              "'hello world'"
            ],
            "application/vnd.google.colaboratory.intrinsic+json": {
              "type": "string"
            }
          },
          "metadata": {},
          "execution_count": 83
        }
      ]
    },
    {
      "cell_type": "code",
      "source": [
        "'100'.zfill(10) # 10자리를 채웁니다."
      ],
      "metadata": {
        "colab": {
          "base_uri": "https://localhost:8080/",
          "height": 35
        },
        "id": "t0Wk2kSPWfr_",
        "outputId": "58a786fe-461c-43aa-f8bc-1c9c4b14a9c4"
      },
      "execution_count": 84,
      "outputs": [
        {
          "output_type": "execute_result",
          "data": {
            "text/plain": [
              "'0000000100'"
            ],
            "application/vnd.google.colaboratory.intrinsic+json": {
              "type": "string"
            }
          },
          "metadata": {},
          "execution_count": 84
        }
      ]
    },
    {
      "cell_type": "code",
      "source": [
        "'010-0000-0000'.split('-')\n",
        "'010-00!00-00!00'.split('!')"
      ],
      "metadata": {
        "colab": {
          "base_uri": "https://localhost:8080/"
        },
        "id": "Z9s8bqtbWwxs",
        "outputId": "41a25fc8-57c7-4693-c774-b546d016632d"
      },
      "execution_count": 86,
      "outputs": [
        {
          "output_type": "execute_result",
          "data": {
            "text/plain": [
              "['010-00', '00-00', '00']"
            ]
          },
          "metadata": {},
          "execution_count": 86
        }
      ]
    },
    {
      "cell_type": "code",
      "source": [
        "'paullab CEO leehojun'.replace('CEO', 'CTO') # string이 나와야 string 메서드 체이닝을 할 수 있습니다."
      ],
      "metadata": {
        "colab": {
          "base_uri": "https://localhost:8080/",
          "height": 35
        },
        "id": "3psfjAFFXTvS",
        "outputId": "732a6c66-7943-4603-cc72-88532b135a5e"
      },
      "execution_count": 88,
      "outputs": [
        {
          "output_type": "execute_result",
          "data": {
            "text/plain": [
              "'paullab CTO leehojun'"
            ],
            "application/vnd.google.colaboratory.intrinsic+json": {
              "type": "string"
            }
          },
          "metadata": {},
          "execution_count": 88
        }
      ]
    },
    {
      "cell_type": "code",
      "source": [
        "'paullab CEO leehojun'.replace('CEO', 'CTO').replace('hojun', 'gildong') #메서드 체이닝"
      ],
      "metadata": {
        "colab": {
          "base_uri": "https://localhost:8080/",
          "height": 35
        },
        "id": "TJLERaX3KvUB",
        "outputId": "d41aad30-f9eb-4131-aa8b-cbcacba10f5a"
      },
      "execution_count": 87,
      "outputs": [
        {
          "output_type": "execute_result",
          "data": {
            "text/plain": [
              "'paullab CTO leegildong'"
            ],
            "application/vnd.google.colaboratory.intrinsic+json": {
              "type": "string"
            }
          },
          "metadata": {},
          "execution_count": 87
        }
      ]
    },
    {
      "cell_type": "code",
      "source": [
        "'paullab CEO leehojun'.replace('CEO', 'CTO').replace('hojun', 'gildong') #메서드 체이닝"
      ],
      "metadata": {
        "id": "fS0hSlOoX_hB"
      },
      "execution_count": null,
      "outputs": []
    },
    {
      "cell_type": "code",
      "source": [
        "암호 = '''  + +-+ -+-  \n",
        "  ++ -- +-+  \n",
        "  ++-+ -+ -  \n",
        "  + ++-+ -+  '''\n",
        "\n",
        "print(암호)\n",
        "암호.split('\\n')[0]"
      ],
      "metadata": {
        "colab": {
          "base_uri": "https://localhost:8080/",
          "height": 106
        },
        "id": "qfXgaH2ZYcJV",
        "outputId": "43e3d125-a168-470f-a410-9699f6ad3a73"
      },
      "execution_count": 95,
      "outputs": [
        {
          "output_type": "stream",
          "name": "stdout",
          "text": [
            "  + +-+ -+-  \n",
            "  ++ -- +-+  \n",
            "  ++-+ -+ -  \n",
            "  + ++-+ -+  \n"
          ]
        },
        {
          "output_type": "execute_result",
          "data": {
            "text/plain": [
              "'  + +-+ -+-  '"
            ],
            "application/vnd.google.colaboratory.intrinsic+json": {
              "type": "string"
            }
          },
          "metadata": {},
          "execution_count": 95
        }
      ]
    },
    {
      "cell_type": "code",
      "source": [
        "# 지금 이 코드에서는 strip을 할 이유가 없지만 앞 뒤 공백만 제거해야 할 때가 있습니다.\n",
        "이진수 = 암호.split('\\n')[0].strip().replace(' ', '').replace('+', '1').replace('-', '0')\n",
        "int(이진수, 2)"
      ],
      "metadata": {
        "colab": {
          "base_uri": "https://localhost:8080/",
          "height": 35
        },
        "id": "v-bwiuGuY_4j",
        "outputId": "58a987da-be52-4343-940d-bd3e3a92bee9"
      },
      "execution_count": 102,
      "outputs": [
        {
          "output_type": "execute_result",
          "data": {
            "text/plain": [
              "'j'"
            ],
            "application/vnd.google.colaboratory.intrinsic+json": {
              "type": "string"
            }
          },
          "metadata": {},
          "execution_count": 102
        }
      ]
    },
    {
      "cell_type": "code",
      "source": [
        "chr(106) # 유니코드표에서 숫자로 문자 출력\n",
        "ord('j') # 유니코드표에서 문자를 숫자로 출력"
      ],
      "metadata": {
        "colab": {
          "base_uri": "https://localhost:8080/"
        },
        "id": "tC97Q_FkZpHP",
        "outputId": "1d23b9dd-aaeb-457b-d328-e47fcc9d0d73"
      },
      "execution_count": 104,
      "outputs": [
        {
          "output_type": "execute_result",
          "data": {
            "text/plain": [
              "106"
            ]
          },
          "metadata": {},
          "execution_count": 104
        }
      ]
    },
    {
      "cell_type": "code",
      "source": [
        "# '010-0000-0000'.split('-').zfill(10) # error 앞에서 진행한 split이 list를 반환하기 때문에 zfill을 사용할 수 없습니다.\n",
        "'010-0000-0000'.split('-').count('0000') # 이건 가능합니다. count는 str에도 있지만 list에도 있어요."
      ],
      "metadata": {
        "colab": {
          "base_uri": "https://localhost:8080/"
        },
        "id": "c_JHnWaQXbsL",
        "outputId": "2d76a484-5db7-429f-8473-0ce28a95d849"
      },
      "execution_count": 89,
      "outputs": [
        {
          "output_type": "execute_result",
          "data": {
            "text/plain": [
              "2"
            ]
          },
          "metadata": {},
          "execution_count": 89
        }
      ]
    },
    {
      "cell_type": "code",
      "source": [
        "# 아래 3개는 모두 string 입니다.\n",
        "\n",
        "a = 10\n",
        "\n",
        "'hello world {}'.format(a)\n",
        "f'hello world {a}'\n",
        "r'hello world'"
      ],
      "metadata": {
        "colab": {
          "base_uri": "https://localhost:8080/",
          "height": 35
        },
        "id": "mlHrHKXDdyPu",
        "outputId": "986a8517-51a4-4cae-ad30-9e28dd02bcaf"
      },
      "execution_count": 108,
      "outputs": [
        {
          "output_type": "execute_result",
          "data": {
            "text/plain": [
              "'hello world'"
            ],
            "application/vnd.google.colaboratory.intrinsic+json": {
              "type": "string"
            }
          },
          "metadata": {},
          "execution_count": 108
        }
      ]
    },
    {
      "cell_type": "code",
      "source": [
        "r'hello world' # raw : 날것의\n",
        "'hello world'"
      ],
      "metadata": {
        "id": "nDNmkFFReGOg"
      },
      "execution_count": null,
      "outputs": []
    },
    {
      "cell_type": "code",
      "source": [
        "print(r'hello \\n world')"
      ],
      "metadata": {
        "colab": {
          "base_uri": "https://localhost:8080/"
        },
        "id": "I_vtukfMeJ4n",
        "outputId": "7f1595a5-13c9-4236-ff60-2d5e49c62ffa"
      },
      "execution_count": 109,
      "outputs": [
        {
          "output_type": "stream",
          "name": "stdout",
          "text": [
            "hello \\n world\n"
          ]
        }
      ]
    },
    {
      "cell_type": "code",
      "source": [
        "print('hello \\n world')"
      ],
      "metadata": {
        "colab": {
          "base_uri": "https://localhost:8080/"
        },
        "id": "NOqpflIIeOQJ",
        "outputId": "4ad26e89-f5ef-4aca-8cf3-1d3c9d974df7"
      },
      "execution_count": 110,
      "outputs": [
        {
          "output_type": "stream",
          "name": "stdout",
          "text": [
            "hello \n",
            " world\n"
          ]
        }
      ]
    },
    {
      "cell_type": "code",
      "source": [
        "a = 10\n",
        "b = 20\n",
        "c = 30\n",
        "txt = 'hello world {}'\n",
        "\n",
        "'hello world {} {} {}'.format(a, b, c)\n",
        "# txt.format(a)\n",
        "# f'hello world {a}'\n",
        "# r'hello world'"
      ],
      "metadata": {
        "colab": {
          "base_uri": "https://localhost:8080/",
          "height": 35
        },
        "id": "7CY4DfZdjuLY",
        "outputId": "f000dd40-77d5-4898-9723-d92afa64eef2"
      },
      "execution_count": 130,
      "outputs": [
        {
          "output_type": "execute_result",
          "data": {
            "text/plain": [
              "'hello world 10 20 30'"
            ],
            "application/vnd.google.colaboratory.intrinsic+json": {
              "type": "string"
            }
          },
          "metadata": {},
          "execution_count": 130
        }
      ]
    },
    {
      "cell_type": "code",
      "source": [
        "type(f'hello world')\n",
        "f'hello world {a} {b} {c}'"
      ],
      "metadata": {
        "colab": {
          "base_uri": "https://localhost:8080/",
          "height": 35
        },
        "id": "UKben1S2kMUz",
        "outputId": "893ad692-c42c-4bd5-fec1-3fcab3db290e"
      },
      "execution_count": 132,
      "outputs": [
        {
          "output_type": "execute_result",
          "data": {
            "text/plain": [
              "'hello world 10 20 30'"
            ],
            "application/vnd.google.colaboratory.intrinsic+json": {
              "type": "string"
            }
          },
          "metadata": {},
          "execution_count": 132
        }
      ]
    },
    {
      "cell_type": "code",
      "source": [
        "type(r'hello world')"
      ],
      "metadata": {
        "colab": {
          "base_uri": "https://localhost:8080/"
        },
        "id": "H-nAF83-k7Ya",
        "outputId": "fa93de51-4c48-4d11-c57b-5436c17a2c9b"
      },
      "execution_count": 133,
      "outputs": [
        {
          "output_type": "execute_result",
          "data": {
            "text/plain": [
              "str"
            ]
          },
          "metadata": {},
          "execution_count": 133
        }
      ]
    },
    {
      "cell_type": "code",
      "source": [
        "print(r'hello \\n world \\t hello')\n",
        "print('hello \\n world \\t hello')"
      ],
      "metadata": {
        "colab": {
          "base_uri": "https://localhost:8080/"
        },
        "id": "mLZITsefk_N0",
        "outputId": "32f313fb-7bd9-4f04-c1f1-b47885f2493b"
      },
      "execution_count": 136,
      "outputs": [
        {
          "output_type": "stream",
          "name": "stdout",
          "text": [
            "hello \\n world \\t hello\n",
            "hello \n",
            " world \t hello\n"
          ]
        }
      ]
    },
    {
      "cell_type": "code",
      "source": [
        "dir('hello world {}')"
      ],
      "metadata": {
        "colab": {
          "base_uri": "https://localhost:8080/"
        },
        "id": "rDczQgJPj6cH",
        "outputId": "1d0649ca-e103-4969-8186-ec7d423a816e"
      },
      "execution_count": 128,
      "outputs": [
        {
          "output_type": "execute_result",
          "data": {
            "text/plain": [
              "['__add__',\n",
              " '__class__',\n",
              " '__contains__',\n",
              " '__delattr__',\n",
              " '__dir__',\n",
              " '__doc__',\n",
              " '__eq__',\n",
              " '__format__',\n",
              " '__ge__',\n",
              " '__getattribute__',\n",
              " '__getitem__',\n",
              " '__getnewargs__',\n",
              " '__gt__',\n",
              " '__hash__',\n",
              " '__init__',\n",
              " '__init_subclass__',\n",
              " '__iter__',\n",
              " '__le__',\n",
              " '__len__',\n",
              " '__lt__',\n",
              " '__mod__',\n",
              " '__mul__',\n",
              " '__ne__',\n",
              " '__new__',\n",
              " '__reduce__',\n",
              " '__reduce_ex__',\n",
              " '__repr__',\n",
              " '__rmod__',\n",
              " '__rmul__',\n",
              " '__setattr__',\n",
              " '__sizeof__',\n",
              " '__str__',\n",
              " '__subclasshook__',\n",
              " 'capitalize',\n",
              " 'casefold',\n",
              " 'center',\n",
              " 'count',\n",
              " 'encode',\n",
              " 'endswith',\n",
              " 'expandtabs',\n",
              " 'find',\n",
              " 'format',\n",
              " 'format_map',\n",
              " 'index',\n",
              " 'isalnum',\n",
              " 'isalpha',\n",
              " 'isascii',\n",
              " 'isdecimal',\n",
              " 'isdigit',\n",
              " 'isidentifier',\n",
              " 'islower',\n",
              " 'isnumeric',\n",
              " 'isprintable',\n",
              " 'isspace',\n",
              " 'istitle',\n",
              " 'isupper',\n",
              " 'join',\n",
              " 'ljust',\n",
              " 'lower',\n",
              " 'lstrip',\n",
              " 'maketrans',\n",
              " 'partition',\n",
              " 'removeprefix',\n",
              " 'removesuffix',\n",
              " 'replace',\n",
              " 'rfind',\n",
              " 'rindex',\n",
              " 'rjust',\n",
              " 'rpartition',\n",
              " 'rsplit',\n",
              " 'rstrip',\n",
              " 'split',\n",
              " 'splitlines',\n",
              " 'startswith',\n",
              " 'strip',\n",
              " 'swapcase',\n",
              " 'title',\n",
              " 'translate',\n",
              " 'upper',\n",
              " 'zfill']"
            ]
          },
          "metadata": {},
          "execution_count": 128
        }
      ]
    },
    {
      "cell_type": "code",
      "source": [
        "# ''.join([1, 2, 3, 4])\n",
        "''.join(['1', '2', '3', '4'])"
      ],
      "metadata": {
        "colab": {
          "base_uri": "https://localhost:8080/",
          "height": 35
        },
        "id": "Dk_38u7mmGxH",
        "outputId": "1ffffb28-6cd0-4c59-e570-975145059683"
      },
      "execution_count": 138,
      "outputs": [
        {
          "output_type": "execute_result",
          "data": {
            "text/plain": [
              "'1234'"
            ],
            "application/vnd.google.colaboratory.intrinsic+json": {
              "type": "string"
            }
          },
          "metadata": {},
          "execution_count": 138
        }
      ]
    },
    {
      "cell_type": "code",
      "source": [
        "str(10)"
      ],
      "metadata": {
        "colab": {
          "base_uri": "https://localhost:8080/",
          "height": 35
        },
        "id": "qM8z5q97mZ09",
        "outputId": "760bbbbc-ed77-4900-e5bd-f582fb767281"
      },
      "execution_count": 139,
      "outputs": [
        {
          "output_type": "execute_result",
          "data": {
            "text/plain": [
              "'10'"
            ],
            "application/vnd.google.colaboratory.intrinsic+json": {
              "type": "string"
            }
          },
          "metadata": {},
          "execution_count": 139
        }
      ]
    },
    {
      "cell_type": "code",
      "source": [
        "규칙테이블 = str.maketrans('le','12')\n",
        "'paullab CEO leehogun'.translate(규칙테이블) #어떤 규칙을 정하는것"
      ],
      "metadata": {
        "colab": {
          "base_uri": "https://localhost:8080/",
          "height": 35
        },
        "id": "PkUOZcc39BhU",
        "outputId": "8adfbadd-8fd2-4cf3-fa40-451ece4f9aa4"
      },
      "execution_count": 144,
      "outputs": [
        {
          "output_type": "execute_result",
          "data": {
            "text/plain": [
              "'pau11ab CEO 122hogun'"
            ],
            "application/vnd.google.colaboratory.intrinsic+json": {
              "type": "string"
            }
          },
          "metadata": {},
          "execution_count": 144
        }
      ]
    },
    {
      "cell_type": "code",
      "source": [
        "규칙테이블 = str.maketrans('vlo','345')\n",
        "'weniv hello world'.translate(규칙테이블) #어떤 규칙을 정하는것"
      ],
      "metadata": {
        "colab": {
          "base_uri": "https://localhost:8080/",
          "height": 35
        },
        "id": "xM4EOQyh9C7u",
        "outputId": "ad29d076-1c99-44f8-ce20-44ae1baba525"
      },
      "execution_count": 145,
      "outputs": [
        {
          "output_type": "execute_result",
          "data": {
            "text/plain": [
              "'weni3 he445 w5r4d'"
            ],
            "application/vnd.google.colaboratory.intrinsic+json": {
              "type": "string"
            }
          },
          "metadata": {},
          "execution_count": 145
        }
      ]
    },
    {
      "cell_type": "code",
      "source": [
        "# 참고만 해주세요.\n",
        "규칙테이블 = str.maketrans('CEO','CTO')\n",
        "'paullab CEO leehojun'.translate(규칙테이블) #어떤 규칙을 정하는것"
      ],
      "metadata": {
        "colab": {
          "base_uri": "https://localhost:8080/",
          "height": 35
        },
        "id": "niCyNxhI9UpE",
        "outputId": "f573f746-724a-472a-dc83-d5132eb0b1fa"
      },
      "execution_count": 147,
      "outputs": [
        {
          "output_type": "execute_result",
          "data": {
            "text/plain": [
              "'paullab CTO leehojun'"
            ],
            "application/vnd.google.colaboratory.intrinsic+json": {
              "type": "string"
            }
          },
          "metadata": {},
          "execution_count": 147
        }
      ]
    },
    {
      "cell_type": "markdown",
      "source": [
        "## 문자열의 활용"
      ],
      "metadata": {
        "id": "93tN1gIc9qZ2"
      }
    },
    {
      "cell_type": "code",
      "source": [
        "name = 'Guido van Rossum'\n",
        "print(name[0])\n",
        "print(name[1])\n",
        "print(name[2])"
      ],
      "metadata": {
        "colab": {
          "base_uri": "https://localhost:8080/"
        },
        "id": "9EjO4Y5k9r5z",
        "outputId": "ac97ddda-0687-4dd3-ec8c-9297021ebd9c"
      },
      "execution_count": 148,
      "outputs": [
        {
          "output_type": "stream",
          "name": "stdout",
          "text": [
            "G\n",
            "u\n",
            "i\n"
          ]
        }
      ]
    },
    {
      "cell_type": "code",
      "source": [
        "s = '위니브 월드 외각에 살고 있는 생선가게...'\n",
        "# s[start:stop:step]\n",
        "s[0:6]\n",
        "s[:6]\n",
        "s[4:6]\n",
        "s[7:9]\n",
        "s[s.find('외각'):s.find('외각')+2]\n",
        "s[-1]\n",
        "s[:-5]\n",
        "s[:-1] # 많이 사용합니다.\n",
        "s[-7:-1] # 많이 안씁니다.\n",
        "s[::2]\n",
        "s[::-1]"
      ],
      "metadata": {
        "colab": {
          "base_uri": "https://localhost:8080/",
          "height": 35
        },
        "id": "FO2RkV5A9tAj",
        "outputId": "b1dd3e9d-c19a-4b6d-a439-11d0d8cf2845"
      },
      "execution_count": 161,
      "outputs": [
        {
          "output_type": "execute_result",
          "data": {
            "text/plain": [
              "'...게가선생 는있 고살 에각외 드월 브니위'"
            ],
            "application/vnd.google.colaboratory.intrinsic+json": {
              "type": "string"
            }
          },
          "metadata": {},
          "execution_count": 161
        }
      ]
    },
    {
      "cell_type": "code",
      "source": [
        "s = 'leehojun'\n",
        "\n",
        "s + s\n",
        "s * 3\n",
        "# s/s  # error \n",
        "# s//s # error \n",
        "# s-s  # error "
      ],
      "metadata": {
        "id": "x0dAU71E_oi9"
      },
      "execution_count": null,
      "outputs": []
    },
    {
      "cell_type": "markdown",
      "source": [
        "## 형변환"
      ],
      "metadata": {
        "id": "E5mtCgxGAdkK"
      }
    },
    {
      "cell_type": "code",
      "source": [
        "print(type(int(3.5)))\n",
        "print(int(3.5))\n",
        "print(type(float(3)))\n",
        "print(float(3))\n",
        "print(type(str(3)))\n",
        "print(str(3))"
      ],
      "metadata": {
        "colab": {
          "base_uri": "https://localhost:8080/"
        },
        "id": "ZeUQ0mreAezL",
        "outputId": "517fd7f9-3c3d-4ede-90fd-93b44a079159"
      },
      "execution_count": 175,
      "outputs": [
        {
          "output_type": "stream",
          "name": "stdout",
          "text": [
            "<class 'int'>\n",
            "3\n",
            "<class 'float'>\n",
            "3.0\n",
            "<class 'str'>\n",
            "3\n"
          ]
        }
      ]
    },
    {
      "cell_type": "code",
      "source": [
        "x = input('Insert the number.')\n",
        "y = input('Insert the number.')\n",
        "print(x + y)\n",
        "print(type(x))\n",
        "print(type(y))"
      ],
      "metadata": {
        "id": "IPVPfh2lAk6Z"
      },
      "execution_count": null,
      "outputs": []
    },
    {
      "cell_type": "code",
      "source": [
        "# [10, 20, 15, 17, '철수'] # 감기가 걸려스\n",
        "l = [10, 20, 15, 17, None]\n",
        "len(l)"
      ],
      "metadata": {
        "colab": {
          "base_uri": "https://localhost:8080/"
        },
        "id": "i0qjpegDBcQu",
        "outputId": "138366fc-ab25-4b51-a84a-d81029ebf1e4"
      },
      "execution_count": 176,
      "outputs": [
        {
          "output_type": "execute_result",
          "data": {
            "text/plain": [
              "5"
            ]
          },
          "metadata": {},
          "execution_count": 176
        }
      ]
    },
    {
      "cell_type": "code",
      "source": [
        "sum([10, 20, 30, 40], 0)\n",
        "sum([10, 20, 30, 40], 100)\n",
        "sum([[1, 2, 3], [4, 5, 6], [7, 8, 9]], [])"
      ],
      "metadata": {
        "colab": {
          "base_uri": "https://localhost:8080/"
        },
        "id": "cAV0fjQeB938",
        "outputId": "6126fd88-f8c7-418a-f74a-9f6080d36ddb"
      },
      "execution_count": 180,
      "outputs": [
        {
          "output_type": "execute_result",
          "data": {
            "text/plain": [
              "[1, 2, 3, 4, 5, 6, 7, 8, 9]"
            ]
          },
          "metadata": {},
          "execution_count": 180
        }
      ]
    },
    {
      "cell_type": "code",
      "source": [
        "# 숫자 : 0외에 다른 숫자는 다 참\n",
        "# 문자 : ''외에 다른 문자는 다 참\n",
        "# 리스트 : []외에 다른 리스트는 다 참\n",
        "# None : False\n",
        "print(\"bool('test') : \", bool('test'))\n",
        "print(\"bool(1) : \", bool(1))\n",
        "print(\"bool(0) : \", bool(0))\n",
        "print(\"bool(-1) : \", bool(-1))\n",
        "print(\"bool(' ') : \", bool(' '))\n",
        "print(\"bool('') : \", bool(''))\n",
        "print(\"bool(None) : \", bool(None))"
      ],
      "metadata": {
        "colab": {
          "base_uri": "https://localhost:8080/"
        },
        "id": "GJGGMi1IA5-X",
        "outputId": "ee5c1992-e92c-4a45-d19e-97726cc28891"
      },
      "execution_count": 181,
      "outputs": [
        {
          "output_type": "stream",
          "name": "stdout",
          "text": [
            "bool('test') :  True\n",
            "bool(1) :  True\n",
            "bool(0) :  False\n",
            "bool(-1) :  True\n",
            "bool(' ') :  True\n",
            "bool('') :  False\n",
            "bool(None) :  False\n"
          ]
        }
      ]
    },
    {
      "cell_type": "code",
      "source": [
        "int()\n",
        "float()\n",
        "str()\n",
        "bool()\n",
        "list('leehojun')\n",
        "tuple()\n",
        "s = [('name','leehojun'),('age',10)]\n",
        "d = dict(s)\n",
        "d\n",
        "set('leehojun')"
      ],
      "metadata": {
        "colab": {
          "base_uri": "https://localhost:8080/"
        },
        "id": "pmDlSd16A1CT",
        "outputId": "a8e6af33-803f-401e-9549-0f8b7781df33"
      },
      "execution_count": 186,
      "outputs": [
        {
          "output_type": "execute_result",
          "data": {
            "text/plain": [
              "set"
            ]
          },
          "metadata": {},
          "execution_count": 186
        }
      ]
    },
    {
      "cell_type": "code",
      "source": [
        "#3번\n",
        "k = 100\n",
        "\n",
        "#5번\n",
        "a123 = 'abc'\n",
        "\n",
        "#6번\n",
        "_cola_ = 'drink'"
      ],
      "metadata": {
        "colab": {
          "base_uri": "https://localhost:8080/",
          "height": 35
        },
        "id": "DFWCPbbxGjDQ",
        "outputId": "05fec07d-e89b-4e50-c32e-48d525a41eff"
      },
      "execution_count": 188,
      "outputs": [
        {
          "output_type": "execute_result",
          "data": {
            "text/plain": [
              "'drink'"
            ],
            "application/vnd.google.colaboratory.intrinsic+json": {
              "type": "string"
            }
          },
          "metadata": {},
          "execution_count": 188
        }
      ]
    },
    {
      "cell_type": "code",
      "source": [
        "a = input()\n",
        "a + a"
      ],
      "metadata": {
        "id": "Zimut4VVG3OM"
      },
      "execution_count": null,
      "outputs": []
    },
    {
      "cell_type": "code",
      "source": [
        "num = 1234567890\n",
        "list(str(num))[3]"
      ],
      "metadata": {
        "colab": {
          "base_uri": "https://localhost:8080/",
          "height": 35
        },
        "id": "_MvLy7meG8sv",
        "outputId": "c5bce571-aa1a-46f3-9361-c77c3b562da3"
      },
      "execution_count": 191,
      "outputs": [
        {
          "output_type": "execute_result",
          "data": {
            "text/plain": [
              "'4'"
            ],
            "application/vnd.google.colaboratory.intrinsic+json": {
              "type": "string"
            }
          },
          "metadata": {},
          "execution_count": 191
        }
      ]
    },
    {
      "cell_type": "markdown",
      "source": [
        "## 산술연산자"
      ],
      "metadata": {
        "id": "XhJAAN194IIA"
      }
    },
    {
      "cell_type": "code",
      "source": [
        "a = 10\n",
        "b = 3\n",
        "\n",
        "print(a + b)\n",
        "print(a - b)\n",
        "print(a / b) # float\n",
        "print(a // b) # int\n",
        "print(a * b)\n",
        "print(a ** b)\n",
        "print(a % b) # 나머지"
      ],
      "metadata": {
        "colab": {
          "base_uri": "https://localhost:8080/"
        },
        "id": "9c5WZS6o4Hry",
        "outputId": "3e5b9698-0254-4450-e525-ac168cfb96ef"
      },
      "execution_count": 192,
      "outputs": [
        {
          "output_type": "stream",
          "name": "stdout",
          "text": [
            "13\n",
            "7\n",
            "3.3333333333333335\n",
            "3\n",
            "30\n",
            "1000\n",
            "1\n"
          ]
        }
      ]
    },
    {
      "cell_type": "markdown",
      "source": [
        "## 비교연산자"
      ],
      "metadata": {
        "id": "44yE7Ij9IYX_"
      }
    },
    {
      "cell_type": "code",
      "source": [
        "a = 10\n",
        "b = 3\n",
        "\n",
        "print(a == b) # 같은가?\n",
        "print(a != b) # 다른가?\n",
        "print(a > b)\n",
        "print(a >= b)\n",
        "print(a < b)\n",
        "print(a <= b)"
      ],
      "metadata": {
        "colab": {
          "base_uri": "https://localhost:8080/"
        },
        "id": "a2PA0eRFIDQN",
        "outputId": "ed2ab8d0-01a0-4e5c-848e-a2e95b55b8ed"
      },
      "execution_count": 193,
      "outputs": [
        {
          "output_type": "stream",
          "name": "stdout",
          "text": [
            "False\n",
            "True\n",
            "True\n",
            "True\n",
            "False\n",
            "False\n"
          ]
        }
      ]
    },
    {
      "cell_type": "markdown",
      "source": [
        "## 논리연산"
      ],
      "metadata": {
        "id": "Cs0q5zLcI3Hn"
      }
    },
    {
      "cell_type": "code",
      "source": [
        "# True : 1\n",
        "# False : 0\n",
        "# and : 논리곱\n",
        "# or : 논리합\n",
        "# not : 부정 "
      ],
      "metadata": {
        "id": "hSfT2S-aInI0"
      },
      "execution_count": null,
      "outputs": []
    },
    {
      "cell_type": "code",
      "source": [
        "# True and False\n",
        "# 둘 중 하나라도 False라면 False\n",
        "# and는 위와 같은 속성 때문에 \n",
        "# 둘 다 만족해야하는 '조건'에 사용합니다.\n",
        "\n",
        "for i in range(101):\n",
        "    if i % 3 == 0 and i % 5 == 0:\n",
        "        print(i)\n",
        "\n",
        "# for i in range(101):\n",
        "#     if i % 3 == 0:\n",
        "#         if i % 5 == 0:\n",
        "#             print(i)"
      ],
      "metadata": {
        "colab": {
          "base_uri": "https://localhost:8080/"
        },
        "id": "150s2DkoJPLs",
        "outputId": "9ea69369-44cc-4e10-8e29-6c891c794172"
      },
      "execution_count": 196,
      "outputs": [
        {
          "output_type": "stream",
          "name": "stdout",
          "text": [
            "0\n",
            "15\n",
            "30\n",
            "45\n",
            "60\n",
            "75\n",
            "90\n"
          ]
        }
      ]
    },
    {
      "cell_type": "code",
      "source": [
        "# True or False\n",
        "# 둘 중 하나라도 True라면 True\n",
        "# and는 위와 같은 속성 때문에 \n",
        "# 둘 다 만족해야하는 '조건'에 사용합니다.\n",
        "\n",
        "for i in range(101):\n",
        "    if i % 3 == 0 or i % 5 == 0:\n",
        "        print(i)"
      ],
      "metadata": {
        "id": "IYzp8fKxKtkG"
      },
      "execution_count": null,
      "outputs": []
    },
    {
      "cell_type": "code",
      "source": [
        "for i in range(101):\n",
        "    if i % 3 == 0 and i % 5 == 0 or i % 2 == 0:\n",
        "        print(i)\n",
        "\n",
        "for i in range(101):\n",
        "    if (i % 3 == 0 and i % 5 == 0) or i % 2 == 0:\n",
        "        print(i)"
      ],
      "metadata": {
        "id": "upDIG6wfKGoa"
      },
      "execution_count": null,
      "outputs": []
    },
    {
      "cell_type": "code",
      "source": [
        "for i in range(101):\n",
        "    if i % 3 == 0 or (i % 5 == 0 and i % 2 == 0):\n",
        "        print(i)\n",
        "\n",
        "for i in range(101):\n",
        "    if i % 3 == 0 or i % 5 == 0 and i % 2 == 0:\n",
        "        print(i)"
      ],
      "metadata": {
        "id": "LTraJx0TKTbY"
      },
      "execution_count": null,
      "outputs": []
    },
    {
      "cell_type": "code",
      "source": [
        "10 and 20"
      ],
      "metadata": {
        "colab": {
          "base_uri": "https://localhost:8080/"
        },
        "id": "26TJ6b3DMNcu",
        "outputId": "534a8b52-01be-4a9b-9e04-32f20030072a"
      },
      "execution_count": 205,
      "outputs": [
        {
          "output_type": "execute_result",
          "data": {
            "text/plain": [
              "20"
            ]
          },
          "metadata": {},
          "execution_count": 205
        }
      ]
    },
    {
      "cell_type": "code",
      "source": [
        "10 and 20"
      ],
      "metadata": {
        "id": "rgVD83rEMp8A"
      },
      "execution_count": null,
      "outputs": []
    },
    {
      "cell_type": "code",
      "source": [
        "0 and 20"
      ],
      "metadata": {
        "colab": {
          "base_uri": "https://localhost:8080/"
        },
        "id": "adbWGFQgMUYh",
        "outputId": "33d88827-10ae-4621-b781-c62d952b9f81"
      },
      "execution_count": 208,
      "outputs": [
        {
          "output_type": "execute_result",
          "data": {
            "text/plain": [
              "0"
            ]
          },
          "metadata": {},
          "execution_count": 208
        }
      ]
    },
    {
      "cell_type": "code",
      "source": [
        "username = 'jaehyeok'\n",
        "\n",
        "username = username or 'leehojun'\n",
        "username"
      ],
      "metadata": {
        "colab": {
          "base_uri": "https://localhost:8080/",
          "height": 35
        },
        "id": "VmKqj0vrM7H4",
        "outputId": "09acff09-d5e2-4c87-e1dc-3f1d2113019d"
      },
      "execution_count": 210,
      "outputs": [
        {
          "output_type": "execute_result",
          "data": {
            "text/plain": [
              "'minsu'"
            ],
            "application/vnd.google.colaboratory.intrinsic+json": {
              "type": "string"
            }
          },
          "metadata": {},
          "execution_count": 210
        }
      ]
    },
    {
      "cell_type": "code",
      "source": [
        "a = 10 and 20\n",
        "print(a)"
      ],
      "metadata": {
        "colab": {
          "base_uri": "https://localhost:8080/"
        },
        "id": "0_6Km3SDNd-4",
        "outputId": "a64cd804-ba43-4cf6-d603-26833e8df35b"
      },
      "execution_count": 211,
      "outputs": [
        {
          "output_type": "stream",
          "name": "stdout",
          "text": [
            "20\n"
          ]
        }
      ]
    },
    {
      "cell_type": "code",
      "source": [
        "a = '' and 'leehojun'\n",
        "print(a)"
      ],
      "metadata": {
        "colab": {
          "base_uri": "https://localhost:8080/"
        },
        "id": "jkrw9P2wNq5v",
        "outputId": "b1420172-ec90-4144-87c2-2ba497996789"
      },
      "execution_count": 212,
      "outputs": [
        {
          "output_type": "stream",
          "name": "stdout",
          "text": [
            "\n"
          ]
        }
      ]
    },
    {
      "cell_type": "code",
      "source": [
        "not True"
      ],
      "metadata": {
        "colab": {
          "base_uri": "https://localhost:8080/"
        },
        "id": "1GkKG672N66h",
        "outputId": "d2c44257-4973-42ac-e780-3e6a30438db9"
      },
      "execution_count": 213,
      "outputs": [
        {
          "output_type": "execute_result",
          "data": {
            "text/plain": [
              "False"
            ]
          },
          "metadata": {},
          "execution_count": 213
        }
      ]
    },
    {
      "cell_type": "code",
      "source": [
        "not False"
      ],
      "metadata": {
        "colab": {
          "base_uri": "https://localhost:8080/"
        },
        "id": "cfgZpGDoO2Kt",
        "outputId": "30020153-3332-4898-afcf-44139d948de3"
      },
      "execution_count": 214,
      "outputs": [
        {
          "output_type": "execute_result",
          "data": {
            "text/plain": [
              "True"
            ]
          },
          "metadata": {},
          "execution_count": 214
        }
      ]
    },
    {
      "cell_type": "code",
      "source": [
        "def err():\n",
        "    1/0\n",
        "\n",
        "test = 0 and err()\n",
        "test"
      ],
      "metadata": {
        "colab": {
          "base_uri": "https://localhost:8080/"
        },
        "id": "KGTCqbpzO4CC",
        "outputId": "95ef3b22-4958-4105-d8d5-751f99160c19"
      },
      "execution_count": 220,
      "outputs": [
        {
          "output_type": "execute_result",
          "data": {
            "text/plain": [
              "0"
            ]
          },
          "metadata": {},
          "execution_count": 220
        }
      ]
    },
    {
      "cell_type": "code",
      "source": [
        "test = 10 or err()\n",
        "test"
      ],
      "metadata": {
        "colab": {
          "base_uri": "https://localhost:8080/"
        },
        "id": "EPIOtbfRPFLg",
        "outputId": "f73d40aa-5a5c-4916-e58d-5d2fb02c02cb"
      },
      "execution_count": 218,
      "outputs": [
        {
          "output_type": "execute_result",
          "data": {
            "text/plain": [
              "10"
            ]
          },
          "metadata": {},
          "execution_count": 218
        }
      ]
    },
    {
      "cell_type": "code",
      "source": [
        "# test = 10 and err() # error\n",
        "# test"
      ],
      "metadata": {
        "id": "AHxXVtE2PPbY"
      },
      "execution_count": null,
      "outputs": []
    },
    {
      "cell_type": "markdown",
      "source": [
        "## 비트연산 (중요도 하)"
      ],
      "metadata": {
        "id": "FsSkKlT2ToX5"
      }
    },
    {
      "cell_type": "code",
      "source": [
        "# Tip\n",
        "# 가장 가까운 2에 승수를 구합니다.\n",
        "# 거기에서 +-하시면 됩니다.\n",
        "\n",
        "7 & 5\n",
        "\n",
        "#  111\n",
        "#  101\n",
        "# ----\n",
        "#  101"
      ],
      "metadata": {
        "colab": {
          "base_uri": "https://localhost:8080/"
        },
        "id": "hUgb82soTr6f",
        "outputId": "14ee8036-6807-44a5-dd2c-2cd617ca082c"
      },
      "execution_count": 230,
      "outputs": [
        {
          "output_type": "execute_result",
          "data": {
            "text/plain": [
              "5"
            ]
          },
          "metadata": {},
          "execution_count": 230
        }
      ]
    },
    {
      "cell_type": "code",
      "source": [
        "7 | 5\n",
        "\n",
        "#  111\n",
        "#  101\n",
        "# ----\n",
        "#  111"
      ],
      "metadata": {
        "colab": {
          "base_uri": "https://localhost:8080/"
        },
        "id": "yGMoClm0UlLg",
        "outputId": "e44b7a01-4ca9-45e3-a475-1c5454559f59"
      },
      "execution_count": 231,
      "outputs": [
        {
          "output_type": "execute_result",
          "data": {
            "text/plain": [
              "7"
            ]
          },
          "metadata": {},
          "execution_count": 231
        }
      ]
    },
    {
      "cell_type": "code",
      "source": [
        "# 문제\n",
        "14 | 7\n",
        "\n",
        "# 1110\n",
        "# 0111\n",
        "# ----\n",
        "# 1111"
      ],
      "metadata": {
        "colab": {
          "base_uri": "https://localhost:8080/"
        },
        "id": "hhzOOIY7U3RV",
        "outputId": "5e7ba118-bc6b-4292-e7a7-4917b74451d4"
      },
      "execution_count": 233,
      "outputs": [
        {
          "output_type": "execute_result",
          "data": {
            "text/plain": [
              "15"
            ]
          },
          "metadata": {},
          "execution_count": 233
        }
      ]
    },
    {
      "cell_type": "code",
      "source": [
        "# 8bit\n",
        "\n",
        "# 00000000\n",
        "# 11111111\n",
        "\n",
        "# 256개\n",
        "# 0 ~ 255까지 사용? 음수사용 불가!\n",
        "# 그래서 부호비트를 사용하는데\n",
        "# ~는 비트단위로 전환을 하는 것입니다.\n",
        "\n",
        "# 00001010 (10) -> not을 취하게 되면\n",
        "# 11110110 (-10)-> 위와 숫자를 더하게 되면\n",
        "# 00000000\n",
        "\n",
        "~-10"
      ],
      "metadata": {
        "colab": {
          "base_uri": "https://localhost:8080/"
        },
        "id": "-0RjwE7SV7XG",
        "outputId": "8d1d7fc6-0f3b-4deb-a04f-6404da555d6f"
      },
      "execution_count": 236,
      "outputs": [
        {
          "output_type": "execute_result",
          "data": {
            "text/plain": [
              "9"
            ]
          },
          "metadata": {},
          "execution_count": 236
        }
      ]
    },
    {
      "cell_type": "code",
      "source": [
        "~10"
      ],
      "metadata": {
        "colab": {
          "base_uri": "https://localhost:8080/"
        },
        "id": "HHXLO6KOXHgb",
        "outputId": "46453199-010d-4a8d-c735-b216f784b94f"
      },
      "execution_count": 241,
      "outputs": [
        {
          "output_type": "execute_result",
          "data": {
            "text/plain": [
              "-11"
            ]
          },
          "metadata": {},
          "execution_count": 241
        }
      ]
    },
    {
      "cell_type": "code",
      "source": [
        "~~-10"
      ],
      "metadata": {
        "colab": {
          "base_uri": "https://localhost:8080/"
        },
        "id": "W3jGH4WRWsIy",
        "outputId": "11b46205-4aab-4086-c148-beb3efb0803b"
      },
      "execution_count": 237,
      "outputs": [
        {
          "output_type": "execute_result",
          "data": {
            "text/plain": [
              "-10"
            ]
          },
          "metadata": {},
          "execution_count": 237
        }
      ]
    },
    {
      "cell_type": "code",
      "source": [
        "# 모르셔도 괜찮습니다.\n",
        "# Python에서는 error\n",
        "~~10.1 # 이렇게 했을 경우에 10이 출력되는 언어도 있습니다."
      ],
      "metadata": {
        "id": "Iua9phIaWuWD"
      },
      "execution_count": null,
      "outputs": []
    },
    {
      "cell_type": "code",
      "source": [
        "a = 7\n",
        "b = 2\n",
        "\n",
        "print(a << b)"
      ],
      "metadata": {
        "colab": {
          "base_uri": "https://localhost:8080/"
        },
        "id": "MTqEzJ5qYbGM",
        "outputId": "53e5312c-8de1-4e98-dae1-babdd35b52e8"
      },
      "execution_count": 242,
      "outputs": [
        {
          "output_type": "stream",
          "name": "stdout",
          "text": [
            "28\n"
          ]
        }
      ]
    },
    {
      "cell_type": "code",
      "source": [
        "a = 7\n",
        "b = 1\n",
        "\n",
        "print(a >> b)"
      ],
      "metadata": {
        "colab": {
          "base_uri": "https://localhost:8080/"
        },
        "id": "gXKCIr7ZZFBj",
        "outputId": "5b008b73-0fc6-41d5-e980-a0f7fa7b9db9"
      },
      "execution_count": 244,
      "outputs": [
        {
          "output_type": "stream",
          "name": "stdout",
          "text": [
            "3\n"
          ]
        }
      ]
    },
    {
      "cell_type": "markdown",
      "source": [
        "## 아름다운 코드\n",
        "\n",
        "* 잠 깨는 시간입니다. 참고삼아서만 보시고 나중에 이러한 코드들을 많이 하겠습니다."
      ],
      "metadata": {
        "id": "HDM5wd1cZ8us"
      }
    },
    {
      "cell_type": "code",
      "source": [
        "#데이터 분석에서 쓰일만한 데코레이터\n",
        "def 숫자로변환(func):\n",
        "    def new_func(l):\n",
        "        print(func(list(map(int, l))))\n",
        "    return new_func\n",
        "\n",
        "@숫자로변환\n",
        "def 평균(l):\n",
        "    return sum(l) / len(l)\n",
        "\n",
        "평균([1, 2, 3, 4, 5])\n",
        "평균(['1', '2', '3', 4, 5])\n",
        "평균(['1', '2', '3', '4', '5'])"
      ],
      "metadata": {
        "colab": {
          "base_uri": "https://localhost:8080/"
        },
        "id": "grxp59crZgsM",
        "outputId": "266388df-9007-4750-cc3e-162b119421cb"
      },
      "execution_count": 247,
      "outputs": [
        {
          "output_type": "stream",
          "name": "stdout",
          "text": [
            "3.0\n",
            "3.0\n",
            "3.0\n"
          ]
        }
      ]
    },
    {
      "cell_type": "code",
      "source": [
        "d = {'one':10, 'two':20, 'three':30}\n",
        "d.values()\n",
        "max(d.values())\n",
        "max(d, key=d.get)"
      ],
      "metadata": {
        "colab": {
          "base_uri": "https://localhost:8080/",
          "height": 35
        },
        "id": "bGT8HRCrhO-i",
        "outputId": "b32b30cf-50d8-452f-b7ac-99706c7c8a64"
      },
      "execution_count": 272,
      "outputs": [
        {
          "output_type": "execute_result",
          "data": {
            "text/plain": [
              "'three'"
            ],
            "application/vnd.google.colaboratory.intrinsic+json": {
              "type": "string"
            }
          },
          "metadata": {},
          "execution_count": 272
        }
      ]
    },
    {
      "cell_type": "markdown",
      "source": [
        "# 할당연산"
      ],
      "metadata": {
        "id": "h7TEuMmXZeh6"
      }
    },
    {
      "cell_type": "code",
      "source": [
        "a = 10\n",
        "a = a + 10\n",
        "a"
      ],
      "metadata": {
        "colab": {
          "base_uri": "https://localhost:8080/"
        },
        "id": "GVpZktO8bqmg",
        "outputId": "05db6b00-0231-4577-c748-ffaa68a6c1df"
      },
      "execution_count": 248,
      "outputs": [
        {
          "output_type": "execute_result",
          "data": {
            "text/plain": [
              "20"
            ]
          },
          "metadata": {},
          "execution_count": 248
        }
      ]
    },
    {
      "cell_type": "code",
      "source": [
        "a = 10\n",
        "a = + 10\n",
        "a"
      ],
      "metadata": {
        "colab": {
          "base_uri": "https://localhost:8080/"
        },
        "id": "Wf0jHcRab1tn",
        "outputId": "337c0791-6c7d-4426-9907-cf6ca3295d97"
      },
      "execution_count": 250,
      "outputs": [
        {
          "output_type": "execute_result",
          "data": {
            "text/plain": [
              "10"
            ]
          },
          "metadata": {},
          "execution_count": 250
        }
      ]
    },
    {
      "cell_type": "code",
      "source": [
        "a = 10\n",
        "a += 10\n",
        "a"
      ],
      "metadata": {
        "colab": {
          "base_uri": "https://localhost:8080/"
        },
        "id": "F2kZZmZhb8mL",
        "outputId": "22c95a31-6028-4f57-fb5a-6643f46160a0"
      },
      "execution_count": 251,
      "outputs": [
        {
          "output_type": "execute_result",
          "data": {
            "text/plain": [
              "20"
            ]
          },
          "metadata": {},
          "execution_count": 251
        }
      ]
    },
    {
      "cell_type": "markdown",
      "source": [
        "# 식별연산"
      ],
      "metadata": {
        "id": "NTD1pPxWcQcV"
      }
    },
    {
      "cell_type": "code",
      "source": [
        "a = 10\n",
        "b = 10\n",
        "print(id(a), id(b))\n",
        "\n",
        "a is b"
      ],
      "metadata": {
        "colab": {
          "base_uri": "https://localhost:8080/"
        },
        "id": "fwOlYxV5cSJK",
        "outputId": "0df7aca8-cb0e-4af5-971f-e14ddfed37b3"
      },
      "execution_count": 254,
      "outputs": [
        {
          "output_type": "stream",
          "name": "stdout",
          "text": [
            "140681353796176 140681353796176\n"
          ]
        },
        {
          "output_type": "execute_result",
          "data": {
            "text/plain": [
              "True"
            ]
          },
          "metadata": {},
          "execution_count": 254
        }
      ]
    },
    {
      "cell_type": "code",
      "source": [
        "a = 999\n",
        "b = 999\n",
        "print(id(a), id(b))\n",
        "\n",
        "a is b"
      ],
      "metadata": {
        "colab": {
          "base_uri": "https://localhost:8080/"
        },
        "id": "IJ5qKAcPcZ76",
        "outputId": "95f287e1-280d-41f2-d3ec-7b2f6eba4590"
      },
      "execution_count": 255,
      "outputs": [
        {
          "output_type": "stream",
          "name": "stdout",
          "text": [
            "140680087039536 140680086582224\n"
          ]
        },
        {
          "output_type": "execute_result",
          "data": {
            "text/plain": [
              "False"
            ]
          },
          "metadata": {},
          "execution_count": 255
        }
      ]
    },
    {
      "cell_type": "code",
      "source": [
        "a = [1, 2, 3]\n",
        "b = [1, 2, 3]\n",
        "\n",
        "print(id(a), id(b))\n",
        "\n",
        "a is b, a is not b"
      ],
      "metadata": {
        "colab": {
          "base_uri": "https://localhost:8080/"
        },
        "id": "gk8dUpCsclCZ",
        "outputId": "d2ca2908-12f7-4138-b541-602d65dd3270"
      },
      "execution_count": 261,
      "outputs": [
        {
          "output_type": "stream",
          "name": "stdout",
          "text": [
            "140680086634048 140680086630592\n"
          ]
        },
        {
          "output_type": "execute_result",
          "data": {
            "text/plain": [
              "(False, True)"
            ]
          },
          "metadata": {},
          "execution_count": 261
        }
      ]
    },
    {
      "cell_type": "code",
      "source": [
        "a == b # 메모리 주소가 아니라 값만 비교하게 됩니다."
      ],
      "metadata": {
        "colab": {
          "base_uri": "https://localhost:8080/"
        },
        "id": "4zSYrNUecsh7",
        "outputId": "e4be9dbe-a03d-4805-a240-944ae5bb6458"
      },
      "execution_count": 258,
      "outputs": [
        {
          "output_type": "execute_result",
          "data": {
            "text/plain": [
              "True"
            ]
          },
          "metadata": {},
          "execution_count": 258
        }
      ]
    },
    {
      "cell_type": "code",
      "source": [
        "coffee = \"Brand\"\n",
        "orange = \"Brand\"\n",
        "\n",
        "print(coffee is orange)\n",
        "print(coffee == orange)"
      ],
      "metadata": {
        "colab": {
          "base_uri": "https://localhost:8080/"
        },
        "id": "C7ns8aFtdhjh",
        "outputId": "e393dfd5-8e1c-4cc2-8ce1-8e1920d6fc8f"
      },
      "execution_count": 259,
      "outputs": [
        {
          "output_type": "stream",
          "name": "stdout",
          "text": [
            "True\n",
            "True\n"
          ]
        }
      ]
    },
    {
      "cell_type": "markdown",
      "source": [
        "## 멤버연산"
      ],
      "metadata": {
        "id": "VfG_vYpleGU3"
      }
    },
    {
      "cell_type": "code",
      "source": [
        "10 in [1, 2, 3]"
      ],
      "metadata": {
        "colab": {
          "base_uri": "https://localhost:8080/"
        },
        "id": "Mc9XZLZ4eIzq",
        "outputId": "e77f3abb-c2e2-453c-91e4-4c40443a1578"
      },
      "execution_count": 262,
      "outputs": [
        {
          "output_type": "execute_result",
          "data": {
            "text/plain": [
              "False"
            ]
          },
          "metadata": {},
          "execution_count": 262
        }
      ]
    },
    {
      "cell_type": "code",
      "source": [
        "10 in [1, 2, 3, 10]"
      ],
      "metadata": {
        "colab": {
          "base_uri": "https://localhost:8080/"
        },
        "id": "9eVoJHbzeMlQ",
        "outputId": "5604c321-3277-4aad-f1ef-3d258ae5c3e4"
      },
      "execution_count": 263,
      "outputs": [
        {
          "output_type": "execute_result",
          "data": {
            "text/plain": [
              "True"
            ]
          },
          "metadata": {},
          "execution_count": 263
        }
      ]
    },
    {
      "cell_type": "code",
      "source": [
        "'one' in {'one':10, 'two':20}"
      ],
      "metadata": {
        "colab": {
          "base_uri": "https://localhost:8080/"
        },
        "id": "vAWUqwb5eOeR",
        "outputId": "08eeca6f-6254-4b45-c6b0-2e9e4fb320bb"
      },
      "execution_count": 264,
      "outputs": [
        {
          "output_type": "execute_result",
          "data": {
            "text/plain": [
              "True"
            ]
          },
          "metadata": {},
          "execution_count": 264
        }
      ]
    },
    {
      "cell_type": "code",
      "source": [
        "20 in {'one':10, 'two':20}"
      ],
      "metadata": {
        "colab": {
          "base_uri": "https://localhost:8080/"
        },
        "id": "pp0COiKUeY9p",
        "outputId": "4550dea1-6c78-4ae9-e736-b12b72545e8f"
      },
      "execution_count": 265,
      "outputs": [
        {
          "output_type": "execute_result",
          "data": {
            "text/plain": [
              "False"
            ]
          },
          "metadata": {},
          "execution_count": 265
        }
      ]
    },
    {
      "cell_type": "code",
      "source": [
        "'l' in 'hello'"
      ],
      "metadata": {
        "colab": {
          "base_uri": "https://localhost:8080/"
        },
        "id": "edDRiDgBg6dk",
        "outputId": "9f092c6c-f3b6-4ae1-d664-ccc6b6121daa"
      },
      "execution_count": 266,
      "outputs": [
        {
          "output_type": "execute_result",
          "data": {
            "text/plain": [
              "True"
            ]
          },
          "metadata": {},
          "execution_count": 266
        }
      ]
    },
    {
      "cell_type": "code",
      "source": [
        "10 in {10, 20, 30}"
      ],
      "metadata": {
        "colab": {
          "base_uri": "https://localhost:8080/"
        },
        "id": "MBE0BE-tg_pz",
        "outputId": "a91a14fe-5e3f-4a7a-e8f8-191e2b0bb9de"
      },
      "execution_count": 273,
      "outputs": [
        {
          "output_type": "execute_result",
          "data": {
            "text/plain": [
              "True"
            ]
          },
          "metadata": {},
          "execution_count": 273
        }
      ]
    },
    {
      "cell_type": "code",
      "source": [
        "{10} in {10, 20, 30}"
      ],
      "metadata": {
        "colab": {
          "base_uri": "https://localhost:8080/"
        },
        "id": "nRGQwQ9eiVN3",
        "outputId": "a7097891-39a9-4da0-c424-b8603310a8cc"
      },
      "execution_count": 274,
      "outputs": [
        {
          "output_type": "execute_result",
          "data": {
            "text/plain": [
              "False"
            ]
          },
          "metadata": {},
          "execution_count": 274
        }
      ]
    },
    {
      "cell_type": "code",
      "source": [
        "{10, 20} in {10, 20, 30} "
      ],
      "metadata": {
        "colab": {
          "base_uri": "https://localhost:8080/"
        },
        "id": "igP7riVRimVO",
        "outputId": "4df99d5a-f70c-4cfb-c565-2796b792d7e1"
      },
      "execution_count": 275,
      "outputs": [
        {
          "output_type": "execute_result",
          "data": {
            "text/plain": [
              "False"
            ]
          },
          "metadata": {},
          "execution_count": 275
        }
      ]
    },
    {
      "cell_type": "code",
      "source": [
        "a = {'key':'value', 'key2':'value'}\n",
        "'key' in a"
      ],
      "metadata": {
        "colab": {
          "base_uri": "https://localhost:8080/"
        },
        "id": "H0yD9fXpivR5",
        "outputId": "dbea6647-7d2c-4ee5-f5fe-ea30d3009867"
      },
      "execution_count": 279,
      "outputs": [
        {
          "output_type": "execute_result",
          "data": {
            "text/plain": [
              "True"
            ]
          },
          "metadata": {},
          "execution_count": 279
        }
      ]
    },
    {
      "cell_type": "markdown",
      "source": [
        "## 그리디 알고리즘\n",
        "\n",
        "* 욕심쟁이 알고리즘이라고 불립니다.\n",
        "* 가장 최선을 선택한 것이 최종적으로도 가장 최선의 선택임"
      ],
      "metadata": {
        "id": "KV_fq-frjn7u"
      }
    },
    {
      "cell_type": "code",
      "source": [
        "# 10000원을 들고 가서 1200원짜리 아이스크림 먹었을 때 잔돈의 갯수가 가장 적은 경우를 구하라\n",
        "잔돈 = 8800\n",
        "\n",
        "오천원갯수 = 잔돈 // 5000\n",
        "잔돈 = 잔돈 - 오천원갯수 * 5000\n",
        "\n",
        "천원의갯수 = 잔돈 // 1000\n",
        "잔돈 = 잔돈 - 천원의갯수 * 1000\n",
        "\n",
        "오백원갯수 = 잔돈 // 500\n",
        "잔돈 = 잔돈 - 오백원갯수 * 500\n",
        "\n",
        "백원갯수 = 잔돈 // 100\n",
        "잔돈 = 잔돈 - 백원갯수 * 100\n",
        "\n",
        "print(f'오천원은 {오천원갯수}개, \\\n",
        "천원은 {천원의갯수}개, \\\n",
        "오백원은 {오백원갯수}개, \\\n",
        "백원 {백원갯수}개를 거슬러 드립니다.')"
      ],
      "metadata": {
        "colab": {
          "base_uri": "https://localhost:8080/"
        },
        "id": "kssqYOldjv1m",
        "outputId": "d3f90034-913a-4e77-b0f1-3433470be016"
      },
      "execution_count": 290,
      "outputs": [
        {
          "output_type": "stream",
          "name": "stdout",
          "text": [
            "오천원은 1개, 천원은 3개, 오백원은 1개, 백원 3개를 거슬러 드립니다.\n"
          ]
        }
      ]
    },
    {
      "cell_type": "code",
      "source": [
        "# 10000원을 들고 가서 1200원짜리 아이스크림 먹었을 때 잔돈의 갯수가 가장 적은 경우를 구하라\n",
        "잔돈 = 8800\n",
        "\n",
        "오천원갯수 = 잔돈 // 5000\n",
        "잔돈 = 잔돈 - 오천원갯수 * 5000\n",
        "\n",
        "천원의갯수 = 잔돈 // 1000\n",
        "잔돈 = 잔돈 - 천원의갯수 * 1000\n",
        "\n",
        "오백원갯수 = 잔돈 // 500\n",
        "잔돈 = 잔돈 - 오백원갯수 * 500\n",
        "\n",
        "백원갯수 = 잔돈 // 100\n",
        "잔돈 = 잔돈 - 백원갯수 * 100\n",
        "\n",
        "print(f'오천원은 {오천원갯수}개, \\\n",
        "천원은 {천원의갯수}개, \\\n",
        "오백원은 {오백원갯수}개, \\\n",
        "백원 {백원갯수}개를 거슬러 드립니다.')"
      ],
      "metadata": {
        "colab": {
          "base_uri": "https://localhost:8080/"
        },
        "id": "YkgDmzZ5mF9o",
        "outputId": "a50b4a1d-1db4-4d28-d343-025fbc6937e8"
      },
      "execution_count": 293,
      "outputs": [
        {
          "output_type": "stream",
          "name": "stdout",
          "text": [
            "오천원은 1개, 천원은 3개, 오백원은 1개, 백원 3개를 거슬러 드립니다.\n"
          ]
        },
        {
          "output_type": "execute_result",
          "data": {
            "text/plain": [
              "(10, 20, 30, 40, 50)"
            ]
          },
          "metadata": {},
          "execution_count": 293
        }
      ]
    }
  ]
}